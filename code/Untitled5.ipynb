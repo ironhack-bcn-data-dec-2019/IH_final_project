{
 "cells": [
  {
   "cell_type": "code",
   "execution_count": 1,
   "metadata": {},
   "outputs": [],
   "source": [
    "import pandas as pd\n",
    "import numpy as np\n",
    "\n",
    "# Word2Vec embedding\n",
    "import fse\n",
    "from fse import IndexedList\n",
    "import gensim.downloader as api\n",
    "from fse.models import uSIF\n",
    "from fse import IndexedList"
   ]
  },
  {
   "cell_type": "code",
   "execution_count": 2,
   "metadata": {},
   "outputs": [
    {
     "data": {
      "text/html": [
       "<div>\n",
       "<style scoped>\n",
       "    .dataframe tbody tr th:only-of-type {\n",
       "        vertical-align: middle;\n",
       "    }\n",
       "\n",
       "    .dataframe tbody tr th {\n",
       "        vertical-align: top;\n",
       "    }\n",
       "\n",
       "    .dataframe thead th {\n",
       "        text-align: right;\n",
       "    }\n",
       "</style>\n",
       "<table border=\"1\" class=\"dataframe\">\n",
       "  <thead>\n",
       "    <tr style=\"text-align: right;\">\n",
       "      <th></th>\n",
       "      <th>name</th>\n",
       "      <th>review_stars</th>\n",
       "      <th>cleaned_text</th>\n",
       "      <th>sent_rating</th>\n",
       "      <th>uid</th>\n",
       "    </tr>\n",
       "  </thead>\n",
       "  <tbody>\n",
       "    <tr>\n",
       "      <td>0</td>\n",
       "      <td>Deagan's Kitchen &amp; Bar</td>\n",
       "      <td>5</td>\n",
       "      <td>we walked into melt did you want to put your n...</td>\n",
       "      <td>3.505159</td>\n",
       "      <td>0</td>\n",
       "    </tr>\n",
       "    <tr>\n",
       "      <td>1</td>\n",
       "      <td>Deagan's Kitchen &amp; Bar</td>\n",
       "      <td>4</td>\n",
       "      <td>brunch on saturday was excellent the bloody ma...</td>\n",
       "      <td>3.800000</td>\n",
       "      <td>1</td>\n",
       "    </tr>\n",
       "    <tr>\n",
       "      <td>2</td>\n",
       "      <td>Deagan's Kitchen &amp; Bar</td>\n",
       "      <td>4</td>\n",
       "      <td>great food great atmosphere great service some...</td>\n",
       "      <td>3.587500</td>\n",
       "      <td>2</td>\n",
       "    </tr>\n",
       "    <tr>\n",
       "      <td>3</td>\n",
       "      <td>Deagan's Kitchen &amp; Bar</td>\n",
       "      <td>3</td>\n",
       "      <td>had a saturday evening dinner with friends goi...</td>\n",
       "      <td>3.436378</td>\n",
       "      <td>3</td>\n",
       "    </tr>\n",
       "    <tr>\n",
       "      <td>4</td>\n",
       "      <td>Deagan's Kitchen &amp; Bar</td>\n",
       "      <td>2</td>\n",
       "      <td>i haven't been here for years i'm not from thi...</td>\n",
       "      <td>2.981408</td>\n",
       "      <td>4</td>\n",
       "    </tr>\n",
       "  </tbody>\n",
       "</table>\n",
       "</div>"
      ],
      "text/plain": [
       "                     name  review_stars  \\\n",
       "0  Deagan's Kitchen & Bar             5   \n",
       "1  Deagan's Kitchen & Bar             4   \n",
       "2  Deagan's Kitchen & Bar             4   \n",
       "3  Deagan's Kitchen & Bar             3   \n",
       "4  Deagan's Kitchen & Bar             2   \n",
       "\n",
       "                                        cleaned_text  sent_rating  uid  \n",
       "0  we walked into melt did you want to put your n...     3.505159    0  \n",
       "1  brunch on saturday was excellent the bloody ma...     3.800000    1  \n",
       "2  great food great atmosphere great service some...     3.587500    2  \n",
       "3  had a saturday evening dinner with friends goi...     3.436378    3  \n",
       "4  i haven't been here for years i'm not from thi...     2.981408    4  "
      ]
     },
     "execution_count": 2,
     "metadata": {},
     "output_type": "execute_result"
    }
   ],
   "source": [
    "reviews = pd.read_csv('../data/reviews_filtered.csv')\n",
    "reviews.head()"
   ]
  },
  {
   "cell_type": "code",
   "execution_count": 3,
   "metadata": {},
   "outputs": [],
   "source": [
    "# Split each word for each review\n",
    "sentences = reviews['cleaned_text'].apply(lambda x: x.split(' ')).to_list()"
   ]
  },
  {
   "cell_type": "code",
   "execution_count": 4,
   "metadata": {},
   "outputs": [],
   "source": [
    "# Load GloVe and model\n",
    "glove = api.load(\"glove-wiki-gigaword-100\")\n",
    "model = uSIF(glove, workers=2, lang_freq=\"en\")"
   ]
  },
  {
   "cell_type": "code",
   "execution_count": 5,
   "metadata": {},
   "outputs": [
    {
     "data": {
      "text/plain": [
       "(320579, 48673561)"
      ]
     },
     "execution_count": 5,
     "metadata": {},
     "output_type": "execute_result"
    }
   ],
   "source": [
    "s = IndexedList(sentences)\n",
    "model.train(s)"
   ]
  },
  {
   "cell_type": "code",
   "execution_count": 6,
   "metadata": {},
   "outputs": [],
   "source": [
    "matrix = []\n",
    "for i in range(reviews.shape[0]):\n",
    "    matrix.append(model.sv[i])\n",
    "    \n",
    "vector_df = pd.DataFrame(matrix)\n",
    "del matrix"
   ]
  },
  {
   "cell_type": "code",
   "execution_count": null,
   "metadata": {},
   "outputs": [],
   "source": [
    "from sklearn.metrics.pairwise import cosine_similarity\n",
    "from scipy.sparse import csr_matrix\n",
    "import scipy.sparse as sp\n",
    "\n",
    "matrix = csr_matrix(( vector_df.shape[0], vector_df.shape[0]), dtype= 'int8' )\n",
    "\n",
    "for i in range(1,vector_df.shape[0]):\n",
    "    data = cosine_similarity(vector_df[i-1:i], vector_df)\n",
    "    matrix = sp.vstack((matrix, data), format='csr')\n"
   ]
  },
  {
   "cell_type": "code",
   "execution_count": null,
   "metadata": {},
   "outputs": [],
   "source": [
    "matrix"
   ]
  },
  {
   "cell_type": "code",
   "execution_count": null,
   "metadata": {},
   "outputs": [],
   "source": [
    "vector_df.shape[0]"
   ]
  }
 ],
 "metadata": {
  "kernelspec": {
   "display_name": "Python 3",
   "language": "python",
   "name": "python3"
  },
  "language_info": {
   "codemirror_mode": {
    "name": "ipython",
    "version": 3
   },
   "file_extension": ".py",
   "mimetype": "text/x-python",
   "name": "python",
   "nbconvert_exporter": "python",
   "pygments_lexer": "ipython3",
   "version": "3.7.4"
  }
 },
 "nbformat": 4,
 "nbformat_minor": 2
}
