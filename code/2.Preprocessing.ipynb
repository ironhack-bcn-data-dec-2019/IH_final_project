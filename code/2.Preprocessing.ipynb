{
 "cells": [
  {
   "cell_type": "markdown",
   "metadata": {},
   "source": [
    "# 2.- Text Preprocessing using NLP and Calculate Sentiment Analysis "
   ]
  },
  {
   "cell_type": "code",
   "execution_count": 2,
   "metadata": {},
   "outputs": [],
   "source": [
    "import pandas as pd\n",
    "import numpy as np\n",
    "\n",
    "# Text processing\n",
    "import spacy\n",
    "import spacy_lookups_data\n",
    "import re\n",
    "\n",
    "# Sentiment Analysis\n",
    "from textblob import TextBlob\n",
    "\n",
    "# Scaler\n",
    "from sklearn.preprocessing import MinMaxScaler"
   ]
  },
  {
   "cell_type": "code",
   "execution_count": 3,
   "metadata": {},
   "outputs": [
    {
     "data": {
      "text/html": [
       "<div>\n",
       "<style scoped>\n",
       "    .dataframe tbody tr th:only-of-type {\n",
       "        vertical-align: middle;\n",
       "    }\n",
       "\n",
       "    .dataframe tbody tr th {\n",
       "        vertical-align: top;\n",
       "    }\n",
       "\n",
       "    .dataframe thead th {\n",
       "        text-align: right;\n",
       "    }\n",
       "</style>\n",
       "<table border=\"1\" class=\"dataframe\">\n",
       "  <thead>\n",
       "    <tr style=\"text-align: right;\">\n",
       "      <th></th>\n",
       "      <th>user_id</th>\n",
       "      <th>business_id</th>\n",
       "      <th>review_stars</th>\n",
       "      <th>text</th>\n",
       "      <th>date</th>\n",
       "      <th>name</th>\n",
       "      <th>address</th>\n",
       "      <th>city</th>\n",
       "      <th>state</th>\n",
       "      <th>postal_code</th>\n",
       "      <th>latitude</th>\n",
       "      <th>longitude</th>\n",
       "      <th>stars</th>\n",
       "      <th>attributes</th>\n",
       "      <th>categories</th>\n",
       "    </tr>\n",
       "  </thead>\n",
       "  <tbody>\n",
       "    <tr>\n",
       "      <td>0</td>\n",
       "      <td>V34qejxNsCbcgD8C0HVk-Q</td>\n",
       "      <td>HQl28KMwrEKHqhFrrDqVNQ</td>\n",
       "      <td>5</td>\n",
       "      <td>I love Deagan's. I do. I really do. The atmosp...</td>\n",
       "      <td>2015-12-05 03:18:11</td>\n",
       "      <td>Deagan's Kitchen &amp; Bar</td>\n",
       "      <td>14810 Detroit Ave</td>\n",
       "      <td>Lakewood</td>\n",
       "      <td>OH</td>\n",
       "      <td>44107</td>\n",
       "      <td>41.485192</td>\n",
       "      <td>-81.800145</td>\n",
       "      <td>4.0</td>\n",
       "      <td>{'BusinessAcceptsCreditCards': 'True', 'Outdoo...</td>\n",
       "      <td>American</td>\n",
       "    </tr>\n",
       "    <tr>\n",
       "      <td>1</td>\n",
       "      <td>zFCuveEe6M-ijY1iy23IJg</td>\n",
       "      <td>HQl28KMwrEKHqhFrrDqVNQ</td>\n",
       "      <td>5</td>\n",
       "      <td>We walked into Melt. \"Did you want to put your...</td>\n",
       "      <td>2011-08-25 04:24:23</td>\n",
       "      <td>Deagan's Kitchen &amp; Bar</td>\n",
       "      <td>14810 Detroit Ave</td>\n",
       "      <td>Lakewood</td>\n",
       "      <td>OH</td>\n",
       "      <td>44107</td>\n",
       "      <td>41.485192</td>\n",
       "      <td>-81.800145</td>\n",
       "      <td>4.0</td>\n",
       "      <td>{'BusinessAcceptsCreditCards': 'True', 'Outdoo...</td>\n",
       "      <td>American</td>\n",
       "    </tr>\n",
       "    <tr>\n",
       "      <td>2</td>\n",
       "      <td>4V985R3RG-rv0B7WCPQzeQ</td>\n",
       "      <td>HQl28KMwrEKHqhFrrDqVNQ</td>\n",
       "      <td>1</td>\n",
       "      <td>I commented on how slow the service was last A...</td>\n",
       "      <td>2015-03-04 20:37:43</td>\n",
       "      <td>Deagan's Kitchen &amp; Bar</td>\n",
       "      <td>14810 Detroit Ave</td>\n",
       "      <td>Lakewood</td>\n",
       "      <td>OH</td>\n",
       "      <td>44107</td>\n",
       "      <td>41.485192</td>\n",
       "      <td>-81.800145</td>\n",
       "      <td>4.0</td>\n",
       "      <td>{'BusinessAcceptsCreditCards': 'True', 'Outdoo...</td>\n",
       "      <td>American</td>\n",
       "    </tr>\n",
       "    <tr>\n",
       "      <td>3</td>\n",
       "      <td>nFGcoL6wuPQzxsNJVSfGrA</td>\n",
       "      <td>HQl28KMwrEKHqhFrrDqVNQ</td>\n",
       "      <td>4</td>\n",
       "      <td>We walked in off the streets on a September ni...</td>\n",
       "      <td>2014-09-10 01:38:55</td>\n",
       "      <td>Deagan's Kitchen &amp; Bar</td>\n",
       "      <td>14810 Detroit Ave</td>\n",
       "      <td>Lakewood</td>\n",
       "      <td>OH</td>\n",
       "      <td>44107</td>\n",
       "      <td>41.485192</td>\n",
       "      <td>-81.800145</td>\n",
       "      <td>4.0</td>\n",
       "      <td>{'BusinessAcceptsCreditCards': 'True', 'Outdoo...</td>\n",
       "      <td>American</td>\n",
       "    </tr>\n",
       "    <tr>\n",
       "      <td>4</td>\n",
       "      <td>CJqgUQeWhdgbDyLAFy7xvQ</td>\n",
       "      <td>HQl28KMwrEKHqhFrrDqVNQ</td>\n",
       "      <td>4</td>\n",
       "      <td>Brunch on Saturday was excellent. The Bloody M...</td>\n",
       "      <td>2018-01-21 18:50:29</td>\n",
       "      <td>Deagan's Kitchen &amp; Bar</td>\n",
       "      <td>14810 Detroit Ave</td>\n",
       "      <td>Lakewood</td>\n",
       "      <td>OH</td>\n",
       "      <td>44107</td>\n",
       "      <td>41.485192</td>\n",
       "      <td>-81.800145</td>\n",
       "      <td>4.0</td>\n",
       "      <td>{'BusinessAcceptsCreditCards': 'True', 'Outdoo...</td>\n",
       "      <td>American</td>\n",
       "    </tr>\n",
       "  </tbody>\n",
       "</table>\n",
       "</div>"
      ],
      "text/plain": [
       "                  user_id             business_id  review_stars  \\\n",
       "0  V34qejxNsCbcgD8C0HVk-Q  HQl28KMwrEKHqhFrrDqVNQ             5   \n",
       "1  zFCuveEe6M-ijY1iy23IJg  HQl28KMwrEKHqhFrrDqVNQ             5   \n",
       "2  4V985R3RG-rv0B7WCPQzeQ  HQl28KMwrEKHqhFrrDqVNQ             1   \n",
       "3  nFGcoL6wuPQzxsNJVSfGrA  HQl28KMwrEKHqhFrrDqVNQ             4   \n",
       "4  CJqgUQeWhdgbDyLAFy7xvQ  HQl28KMwrEKHqhFrrDqVNQ             4   \n",
       "\n",
       "                                                text                 date  \\\n",
       "0  I love Deagan's. I do. I really do. The atmosp...  2015-12-05 03:18:11   \n",
       "1  We walked into Melt. \"Did you want to put your...  2011-08-25 04:24:23   \n",
       "2  I commented on how slow the service was last A...  2015-03-04 20:37:43   \n",
       "3  We walked in off the streets on a September ni...  2014-09-10 01:38:55   \n",
       "4  Brunch on Saturday was excellent. The Bloody M...  2018-01-21 18:50:29   \n",
       "\n",
       "                     name            address      city state postal_code  \\\n",
       "0  Deagan's Kitchen & Bar  14810 Detroit Ave  Lakewood    OH       44107   \n",
       "1  Deagan's Kitchen & Bar  14810 Detroit Ave  Lakewood    OH       44107   \n",
       "2  Deagan's Kitchen & Bar  14810 Detroit Ave  Lakewood    OH       44107   \n",
       "3  Deagan's Kitchen & Bar  14810 Detroit Ave  Lakewood    OH       44107   \n",
       "4  Deagan's Kitchen & Bar  14810 Detroit Ave  Lakewood    OH       44107   \n",
       "\n",
       "    latitude  longitude  stars  \\\n",
       "0  41.485192 -81.800145    4.0   \n",
       "1  41.485192 -81.800145    4.0   \n",
       "2  41.485192 -81.800145    4.0   \n",
       "3  41.485192 -81.800145    4.0   \n",
       "4  41.485192 -81.800145    4.0   \n",
       "\n",
       "                                          attributes categories  \n",
       "0  {'BusinessAcceptsCreditCards': 'True', 'Outdoo...   American  \n",
       "1  {'BusinessAcceptsCreditCards': 'True', 'Outdoo...   American  \n",
       "2  {'BusinessAcceptsCreditCards': 'True', 'Outdoo...   American  \n",
       "3  {'BusinessAcceptsCreditCards': 'True', 'Outdoo...   American  \n",
       "4  {'BusinessAcceptsCreditCards': 'True', 'Outdoo...   American  "
      ]
     },
     "execution_count": 3,
     "metadata": {},
     "output_type": "execute_result"
    }
   ],
   "source": [
    "reviews = pd.read_csv('../data/yelp_reviews_restaurant.csv')\n",
    "reviews.head()"
   ]
  },
  {
   "cell_type": "code",
   "execution_count": 4,
   "metadata": {},
   "outputs": [
    {
     "data": {
      "text/html": [
       "<div>\n",
       "<style scoped>\n",
       "    .dataframe tbody tr th:only-of-type {\n",
       "        vertical-align: middle;\n",
       "    }\n",
       "\n",
       "    .dataframe tbody tr th {\n",
       "        vertical-align: top;\n",
       "    }\n",
       "\n",
       "    .dataframe thead th {\n",
       "        text-align: right;\n",
       "    }\n",
       "</style>\n",
       "<table border=\"1\" class=\"dataframe\">\n",
       "  <thead>\n",
       "    <tr style=\"text-align: right;\">\n",
       "      <th></th>\n",
       "      <th>user_id</th>\n",
       "      <th>text</th>\n",
       "    </tr>\n",
       "  </thead>\n",
       "  <tbody>\n",
       "    <tr>\n",
       "      <td>0</td>\n",
       "      <td>---1lKK3aKOuomHnwAkAow</td>\n",
       "      <td>27</td>\n",
       "    </tr>\n",
       "    <tr>\n",
       "      <td>1</td>\n",
       "      <td>---94vtJ_5o_nikEs6hUjg</td>\n",
       "      <td>1</td>\n",
       "    </tr>\n",
       "    <tr>\n",
       "      <td>2</td>\n",
       "      <td>---RfKzBwQ8t3wu-LXvx3w</td>\n",
       "      <td>1</td>\n",
       "    </tr>\n",
       "    <tr>\n",
       "      <td>3</td>\n",
       "      <td>---tGbMnMitD_7srW6Nfzg</td>\n",
       "      <td>1</td>\n",
       "    </tr>\n",
       "    <tr>\n",
       "      <td>4</td>\n",
       "      <td>---udAKDsn0yQXmzbWQNSw</td>\n",
       "      <td>1</td>\n",
       "    </tr>\n",
       "  </tbody>\n",
       "</table>\n",
       "</div>"
      ],
      "text/plain": [
       "                  user_id  text\n",
       "0  ---1lKK3aKOuomHnwAkAow    27\n",
       "1  ---94vtJ_5o_nikEs6hUjg     1\n",
       "2  ---RfKzBwQ8t3wu-LXvx3w     1\n",
       "3  ---tGbMnMitD_7srW6Nfzg     1\n",
       "4  ---udAKDsn0yQXmzbWQNSw     1"
      ]
     },
     "execution_count": 4,
     "metadata": {},
     "output_type": "execute_result"
    }
   ],
   "source": [
    "# Remove users that have more than 50 reviews.\n",
    "grouped_users = reviews.groupby('user_id')['text'].count().reset_index()\n",
    "grouped_users.head()"
   ]
  },
  {
   "cell_type": "code",
   "execution_count": 5,
   "metadata": {},
   "outputs": [
    {
     "data": {
      "text/plain": [
       "354596"
      ]
     },
     "execution_count": 5,
     "metadata": {},
     "output_type": "execute_result"
    }
   ],
   "source": [
    "result = grouped_users.query('text > 50')\n",
    "result['text'].sum()"
   ]
  },
  {
   "cell_type": "code",
   "execution_count": 6,
   "metadata": {},
   "outputs": [
    {
     "data": {
      "text/plain": [
       "3140427"
      ]
     },
     "execution_count": 6,
     "metadata": {},
     "output_type": "execute_result"
    }
   ],
   "source": [
    "reviews.shape[0]"
   ]
  },
  {
   "cell_type": "code",
   "execution_count": 7,
   "metadata": {},
   "outputs": [
    {
     "data": {
      "text/plain": [
       "(320579, 4)"
      ]
     },
     "execution_count": 7,
     "metadata": {},
     "output_type": "execute_result"
    }
   ],
   "source": [
    "reviews_filtered = reviews[['user_id', 'name', 'review_stars', 'text']][reviews['user_id'].isin(result['user_id'])]\n",
    "reviews_filtered.drop_duplicates(inplace=True)\n",
    "reviews_filtered.shape"
   ]
  },
  {
   "cell_type": "markdown",
   "metadata": {},
   "source": [
    "## Text preprocessing"
   ]
  },
  {
   "cell_type": "code",
   "execution_count": 9,
   "metadata": {},
   "outputs": [],
   "source": [
    "# Functions to preprocess text\n",
    "\n",
    "# convert to lower cases\n",
    "def to_lower(text):\n",
    "    return text.lower()\n",
    "\n",
    "# remove some special characters\n",
    "def remove_special_chars(text):\n",
    "    return ''.join(re.sub(r'[-/@\"():;^_%&,.!?]', ' ', text))\n",
    "\n",
    "# remove white spaces\n",
    "def remove_spaces(text):\n",
    "    return re.sub(r'\\s+',' ', text)"
   ]
  },
  {
   "cell_type": "code",
   "execution_count": 10,
   "metadata": {},
   "outputs": [
    {
     "name": "stdout",
     "output_type": "stream",
     "text": [
      "Wall time: 20.8 s\n"
     ]
    },
    {
     "data": {
      "text/html": [
       "<div>\n",
       "<style scoped>\n",
       "    .dataframe tbody tr th:only-of-type {\n",
       "        vertical-align: middle;\n",
       "    }\n",
       "\n",
       "    .dataframe tbody tr th {\n",
       "        vertical-align: top;\n",
       "    }\n",
       "\n",
       "    .dataframe thead th {\n",
       "        text-align: right;\n",
       "    }\n",
       "</style>\n",
       "<table border=\"1\" class=\"dataframe\">\n",
       "  <thead>\n",
       "    <tr style=\"text-align: right;\">\n",
       "      <th></th>\n",
       "      <th>user_id</th>\n",
       "      <th>name</th>\n",
       "      <th>review_stars</th>\n",
       "      <th>text</th>\n",
       "      <th>cleaned_text</th>\n",
       "    </tr>\n",
       "  </thead>\n",
       "  <tbody>\n",
       "    <tr>\n",
       "      <td>1</td>\n",
       "      <td>zFCuveEe6M-ijY1iy23IJg</td>\n",
       "      <td>Deagan's Kitchen &amp; Bar</td>\n",
       "      <td>5</td>\n",
       "      <td>We walked into Melt. \"Did you want to put your...</td>\n",
       "      <td>we walked into melt did you want to put your n...</td>\n",
       "    </tr>\n",
       "    <tr>\n",
       "      <td>4</td>\n",
       "      <td>CJqgUQeWhdgbDyLAFy7xvQ</td>\n",
       "      <td>Deagan's Kitchen &amp; Bar</td>\n",
       "      <td>4</td>\n",
       "      <td>Brunch on Saturday was excellent. The Bloody M...</td>\n",
       "      <td>brunch on saturday was excellent the bloody ma...</td>\n",
       "    </tr>\n",
       "    <tr>\n",
       "      <td>21</td>\n",
       "      <td>alxetHC3mXR2PtG8CeCN6Q</td>\n",
       "      <td>Deagan's Kitchen &amp; Bar</td>\n",
       "      <td>4</td>\n",
       "      <td>Great food, great atmosphere, great service. s...</td>\n",
       "      <td>great food great atmosphere great service some...</td>\n",
       "    </tr>\n",
       "    <tr>\n",
       "      <td>27</td>\n",
       "      <td>kHGRDaZt4nHgNSJcjOTDeQ</td>\n",
       "      <td>Deagan's Kitchen &amp; Bar</td>\n",
       "      <td>3</td>\n",
       "      <td>Had a Saturday evening dinner with friends.  G...</td>\n",
       "      <td>had a saturday evening dinner with friends goi...</td>\n",
       "    </tr>\n",
       "    <tr>\n",
       "      <td>29</td>\n",
       "      <td>pg2soiiAWSvenWac41oG8Q</td>\n",
       "      <td>Deagan's Kitchen &amp; Bar</td>\n",
       "      <td>2</td>\n",
       "      <td>I haven't been here for years.   I'm not from ...</td>\n",
       "      <td>i haven't been here for years i'm not from thi...</td>\n",
       "    </tr>\n",
       "  </tbody>\n",
       "</table>\n",
       "</div>"
      ],
      "text/plain": [
       "                   user_id                    name  review_stars  \\\n",
       "1   zFCuveEe6M-ijY1iy23IJg  Deagan's Kitchen & Bar             5   \n",
       "4   CJqgUQeWhdgbDyLAFy7xvQ  Deagan's Kitchen & Bar             4   \n",
       "21  alxetHC3mXR2PtG8CeCN6Q  Deagan's Kitchen & Bar             4   \n",
       "27  kHGRDaZt4nHgNSJcjOTDeQ  Deagan's Kitchen & Bar             3   \n",
       "29  pg2soiiAWSvenWac41oG8Q  Deagan's Kitchen & Bar             2   \n",
       "\n",
       "                                                 text  \\\n",
       "1   We walked into Melt. \"Did you want to put your...   \n",
       "4   Brunch on Saturday was excellent. The Bloody M...   \n",
       "21  Great food, great atmosphere, great service. s...   \n",
       "27  Had a Saturday evening dinner with friends.  G...   \n",
       "29  I haven't been here for years.   I'm not from ...   \n",
       "\n",
       "                                         cleaned_text  \n",
       "1   we walked into melt did you want to put your n...  \n",
       "4   brunch on saturday was excellent the bloody ma...  \n",
       "21  great food great atmosphere great service some...  \n",
       "27  had a saturday evening dinner with friends goi...  \n",
       "29  i haven't been here for years i'm not from thi...  "
      ]
     },
     "execution_count": 10,
     "metadata": {},
     "output_type": "execute_result"
    }
   ],
   "source": [
    "%%time\n",
    "def clean_text(df):\n",
    "    df['cleaned_text'] = df['text'].map(to_lower).map(remove_special_chars).map(remove_spaces)\n",
    "    return df\n",
    "\n",
    "df = clean_text(reviews_filtered)\n",
    "df.head()"
   ]
  },
  {
   "cell_type": "markdown",
   "metadata": {},
   "source": [
    "## Sentiment Analysis"
   ]
  },
  {
   "cell_type": "markdown",
   "metadata": {},
   "source": [
    "Sentiment analysis is a text analysis method that detects polarity (e.g. a positive or negative opinion) within text, whether a whole document, paragraph, sentence, or clause.\n",
    "\n",
    "Understanding people’s emotions is essential for businesses since customers are able to express their thoughts and feelings more openly than ever before."
   ]
  },
  {
   "cell_type": "code",
   "execution_count": 14,
   "metadata": {},
   "outputs": [],
   "source": [
    "# Calculate sentiment for each review\n",
    "\n",
    "def sentiment_calc(text):\n",
    "    try:\n",
    "        return TextBlob(text).sentiment.polarity\n",
    "    except:\n",
    "        return None\n",
    "\n",
    "df['sentiment'] = df['cleaned_text'].apply(sentiment_calc)"
   ]
  },
  {
   "cell_type": "code",
   "execution_count": 15,
   "metadata": {},
   "outputs": [],
   "source": [
    "df.reset_index().drop('index', axis=1, inplace=True)"
   ]
  },
  {
   "cell_type": "code",
   "execution_count": 16,
   "metadata": {},
   "outputs": [
    {
     "data": {
      "text/plain": [
       "user_id         0\n",
       "name            0\n",
       "review_stars    0\n",
       "text            0\n",
       "cleaned_text    0\n",
       "sentiment       0\n",
       "dtype: int64"
      ]
     },
     "execution_count": 16,
     "metadata": {},
     "output_type": "execute_result"
    }
   ],
   "source": [
    "# Check if there are some null values\n",
    "df.isnull().sum()"
   ]
  },
  {
   "cell_type": "code",
   "execution_count": 22,
   "metadata": {},
   "outputs": [],
   "source": [
    "## Scale sentiment to be comparable with rating\n",
    "scaler = MinMaxScaler(feature_range=(1,5))\n",
    "\n",
    "df['sent_rating'] = scaler.fit_transform(df['sentiment'].values.reshape(-1,1))\n",
    "\n",
    "df.drop('sentiment', axis=1, inplace=True)"
   ]
  },
  {
   "cell_type": "code",
   "execution_count": 23,
   "metadata": {},
   "outputs": [
    {
     "data": {
      "text/html": [
       "<div>\n",
       "<style scoped>\n",
       "    .dataframe tbody tr th:only-of-type {\n",
       "        vertical-align: middle;\n",
       "    }\n",
       "\n",
       "    .dataframe tbody tr th {\n",
       "        vertical-align: top;\n",
       "    }\n",
       "\n",
       "    .dataframe thead th {\n",
       "        text-align: right;\n",
       "    }\n",
       "</style>\n",
       "<table border=\"1\" class=\"dataframe\">\n",
       "  <thead>\n",
       "    <tr style=\"text-align: right;\">\n",
       "      <th></th>\n",
       "      <th>user_id</th>\n",
       "      <th>name</th>\n",
       "      <th>review_stars</th>\n",
       "      <th>text</th>\n",
       "      <th>cleaned_text</th>\n",
       "      <th>sent_rating</th>\n",
       "    </tr>\n",
       "  </thead>\n",
       "  <tbody>\n",
       "    <tr>\n",
       "      <td>1</td>\n",
       "      <td>zFCuveEe6M-ijY1iy23IJg</td>\n",
       "      <td>Deagan's Kitchen &amp; Bar</td>\n",
       "      <td>5</td>\n",
       "      <td>We walked into Melt. \"Did you want to put your...</td>\n",
       "      <td>we walked into melt did you want to put your n...</td>\n",
       "      <td>3.505159</td>\n",
       "    </tr>\n",
       "    <tr>\n",
       "      <td>4</td>\n",
       "      <td>CJqgUQeWhdgbDyLAFy7xvQ</td>\n",
       "      <td>Deagan's Kitchen &amp; Bar</td>\n",
       "      <td>4</td>\n",
       "      <td>Brunch on Saturday was excellent. The Bloody M...</td>\n",
       "      <td>brunch on saturday was excellent the bloody ma...</td>\n",
       "      <td>3.800000</td>\n",
       "    </tr>\n",
       "    <tr>\n",
       "      <td>21</td>\n",
       "      <td>alxetHC3mXR2PtG8CeCN6Q</td>\n",
       "      <td>Deagan's Kitchen &amp; Bar</td>\n",
       "      <td>4</td>\n",
       "      <td>Great food, great atmosphere, great service. s...</td>\n",
       "      <td>great food great atmosphere great service some...</td>\n",
       "      <td>3.587500</td>\n",
       "    </tr>\n",
       "    <tr>\n",
       "      <td>27</td>\n",
       "      <td>kHGRDaZt4nHgNSJcjOTDeQ</td>\n",
       "      <td>Deagan's Kitchen &amp; Bar</td>\n",
       "      <td>3</td>\n",
       "      <td>Had a Saturday evening dinner with friends.  G...</td>\n",
       "      <td>had a saturday evening dinner with friends goi...</td>\n",
       "      <td>3.436378</td>\n",
       "    </tr>\n",
       "    <tr>\n",
       "      <td>29</td>\n",
       "      <td>pg2soiiAWSvenWac41oG8Q</td>\n",
       "      <td>Deagan's Kitchen &amp; Bar</td>\n",
       "      <td>2</td>\n",
       "      <td>I haven't been here for years.   I'm not from ...</td>\n",
       "      <td>i haven't been here for years i'm not from thi...</td>\n",
       "      <td>2.981408</td>\n",
       "    </tr>\n",
       "  </tbody>\n",
       "</table>\n",
       "</div>"
      ],
      "text/plain": [
       "                   user_id                    name  review_stars  \\\n",
       "1   zFCuveEe6M-ijY1iy23IJg  Deagan's Kitchen & Bar             5   \n",
       "4   CJqgUQeWhdgbDyLAFy7xvQ  Deagan's Kitchen & Bar             4   \n",
       "21  alxetHC3mXR2PtG8CeCN6Q  Deagan's Kitchen & Bar             4   \n",
       "27  kHGRDaZt4nHgNSJcjOTDeQ  Deagan's Kitchen & Bar             3   \n",
       "29  pg2soiiAWSvenWac41oG8Q  Deagan's Kitchen & Bar             2   \n",
       "\n",
       "                                                 text  \\\n",
       "1   We walked into Melt. \"Did you want to put your...   \n",
       "4   Brunch on Saturday was excellent. The Bloody M...   \n",
       "21  Great food, great atmosphere, great service. s...   \n",
       "27  Had a Saturday evening dinner with friends.  G...   \n",
       "29  I haven't been here for years.   I'm not from ...   \n",
       "\n",
       "                                         cleaned_text  sent_rating  \n",
       "1   we walked into melt did you want to put your n...     3.505159  \n",
       "4   brunch on saturday was excellent the bloody ma...     3.800000  \n",
       "21  great food great atmosphere great service some...     3.587500  \n",
       "27  had a saturday evening dinner with friends goi...     3.436378  \n",
       "29  i haven't been here for years i'm not from thi...     2.981408  "
      ]
     },
     "execution_count": 23,
     "metadata": {},
     "output_type": "execute_result"
    }
   ],
   "source": [
    "df.head()"
   ]
  },
  {
   "cell_type": "code",
   "execution_count": 25,
   "metadata": {},
   "outputs": [
    {
     "data": {
      "text/plain": [
       "array(['zFCuveEe6M-ijY1iy23IJg', 'CJqgUQeWhdgbDyLAFy7xvQ',\n",
       "       'alxetHC3mXR2PtG8CeCN6Q', ..., 'BIcfTJw4-76b9NuZUgpKIA',\n",
       "       'ZYY9f01cj8dB9sMfuY3diA', 'SPI7O1GKZTvJhiXNFj81Eg'], dtype=object)"
      ]
     },
     "execution_count": 25,
     "metadata": {},
     "output_type": "execute_result"
    }
   ],
   "source": [
    "# Map user_id with index\n",
    "\n",
    "df['user_id'].unique(), df['user_id'].nunique()"
   ]
  },
  {
   "cell_type": "code",
   "execution_count": 35,
   "metadata": {},
   "outputs": [
    {
     "data": {
      "text/plain": [
       "4006"
      ]
     },
     "execution_count": 35,
     "metadata": {},
     "output_type": "execute_result"
    }
   ],
   "source": [
    "# Map user_id with index\n",
    "\n",
    "for i, user_id in enumerate(df['user_id'].unique()):\n",
    "    idx = df[df['user_id'] == user_id].index\n",
    "    df.loc[idx,'uid'] = int(i)\n",
    "    \n",
    "df['uid'].nunique()"
   ]
  },
  {
   "cell_type": "code",
   "execution_count": 40,
   "metadata": {},
   "outputs": [],
   "source": [
    "df['uid'] = df['uid'].astype('int16')"
   ]
  },
  {
   "cell_type": "code",
   "execution_count": 42,
   "metadata": {},
   "outputs": [],
   "source": [
    "df.drop(['user_id', 'text'], axis=1, inplace=True)"
   ]
  },
  {
   "cell_type": "code",
   "execution_count": 43,
   "metadata": {},
   "outputs": [
    {
     "data": {
      "text/html": [
       "<div>\n",
       "<style scoped>\n",
       "    .dataframe tbody tr th:only-of-type {\n",
       "        vertical-align: middle;\n",
       "    }\n",
       "\n",
       "    .dataframe tbody tr th {\n",
       "        vertical-align: top;\n",
       "    }\n",
       "\n",
       "    .dataframe thead th {\n",
       "        text-align: right;\n",
       "    }\n",
       "</style>\n",
       "<table border=\"1\" class=\"dataframe\">\n",
       "  <thead>\n",
       "    <tr style=\"text-align: right;\">\n",
       "      <th></th>\n",
       "      <th>name</th>\n",
       "      <th>review_stars</th>\n",
       "      <th>cleaned_text</th>\n",
       "      <th>sent_rating</th>\n",
       "      <th>uid</th>\n",
       "    </tr>\n",
       "  </thead>\n",
       "  <tbody>\n",
       "    <tr>\n",
       "      <td>1</td>\n",
       "      <td>Deagan's Kitchen &amp; Bar</td>\n",
       "      <td>5</td>\n",
       "      <td>we walked into melt did you want to put your n...</td>\n",
       "      <td>3.505159</td>\n",
       "      <td>0</td>\n",
       "    </tr>\n",
       "    <tr>\n",
       "      <td>4</td>\n",
       "      <td>Deagan's Kitchen &amp; Bar</td>\n",
       "      <td>4</td>\n",
       "      <td>brunch on saturday was excellent the bloody ma...</td>\n",
       "      <td>3.800000</td>\n",
       "      <td>1</td>\n",
       "    </tr>\n",
       "    <tr>\n",
       "      <td>21</td>\n",
       "      <td>Deagan's Kitchen &amp; Bar</td>\n",
       "      <td>4</td>\n",
       "      <td>great food great atmosphere great service some...</td>\n",
       "      <td>3.587500</td>\n",
       "      <td>2</td>\n",
       "    </tr>\n",
       "    <tr>\n",
       "      <td>27</td>\n",
       "      <td>Deagan's Kitchen &amp; Bar</td>\n",
       "      <td>3</td>\n",
       "      <td>had a saturday evening dinner with friends goi...</td>\n",
       "      <td>3.436378</td>\n",
       "      <td>3</td>\n",
       "    </tr>\n",
       "    <tr>\n",
       "      <td>29</td>\n",
       "      <td>Deagan's Kitchen &amp; Bar</td>\n",
       "      <td>2</td>\n",
       "      <td>i haven't been here for years i'm not from thi...</td>\n",
       "      <td>2.981408</td>\n",
       "      <td>4</td>\n",
       "    </tr>\n",
       "  </tbody>\n",
       "</table>\n",
       "</div>"
      ],
      "text/plain": [
       "                      name  review_stars  \\\n",
       "1   Deagan's Kitchen & Bar             5   \n",
       "4   Deagan's Kitchen & Bar             4   \n",
       "21  Deagan's Kitchen & Bar             4   \n",
       "27  Deagan's Kitchen & Bar             3   \n",
       "29  Deagan's Kitchen & Bar             2   \n",
       "\n",
       "                                         cleaned_text  sent_rating  uid  \n",
       "1   we walked into melt did you want to put your n...     3.505159    0  \n",
       "4   brunch on saturday was excellent the bloody ma...     3.800000    1  \n",
       "21  great food great atmosphere great service some...     3.587500    2  \n",
       "27  had a saturday evening dinner with friends goi...     3.436378    3  \n",
       "29  i haven't been here for years i'm not from thi...     2.981408    4  "
      ]
     },
     "execution_count": 43,
     "metadata": {},
     "output_type": "execute_result"
    }
   ],
   "source": [
    "df.head()"
   ]
  },
  {
   "cell_type": "code",
   "execution_count": 44,
   "metadata": {},
   "outputs": [],
   "source": [
    "df.to_csv('../data/reviews_filtered.csv', index=False)"
   ]
  },
  {
   "cell_type": "code",
   "execution_count": null,
   "metadata": {},
   "outputs": [],
   "source": []
  }
 ],
 "metadata": {
  "kernelspec": {
   "display_name": "Python 3",
   "language": "python",
   "name": "python3"
  },
  "language_info": {
   "codemirror_mode": {
    "name": "ipython",
    "version": 3
   },
   "file_extension": ".py",
   "mimetype": "text/x-python",
   "name": "python",
   "nbconvert_exporter": "python",
   "pygments_lexer": "ipython3",
   "version": "3.7.4"
  }
 },
 "nbformat": 4,
 "nbformat_minor": 2
}
