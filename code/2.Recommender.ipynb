{
 "cells": [
  {
   "cell_type": "code",
   "execution_count": 1,
   "metadata": {},
   "outputs": [],
   "source": [
    "## Beta recommender system"
   ]
  },
  {
   "cell_type": "code",
   "execution_count": 2,
   "metadata": {},
   "outputs": [],
   "source": [
    "import pandas as pd\n",
    "import numpy as np"
   ]
  },
  {
   "cell_type": "code",
   "execution_count": 3,
   "metadata": {},
   "outputs": [
    {
     "name": "stdout",
     "output_type": "stream",
     "text": [
      "Wall time: 37.2 s\n"
     ]
    },
    {
     "data": {
      "text/html": [
       "<div>\n",
       "<style scoped>\n",
       "    .dataframe tbody tr th:only-of-type {\n",
       "        vertical-align: middle;\n",
       "    }\n",
       "\n",
       "    .dataframe tbody tr th {\n",
       "        vertical-align: top;\n",
       "    }\n",
       "\n",
       "    .dataframe thead th {\n",
       "        text-align: right;\n",
       "    }\n",
       "</style>\n",
       "<table border=\"1\" class=\"dataframe\">\n",
       "  <thead>\n",
       "    <tr style=\"text-align: right;\">\n",
       "      <th></th>\n",
       "      <th>user_id</th>\n",
       "      <th>business_id</th>\n",
       "      <th>review_stars</th>\n",
       "      <th>text</th>\n",
       "      <th>date</th>\n",
       "      <th>name</th>\n",
       "      <th>address</th>\n",
       "      <th>city</th>\n",
       "      <th>state</th>\n",
       "      <th>postal_code</th>\n",
       "      <th>latitude</th>\n",
       "      <th>longitude</th>\n",
       "      <th>stars</th>\n",
       "      <th>attributes</th>\n",
       "      <th>categories</th>\n",
       "    </tr>\n",
       "  </thead>\n",
       "  <tbody>\n",
       "    <tr>\n",
       "      <td>0</td>\n",
       "      <td>V34qejxNsCbcgD8C0HVk-Q</td>\n",
       "      <td>HQl28KMwrEKHqhFrrDqVNQ</td>\n",
       "      <td>5</td>\n",
       "      <td>I love Deagan's. I do. I really do. The atmosp...</td>\n",
       "      <td>2015-12-05 03:18:11</td>\n",
       "      <td>Deagan's Kitchen &amp; Bar</td>\n",
       "      <td>14810 Detroit Ave</td>\n",
       "      <td>Lakewood</td>\n",
       "      <td>OH</td>\n",
       "      <td>44107</td>\n",
       "      <td>41.485192</td>\n",
       "      <td>-81.800145</td>\n",
       "      <td>4.0</td>\n",
       "      <td>{'BusinessAcceptsCreditCards': 'True', 'Outdoo...</td>\n",
       "      <td>American</td>\n",
       "    </tr>\n",
       "    <tr>\n",
       "      <td>1</td>\n",
       "      <td>zFCuveEe6M-ijY1iy23IJg</td>\n",
       "      <td>HQl28KMwrEKHqhFrrDqVNQ</td>\n",
       "      <td>5</td>\n",
       "      <td>We walked into Melt. \"Did you want to put your...</td>\n",
       "      <td>2011-08-25 04:24:23</td>\n",
       "      <td>Deagan's Kitchen &amp; Bar</td>\n",
       "      <td>14810 Detroit Ave</td>\n",
       "      <td>Lakewood</td>\n",
       "      <td>OH</td>\n",
       "      <td>44107</td>\n",
       "      <td>41.485192</td>\n",
       "      <td>-81.800145</td>\n",
       "      <td>4.0</td>\n",
       "      <td>{'BusinessAcceptsCreditCards': 'True', 'Outdoo...</td>\n",
       "      <td>American</td>\n",
       "    </tr>\n",
       "    <tr>\n",
       "      <td>2</td>\n",
       "      <td>4V985R3RG-rv0B7WCPQzeQ</td>\n",
       "      <td>HQl28KMwrEKHqhFrrDqVNQ</td>\n",
       "      <td>1</td>\n",
       "      <td>I commented on how slow the service was last A...</td>\n",
       "      <td>2015-03-04 20:37:43</td>\n",
       "      <td>Deagan's Kitchen &amp; Bar</td>\n",
       "      <td>14810 Detroit Ave</td>\n",
       "      <td>Lakewood</td>\n",
       "      <td>OH</td>\n",
       "      <td>44107</td>\n",
       "      <td>41.485192</td>\n",
       "      <td>-81.800145</td>\n",
       "      <td>4.0</td>\n",
       "      <td>{'BusinessAcceptsCreditCards': 'True', 'Outdoo...</td>\n",
       "      <td>American</td>\n",
       "    </tr>\n",
       "    <tr>\n",
       "      <td>3</td>\n",
       "      <td>nFGcoL6wuPQzxsNJVSfGrA</td>\n",
       "      <td>HQl28KMwrEKHqhFrrDqVNQ</td>\n",
       "      <td>4</td>\n",
       "      <td>We walked in off the streets on a September ni...</td>\n",
       "      <td>2014-09-10 01:38:55</td>\n",
       "      <td>Deagan's Kitchen &amp; Bar</td>\n",
       "      <td>14810 Detroit Ave</td>\n",
       "      <td>Lakewood</td>\n",
       "      <td>OH</td>\n",
       "      <td>44107</td>\n",
       "      <td>41.485192</td>\n",
       "      <td>-81.800145</td>\n",
       "      <td>4.0</td>\n",
       "      <td>{'BusinessAcceptsCreditCards': 'True', 'Outdoo...</td>\n",
       "      <td>American</td>\n",
       "    </tr>\n",
       "    <tr>\n",
       "      <td>4</td>\n",
       "      <td>CJqgUQeWhdgbDyLAFy7xvQ</td>\n",
       "      <td>HQl28KMwrEKHqhFrrDqVNQ</td>\n",
       "      <td>4</td>\n",
       "      <td>Brunch on Saturday was excellent. The Bloody M...</td>\n",
       "      <td>2018-01-21 18:50:29</td>\n",
       "      <td>Deagan's Kitchen &amp; Bar</td>\n",
       "      <td>14810 Detroit Ave</td>\n",
       "      <td>Lakewood</td>\n",
       "      <td>OH</td>\n",
       "      <td>44107</td>\n",
       "      <td>41.485192</td>\n",
       "      <td>-81.800145</td>\n",
       "      <td>4.0</td>\n",
       "      <td>{'BusinessAcceptsCreditCards': 'True', 'Outdoo...</td>\n",
       "      <td>American</td>\n",
       "    </tr>\n",
       "  </tbody>\n",
       "</table>\n",
       "</div>"
      ],
      "text/plain": [
       "                  user_id             business_id  review_stars  \\\n",
       "0  V34qejxNsCbcgD8C0HVk-Q  HQl28KMwrEKHqhFrrDqVNQ             5   \n",
       "1  zFCuveEe6M-ijY1iy23IJg  HQl28KMwrEKHqhFrrDqVNQ             5   \n",
       "2  4V985R3RG-rv0B7WCPQzeQ  HQl28KMwrEKHqhFrrDqVNQ             1   \n",
       "3  nFGcoL6wuPQzxsNJVSfGrA  HQl28KMwrEKHqhFrrDqVNQ             4   \n",
       "4  CJqgUQeWhdgbDyLAFy7xvQ  HQl28KMwrEKHqhFrrDqVNQ             4   \n",
       "\n",
       "                                                text                 date  \\\n",
       "0  I love Deagan's. I do. I really do. The atmosp...  2015-12-05 03:18:11   \n",
       "1  We walked into Melt. \"Did you want to put your...  2011-08-25 04:24:23   \n",
       "2  I commented on how slow the service was last A...  2015-03-04 20:37:43   \n",
       "3  We walked in off the streets on a September ni...  2014-09-10 01:38:55   \n",
       "4  Brunch on Saturday was excellent. The Bloody M...  2018-01-21 18:50:29   \n",
       "\n",
       "                     name            address      city state postal_code  \\\n",
       "0  Deagan's Kitchen & Bar  14810 Detroit Ave  Lakewood    OH       44107   \n",
       "1  Deagan's Kitchen & Bar  14810 Detroit Ave  Lakewood    OH       44107   \n",
       "2  Deagan's Kitchen & Bar  14810 Detroit Ave  Lakewood    OH       44107   \n",
       "3  Deagan's Kitchen & Bar  14810 Detroit Ave  Lakewood    OH       44107   \n",
       "4  Deagan's Kitchen & Bar  14810 Detroit Ave  Lakewood    OH       44107   \n",
       "\n",
       "    latitude  longitude  stars  \\\n",
       "0  41.485192 -81.800145    4.0   \n",
       "1  41.485192 -81.800145    4.0   \n",
       "2  41.485192 -81.800145    4.0   \n",
       "3  41.485192 -81.800145    4.0   \n",
       "4  41.485192 -81.800145    4.0   \n",
       "\n",
       "                                          attributes categories  \n",
       "0  {'BusinessAcceptsCreditCards': 'True', 'Outdoo...   American  \n",
       "1  {'BusinessAcceptsCreditCards': 'True', 'Outdoo...   American  \n",
       "2  {'BusinessAcceptsCreditCards': 'True', 'Outdoo...   American  \n",
       "3  {'BusinessAcceptsCreditCards': 'True', 'Outdoo...   American  \n",
       "4  {'BusinessAcceptsCreditCards': 'True', 'Outdoo...   American  "
      ]
     },
     "execution_count": 3,
     "metadata": {},
     "output_type": "execute_result"
    }
   ],
   "source": [
    "%%time\n",
    "# Load reviews\n",
    "reviews = pd.read_csv('../data/yelp_reviews_restaurant.csv')\n",
    "reviews.head()"
   ]
  },
  {
   "cell_type": "code",
   "execution_count": 4,
   "metadata": {},
   "outputs": [],
   "source": [
    "# As seen is the EDA, there are a lot of users which does very few reviews. \n",
    "# That makes really difficult to classify and with the big amount of data, it is also needed to remove some values. \n",
    "# Therefore in order to be in the model, a threshold of 50 reviews/user has been selected. "
   ]
  },
  {
   "cell_type": "code",
   "execution_count": 5,
   "metadata": {},
   "outputs": [
    {
     "data": {
      "text/html": [
       "<div>\n",
       "<style scoped>\n",
       "    .dataframe tbody tr th:only-of-type {\n",
       "        vertical-align: middle;\n",
       "    }\n",
       "\n",
       "    .dataframe tbody tr th {\n",
       "        vertical-align: top;\n",
       "    }\n",
       "\n",
       "    .dataframe thead th {\n",
       "        text-align: right;\n",
       "    }\n",
       "</style>\n",
       "<table border=\"1\" class=\"dataframe\">\n",
       "  <thead>\n",
       "    <tr style=\"text-align: right;\">\n",
       "      <th></th>\n",
       "      <th>user_id</th>\n",
       "      <th>text</th>\n",
       "    </tr>\n",
       "  </thead>\n",
       "  <tbody>\n",
       "    <tr>\n",
       "      <td>0</td>\n",
       "      <td>---1lKK3aKOuomHnwAkAow</td>\n",
       "      <td>27</td>\n",
       "    </tr>\n",
       "    <tr>\n",
       "      <td>1</td>\n",
       "      <td>---94vtJ_5o_nikEs6hUjg</td>\n",
       "      <td>1</td>\n",
       "    </tr>\n",
       "    <tr>\n",
       "      <td>2</td>\n",
       "      <td>---RfKzBwQ8t3wu-LXvx3w</td>\n",
       "      <td>1</td>\n",
       "    </tr>\n",
       "    <tr>\n",
       "      <td>3</td>\n",
       "      <td>---tGbMnMitD_7srW6Nfzg</td>\n",
       "      <td>1</td>\n",
       "    </tr>\n",
       "    <tr>\n",
       "      <td>4</td>\n",
       "      <td>---udAKDsn0yQXmzbWQNSw</td>\n",
       "      <td>1</td>\n",
       "    </tr>\n",
       "  </tbody>\n",
       "</table>\n",
       "</div>"
      ],
      "text/plain": [
       "                  user_id  text\n",
       "0  ---1lKK3aKOuomHnwAkAow    27\n",
       "1  ---94vtJ_5o_nikEs6hUjg     1\n",
       "2  ---RfKzBwQ8t3wu-LXvx3w     1\n",
       "3  ---tGbMnMitD_7srW6Nfzg     1\n",
       "4  ---udAKDsn0yQXmzbWQNSw     1"
      ]
     },
     "execution_count": 5,
     "metadata": {},
     "output_type": "execute_result"
    }
   ],
   "source": [
    "# Remove users that have less than 50 reviews.\n",
    "grouped_users = reviews.groupby('user_id')['text'].count().reset_index()\n",
    "grouped_users.head()"
   ]
  },
  {
   "cell_type": "code",
   "execution_count": 6,
   "metadata": {},
   "outputs": [
    {
     "data": {
      "text/plain": [
       "2785830"
      ]
     },
     "execution_count": 6,
     "metadata": {},
     "output_type": "execute_result"
    }
   ],
   "source": [
    "result = grouped_users.query('text <= 50')\n",
    "result['text'].sum()"
   ]
  },
  {
   "cell_type": "code",
   "execution_count": 7,
   "metadata": {},
   "outputs": [
    {
     "data": {
      "text/plain": [
       "3140427"
      ]
     },
     "execution_count": 7,
     "metadata": {},
     "output_type": "execute_result"
    }
   ],
   "source": [
    "reviews.shape[0]"
   ]
  },
  {
   "cell_type": "code",
   "execution_count": 8,
   "metadata": {},
   "outputs": [
    {
     "name": "stdout",
     "output_type": "stream",
     "text": [
      "Difference: 354597\n"
     ]
    }
   ],
   "source": [
    "print(f'Difference: {reviews.shape[0] - result[\"text\"].sum()}')"
   ]
  },
  {
   "cell_type": "code",
   "execution_count": 9,
   "metadata": {},
   "outputs": [
    {
     "data": {
      "text/plain": [
       "(354596, 3)"
      ]
     },
     "execution_count": 9,
     "metadata": {},
     "output_type": "execute_result"
    }
   ],
   "source": [
    "reviews_filtered = reviews[['user_id', 'name', 'review_stars']][~reviews['user_id'].isin(result['user_id'])]\n",
    "reviews_filtered.shape"
   ]
  },
  {
   "cell_type": "markdown",
   "metadata": {},
   "source": [
    "## Recommender system using reviews as values"
   ]
  },
  {
   "cell_type": "code",
   "execution_count": 10,
   "metadata": {},
   "outputs": [],
   "source": [
    "## Utility matrix for users (for restaurants take utility_matrix.T)\n",
    "from scipy.sparse import csr_matrix\n",
    "\n",
    "utility_matrix = reviews_filtered.pivot_table(index='user_id', values='review_stars', columns='name').fillna(0)\n",
    "um = csr_matrix(utility_matrix) "
   ]
  },
  {
   "cell_type": "code",
   "execution_count": 11,
   "metadata": {},
   "outputs": [],
   "source": [
    "restaurant_ids = (utility_matrix.columns)\n",
    "users_ids = (utility_matrix.index)"
   ]
  },
  {
   "cell_type": "code",
   "execution_count": 12,
   "metadata": {},
   "outputs": [],
   "source": [
    "# Normalizing the data\n",
    "\n",
    "sum_ratings_per_restaurant = um.sum(axis=0)\n",
    "n_ratings_per_restaurant = um.getnnz(axis=0)\n",
    "mean_rating_per_restaurant = sum_ratings_per_restaurant / n_ratings_per_restaurant"
   ]
  },
  {
   "cell_type": "code",
   "execution_count": 13,
   "metadata": {},
   "outputs": [
    {
     "data": {
      "text/plain": [
       "(4006, 14149)"
      ]
     },
     "execution_count": 13,
     "metadata": {},
     "output_type": "execute_result"
    }
   ],
   "source": [
    "um_mean_restaurant = np.tile(mean_rating_per_restaurant, (um.shape[0],1))\n",
    "um_mean_restaurant.shape"
   ]
  },
  {
   "cell_type": "code",
   "execution_count": 14,
   "metadata": {},
   "outputs": [],
   "source": [
    "um_norm = um - csr_matrix(um_mean_restaurant)"
   ]
  },
  {
   "cell_type": "code",
   "execution_count": 15,
   "metadata": {},
   "outputs": [
    {
     "data": {
      "text/plain": [
       "matrix([[0., 0., 0., ..., 0., 0., 0.],\n",
       "        [0., 0., 0., ..., 0., 0., 0.],\n",
       "        [0., 0., 0., ..., 0., 0., 0.],\n",
       "        ...,\n",
       "        [0., 0., 0., ..., 0., 0., 0.],\n",
       "        [0., 0., 0., ..., 0., 0., 0.],\n",
       "        [0., 0., 0., ..., 0., 0., 0.]])"
      ]
     },
     "execution_count": 15,
     "metadata": {},
     "output_type": "execute_result"
    }
   ],
   "source": [
    "# Comparing after and before normalizing\n",
    "\n",
    "um.todense()"
   ]
  },
  {
   "cell_type": "code",
   "execution_count": 16,
   "metadata": {},
   "outputs": [
    {
     "data": {
      "text/plain": [
       "matrix([[-3.        , -2.6       , -3.8       , ..., -5.        ,\n",
       "         -4.        , -3.66666667],\n",
       "        [-3.        , -2.6       , -3.8       , ..., -5.        ,\n",
       "         -4.        , -3.66666667],\n",
       "        [-3.        , -2.6       , -3.8       , ..., -5.        ,\n",
       "         -4.        , -3.66666667],\n",
       "        ...,\n",
       "        [-3.        , -2.6       , -3.8       , ..., -5.        ,\n",
       "         -4.        , -3.66666667],\n",
       "        [-3.        , -2.6       , -3.8       , ..., -5.        ,\n",
       "         -4.        , -3.66666667],\n",
       "        [-3.        , -2.6       , -3.8       , ..., -5.        ,\n",
       "         -4.        , -3.66666667]])"
      ]
     },
     "execution_count": 16,
     "metadata": {},
     "output_type": "execute_result"
    }
   ],
   "source": [
    "um_norm.todense()"
   ]
  },
  {
   "cell_type": "code",
   "execution_count": 17,
   "metadata": {},
   "outputs": [],
   "source": [
    "# create the cosine_matrix\n",
    "from sklearn.metrics.pairwise import cosine_similarity\n",
    "\n",
    "cosine_sim = cosine_similarity(um_norm, um_norm)"
   ]
  },
  {
   "cell_type": "code",
   "execution_count": 18,
   "metadata": {},
   "outputs": [],
   "source": [
    "## Restaurant recomendation (item-item) with k-NN"
   ]
  },
  {
   "cell_type": "code",
   "execution_count": 19,
   "metadata": {},
   "outputs": [],
   "source": [
    "from sklearn.neighbors import NearestNeighbors"
   ]
  },
  {
   "cell_type": "code",
   "execution_count": 20,
   "metadata": {},
   "outputs": [],
   "source": [
    "names = reviews_filtered['name']\n",
    "restaurant_ids = reviews_filtered.index\n",
    "\n",
    "def recommendations(restaurant, distance, k=10):\n",
    "    correct_name = reviews_filtered[reviews_filtered.name.str.contains(restaurant)]['name'].values[0]\n",
    "    idx = restaurant_ids.get_loc(reviews_filtered[reviews_filtered.name.str.contains(restaurant)]['name'].index[0])\n",
    "    \n",
    "    sim_scores = list(enumerate(distance[idx]))\n",
    "    sim_scores = sorted(sim_scores, key=lambda x: x[1], reverse = True)\n",
    "    sim_scores = sim_scores[1:k]\n",
    "    \n",
    "    similar_restaurants = [i[0] for i in sim_scores]\n",
    "    \n",
    "    print(f'Recommendations for {correct_name}')\n",
    "    return reviews_filtered['name'].iloc[similar_restaurants]"
   ]
  },
  {
   "cell_type": "code",
   "execution_count": 23,
   "metadata": {},
   "outputs": [
    {
     "ename": "IndexError",
     "evalue": "index 4473 is out of bounds for axis 0 with size 4006",
     "output_type": "error",
     "traceback": [
      "\u001b[1;31m---------------------------------------------------------------------------\u001b[0m",
      "\u001b[1;31mIndexError\u001b[0m                                Traceback (most recent call last)",
      "\u001b[1;32m<ipython-input-23-1993d93b24a7>\u001b[0m in \u001b[0;36m<module>\u001b[1;34m\u001b[0m\n\u001b[1;32m----> 1\u001b[1;33m \u001b[0mrecommendations\u001b[0m\u001b[1;33m(\u001b[0m\u001b[1;34m'Liberty'\u001b[0m\u001b[1;33m,\u001b[0m \u001b[0mcosine_sim\u001b[0m\u001b[1;33m,\u001b[0m \u001b[0mk\u001b[0m\u001b[1;33m=\u001b[0m\u001b[1;36m20\u001b[0m\u001b[1;33m)\u001b[0m\u001b[1;33m\u001b[0m\u001b[1;33m\u001b[0m\u001b[0m\n\u001b[0m",
      "\u001b[1;32m<ipython-input-20-5d6af1710508>\u001b[0m in \u001b[0;36mrecommendations\u001b[1;34m(restaurant, distance, k)\u001b[0m\n\u001b[0;32m      6\u001b[0m     \u001b[0midx\u001b[0m \u001b[1;33m=\u001b[0m \u001b[0mrestaurant_ids\u001b[0m\u001b[1;33m.\u001b[0m\u001b[0mget_loc\u001b[0m\u001b[1;33m(\u001b[0m\u001b[0mreviews_filtered\u001b[0m\u001b[1;33m[\u001b[0m\u001b[0mreviews_filtered\u001b[0m\u001b[1;33m.\u001b[0m\u001b[0mname\u001b[0m\u001b[1;33m.\u001b[0m\u001b[0mstr\u001b[0m\u001b[1;33m.\u001b[0m\u001b[0mcontains\u001b[0m\u001b[1;33m(\u001b[0m\u001b[0mrestaurant\u001b[0m\u001b[1;33m)\u001b[0m\u001b[1;33m]\u001b[0m\u001b[1;33m[\u001b[0m\u001b[1;34m'name'\u001b[0m\u001b[1;33m]\u001b[0m\u001b[1;33m.\u001b[0m\u001b[0mindex\u001b[0m\u001b[1;33m[\u001b[0m\u001b[1;36m0\u001b[0m\u001b[1;33m]\u001b[0m\u001b[1;33m)\u001b[0m\u001b[1;33m\u001b[0m\u001b[1;33m\u001b[0m\u001b[0m\n\u001b[0;32m      7\u001b[0m \u001b[1;33m\u001b[0m\u001b[0m\n\u001b[1;32m----> 8\u001b[1;33m     \u001b[0msim_scores\u001b[0m \u001b[1;33m=\u001b[0m \u001b[0mlist\u001b[0m\u001b[1;33m(\u001b[0m\u001b[0menumerate\u001b[0m\u001b[1;33m(\u001b[0m\u001b[0mdistance\u001b[0m\u001b[1;33m[\u001b[0m\u001b[0midx\u001b[0m\u001b[1;33m]\u001b[0m\u001b[1;33m)\u001b[0m\u001b[1;33m)\u001b[0m\u001b[1;33m\u001b[0m\u001b[1;33m\u001b[0m\u001b[0m\n\u001b[0m\u001b[0;32m      9\u001b[0m     \u001b[0msim_scores\u001b[0m \u001b[1;33m=\u001b[0m \u001b[0msorted\u001b[0m\u001b[1;33m(\u001b[0m\u001b[0msim_scores\u001b[0m\u001b[1;33m,\u001b[0m \u001b[0mkey\u001b[0m\u001b[1;33m=\u001b[0m\u001b[1;32mlambda\u001b[0m \u001b[0mx\u001b[0m\u001b[1;33m:\u001b[0m \u001b[0mx\u001b[0m\u001b[1;33m[\u001b[0m\u001b[1;36m1\u001b[0m\u001b[1;33m]\u001b[0m\u001b[1;33m,\u001b[0m \u001b[0mreverse\u001b[0m \u001b[1;33m=\u001b[0m \u001b[1;32mTrue\u001b[0m\u001b[1;33m)\u001b[0m\u001b[1;33m\u001b[0m\u001b[1;33m\u001b[0m\u001b[0m\n\u001b[0;32m     10\u001b[0m     \u001b[0msim_scores\u001b[0m \u001b[1;33m=\u001b[0m \u001b[0msim_scores\u001b[0m\u001b[1;33m[\u001b[0m\u001b[1;36m1\u001b[0m\u001b[1;33m:\u001b[0m\u001b[0mk\u001b[0m\u001b[1;33m]\u001b[0m\u001b[1;33m\u001b[0m\u001b[1;33m\u001b[0m\u001b[0m\n",
      "\u001b[1;31mIndexError\u001b[0m: index 4473 is out of bounds for axis 0 with size 4006"
     ]
    }
   ],
   "source": [
    "recommendations('Liberty', cosine_sim, k=20)"
   ]
  },
  {
   "cell_type": "code",
   "execution_count": 22,
   "metadata": {},
   "outputs": [
    {
     "name": "stdout",
     "output_type": "stream",
     "text": [
      "Recommendations for El Pollo Loco\n"
     ]
    },
    {
     "data": {
      "text/plain": [
       "8061        Diamond Restaurant\n",
       "32153    Tomo Japanese Cuisine\n",
       "34265             Asian Legend\n",
       "15272         Everyday Noodles\n",
       "20827       Wonton Chai Noodle\n",
       "32398              Le Gourmand\n",
       "26682         Joe's Farm Grill\n",
       "29894        Yasu Sushi Bistro\n",
       "12670               StripSteak\n",
       "30205            Tacos Sahuaro\n",
       "26011                  Bouchon\n",
       "20368           Sonic Drive-In\n",
       "10894            Chop Chop Wok\n",
       "21750              Dragon Town\n",
       "Name: name, dtype: object"
      ]
     },
     "execution_count": 22,
     "metadata": {},
     "output_type": "execute_result"
    }
   ],
   "source": [
    "recommendations('Pollo Loco', cosine_sim, k=15)"
   ]
  },
  {
   "cell_type": "code",
   "execution_count": 24,
   "metadata": {},
   "outputs": [
    {
     "data": {
      "text/plain": [
       "(4006, 4006)"
      ]
     },
     "execution_count": 24,
     "metadata": {},
     "output_type": "execute_result"
    }
   ],
   "source": [
    "cosine_sim.shape"
   ]
  },
  {
   "cell_type": "markdown",
   "metadata": {},
   "source": [
    "### Dimension reduction"
   ]
  },
  {
   "cell_type": "code",
   "execution_count": 25,
   "metadata": {},
   "outputs": [],
   "source": [
    "from sklearn.decomposition import TruncatedSVD\n",
    "import matplotlib.pyplot as plt\n",
    "\n",
    "def optimal_dimensions_svd(matrix):\n",
    "    n_comp = [2,4,7,10,15,20,50,100,150,200,500,700,800,900,1000,1500,2000,2500,3000,3500,4000] # list containing different values of components\n",
    "    explained = [] # explained variance ratio for each component of Truncated SVD\n",
    "    for x in n_comp:\n",
    "        svd = TruncatedSVD(n_components=x, n_iter=10)\n",
    "        svd.fit(matrix)\n",
    "        explained.append(svd.explained_variance_ratio_.sum())\n",
    "        print(\"Number of components = %r and explained variance = %r\"%(x,svd.explained_variance_ratio_.sum()))\n",
    "    plt.plot(n_comp, explained)\n",
    "    plt.xlabel('Number of components')\n",
    "    plt.ylabel(\"Explained Variance\")\n",
    "    plt.title(\"Plot of Number of components v/s explained variance\")\n",
    "    plt.show()"
   ]
  },
  {
   "cell_type": "code",
   "execution_count": 26,
   "metadata": {},
   "outputs": [
    {
     "data": {
      "text/plain": [
       "4006"
      ]
     },
     "execution_count": 26,
     "metadata": {},
     "output_type": "execute_result"
    }
   ],
   "source": [
    "cosine_sim.shape[0]"
   ]
  },
  {
   "cell_type": "code",
   "execution_count": 27,
   "metadata": {},
   "outputs": [
    {
     "name": "stdout",
     "output_type": "stream",
     "text": [
      "Number of components = 2 and explained variance = 0.9801189917870281\n",
      "Number of components = 4 and explained variance = 0.9888182973245369\n",
      "Number of components = 7 and explained variance = 0.9916988654028565\n",
      "Number of components = 10 and explained variance = 0.992607373909319\n",
      "Number of components = 15 and explained variance = 0.9934736650407323\n",
      "Number of components = 20 and explained variance = 0.9939523849585676\n",
      "Number of components = 50 and explained variance = 0.9952266808878341\n",
      "Number of components = 100 and explained variance = 0.9962098870824404\n",
      "Number of components = 150 and explained variance = 0.9968180883960654\n",
      "Number of components = 200 and explained variance = 0.997258269347349\n",
      "Number of components = 500 and explained variance = 0.9986260998304227\n",
      "Number of components = 700 and explained variance = 0.9990645647300513\n",
      "Number of components = 800 and explained variance = 0.9992192720418471\n",
      "Number of components = 900 and explained variance = 0.9993449773729882\n",
      "Number of components = 1000 and explained variance = 0.9994485440054445\n",
      "Number of components = 1500 and explained variance = 0.9997625521587585\n",
      "Number of components = 2000 and explained variance = 0.999900413781698\n",
      "Number of components = 2500 and explained variance = 0.9999624818323127\n",
      "Number of components = 3000 and explained variance = 0.9999887851548042\n",
      "Number of components = 3500 and explained variance = 0.9999981316636907\n",
      "Number of components = 4000 and explained variance = 0.9999999984780762\n"
     ]
    },
    {
     "data": {
      "image/png": "[encoded data removed]",
      "text/plain": [
       "<Figure size 432x288 with 1 Axes>"
      ]
     },
     "metadata": {
      "needs_background": "light"
     },
     "output_type": "display_data"
    }
   ],
   "source": [
    "optimal_dimensions_svd(cosine_sim)"
   ]
  },
  {
   "cell_type": "code",
   "execution_count": null,
   "metadata": {},
   "outputs": [],
   "source": [
    "# The selected number is 10 which explains a 99% of the variance."
   ]
  },
  {
   "cell_type": "code",
   "execution_count": 28,
   "metadata": {},
   "outputs": [],
   "source": [
    "svd = TruncatedSVD(n_components=10, n_iter=10)\n",
    "Z = svd.fit_transform(cosine_sim)"
   ]
  },
  {
   "cell_type": "code",
   "execution_count": 32,
   "metadata": {},
   "outputs": [
    {
     "name": "stdout",
     "output_type": "stream",
     "text": [
      "Number of components = 2 and explained variance = 0.04157976025691141\n",
      "Number of components = 4 and explained variance = 0.06694717730238406\n",
      "Number of components = 7 and explained variance = 0.0921774654360384\n",
      "Number of components = 10 and explained variance = 0.10599314924961847\n",
      "Number of components = 15 and explained variance = 0.12353347029229107\n",
      "Number of components = 20 and explained variance = 0.13683274110452445\n",
      "Number of components = 50 and explained variance = 0.19089943670107842\n",
      "Number of components = 100 and explained variance = 0.25311508390191\n",
      "Number of components = 150 and explained variance = 0.30229071357686965\n",
      "Number of components = 200 and explained variance = 0.3441442262944723\n",
      "Number of components = 500 and explained variance = 0.5237733358717821\n",
      "Number of components = 700 and explained variance = 0.6077370768121786\n",
      "Number of components = 800 and explained variance = 0.6430672178810096\n",
      "Number of components = 900 and explained variance = 0.6749244508382675\n",
      "Number of components = 1000 and explained variance = 0.7038569902783064\n",
      "Number of components = 1500 and explained variance = 0.8158408648624218\n",
      "Number of components = 2000 and explained variance = 0.890184784885546\n",
      "Number of components = 2500 and explained variance = 0.9401289045159347\n",
      "Number of components = 3000 and explained variance = 0.9725849270363894\n",
      "Number of components = 3500 and explained variance = 0.9918279328466486\n",
      "Number of components = 4000 and explained variance = 0.9999730939998064\n"
     ]
    },
    {
     "data": {
      "image/png": "[encoded data removed]",
      "text/plain": [
       "<Figure size 432x288 with 1 Axes>"
      ]
     },
     "metadata": {
      "needs_background": "light"
     },
     "output_type": "display_data"
    }
   ],
   "source": [
    "# The number of components has increased... now are 3000\n",
    "optimal_dimensions_svd(utility_matrix)"
   ]
  },
  {
   "cell_type": "code",
   "execution_count": 33,
   "metadata": {},
   "outputs": [],
   "source": [
    "svd = TruncatedSVD(n_components=3000, n_iter=10)\n",
    "cf = svd.fit_transform(utility_matrix)"
   ]
  },
  {
   "cell_type": "code",
   "execution_count": 34,
   "metadata": {},
   "outputs": [
    {
     "data": {
      "text/plain": [
       "array([[-0.00793383, -0.00053581,  0.02692854, ..., -0.00409359,\n",
       "        -0.00417807,  0.0007716 ],\n",
       "       [-0.01124291,  0.06254465,  0.00669541, ...,  0.00407962,\n",
       "        -0.01559481,  0.00317272],\n",
       "       [-0.0170828 , -0.00530238,  0.00082722, ..., -0.01111826,\n",
       "         0.00900144,  0.00909887],\n",
       "       ...,\n",
       "       [-0.00110778, -0.00549144,  0.0020523 , ...,  0.00600018,\n",
       "         0.00257069, -0.00290976],\n",
       "       [-0.0027492 ,  0.01488567, -0.00279907, ..., -0.01055194,\n",
       "         0.00228021, -0.00045709],\n",
       "       [-0.00066829, -0.00337797,  0.00464784, ...,  0.00745418,\n",
       "        -0.00136384, -0.00501976]])"
      ]
     },
     "execution_count": 34,
     "metadata": {},
     "output_type": "execute_result"
    }
   ],
   "source": [
    "cf_inv = svd.inverse_transform(cf).T\n",
    "cf_inv"
   ]
  },
  {
   "cell_type": "markdown",
   "metadata": {},
   "source": [
    "### Predicting missing ratings to generate top N recommendations"
   ]
  },
  {
   "cell_type": "code",
   "execution_count": 29,
   "metadata": {},
   "outputs": [],
   "source": [
    "new_X = svd.inverse_transform(Z).T"
   ]
  },
  {
   "cell_type": "code",
   "execution_count": 35,
   "metadata": {},
   "outputs": [],
   "source": [
    "def user_recomendations(user_id, k=10):\n",
    "    idx_loc = utility_matrix.index.get_loc(user_id)\n",
    "    rec = pd.DataFrame(list(zip(reviews_filtered['name'], \n",
    "                                utility_matrix.loc[user_id], \n",
    "                                cf_inv[idx_loc, :])), \n",
    "                       columns=['restaurant', 'stars', 'pred'])\n",
    "    return rec[rec.stars==0].sort_values('pred', ascending=False).head(k)"
   ]
  },
  {
   "cell_type": "code",
   "execution_count": 36,
   "metadata": {},
   "outputs": [
    {
     "data": {
      "text/html": [
       "<div>\n",
       "<style scoped>\n",
       "    .dataframe tbody tr th:only-of-type {\n",
       "        vertical-align: middle;\n",
       "    }\n",
       "\n",
       "    .dataframe tbody tr th {\n",
       "        vertical-align: top;\n",
       "    }\n",
       "\n",
       "    .dataframe thead th {\n",
       "        text-align: right;\n",
       "    }\n",
       "</style>\n",
       "<table border=\"1\" class=\"dataframe\">\n",
       "  <thead>\n",
       "    <tr style=\"text-align: right;\">\n",
       "      <th></th>\n",
       "      <th>restaurant</th>\n",
       "      <th>stars</th>\n",
       "      <th>pred</th>\n",
       "    </tr>\n",
       "  </thead>\n",
       "  <tbody>\n",
       "    <tr>\n",
       "      <td>2628</td>\n",
       "      <td>Mama Gina's Pizzeria</td>\n",
       "      <td>0.0</td>\n",
       "      <td>3.981671</td>\n",
       "    </tr>\n",
       "    <tr>\n",
       "      <td>1168</td>\n",
       "      <td>Jackie Bee Boba Express</td>\n",
       "      <td>0.0</td>\n",
       "      <td>3.787555</td>\n",
       "    </tr>\n",
       "    <tr>\n",
       "      <td>1903</td>\n",
       "      <td>Akaihana Sushi &amp; Grill</td>\n",
       "      <td>0.0</td>\n",
       "      <td>3.274459</td>\n",
       "    </tr>\n",
       "    <tr>\n",
       "      <td>479</td>\n",
       "      <td>Joe's Farm Grill</td>\n",
       "      <td>0.0</td>\n",
       "      <td>2.924332</td>\n",
       "    </tr>\n",
       "    <tr>\n",
       "      <td>1101</td>\n",
       "      <td>Otro Cafe</td>\n",
       "      <td>0.0</td>\n",
       "      <td>2.896428</td>\n",
       "    </tr>\n",
       "    <tr>\n",
       "      <td>920</td>\n",
       "      <td>Sansotei</td>\n",
       "      <td>0.0</td>\n",
       "      <td>0.387585</td>\n",
       "    </tr>\n",
       "    <tr>\n",
       "      <td>1816</td>\n",
       "      <td>Cocos Locos</td>\n",
       "      <td>0.0</td>\n",
       "      <td>0.349992</td>\n",
       "    </tr>\n",
       "    <tr>\n",
       "      <td>929</td>\n",
       "      <td>Cabo Fish Taco</td>\n",
       "      <td>0.0</td>\n",
       "      <td>0.324478</td>\n",
       "    </tr>\n",
       "    <tr>\n",
       "      <td>3203</td>\n",
       "      <td>Egg N' Joe</td>\n",
       "      <td>0.0</td>\n",
       "      <td>0.300741</td>\n",
       "    </tr>\n",
       "    <tr>\n",
       "      <td>2831</td>\n",
       "      <td>LeonÃ© CafÃ©</td>\n",
       "      <td>0.0</td>\n",
       "      <td>0.255335</td>\n",
       "    </tr>\n",
       "  </tbody>\n",
       "</table>\n",
       "</div>"
      ],
      "text/plain": [
       "                   restaurant  stars      pred\n",
       "2628     Mama Gina's Pizzeria    0.0  3.981671\n",
       "1168  Jackie Bee Boba Express    0.0  3.787555\n",
       "1903   Akaihana Sushi & Grill    0.0  3.274459\n",
       "479          Joe's Farm Grill    0.0  2.924332\n",
       "1101                Otro Cafe    0.0  2.896428\n",
       "920                  Sansotei    0.0  0.387585\n",
       "1816              Cocos Locos    0.0  0.349992\n",
       "929            Cabo Fish Taco    0.0  0.324478\n",
       "3203               Egg N' Joe    0.0  0.300741\n",
       "2831             LeonÃ© CafÃ©    0.0  0.255335"
      ]
     },
     "execution_count": 36,
     "metadata": {},
     "output_type": "execute_result"
    }
   ],
   "source": [
    "user_recomendations('zFCuveEe6M-ijY1iy23IJg')"
   ]
  },
  {
   "cell_type": "code",
   "execution_count": 37,
   "metadata": {},
   "outputs": [
    {
     "data": {
      "text/html": [
       "<div>\n",
       "<style scoped>\n",
       "    .dataframe tbody tr th:only-of-type {\n",
       "        vertical-align: middle;\n",
       "    }\n",
       "\n",
       "    .dataframe tbody tr th {\n",
       "        vertical-align: top;\n",
       "    }\n",
       "\n",
       "    .dataframe thead th {\n",
       "        text-align: right;\n",
       "    }\n",
       "</style>\n",
       "<table border=\"1\" class=\"dataframe\">\n",
       "  <thead>\n",
       "    <tr style=\"text-align: right;\">\n",
       "      <th></th>\n",
       "      <th>restaurant</th>\n",
       "      <th>stars</th>\n",
       "      <th>pred</th>\n",
       "    </tr>\n",
       "  </thead>\n",
       "  <tbody>\n",
       "    <tr>\n",
       "      <td>944</td>\n",
       "      <td>Cabo Fish Taco</td>\n",
       "      <td>0.0</td>\n",
       "      <td>3.687070</td>\n",
       "    </tr>\n",
       "    <tr>\n",
       "      <td>3909</td>\n",
       "      <td>Stella Mia Ristorante</td>\n",
       "      <td>0.0</td>\n",
       "      <td>2.978179</td>\n",
       "    </tr>\n",
       "    <tr>\n",
       "      <td>1316</td>\n",
       "      <td>Crescent Ballroom</td>\n",
       "      <td>0.0</td>\n",
       "      <td>2.625018</td>\n",
       "    </tr>\n",
       "    <tr>\n",
       "      <td>3698</td>\n",
       "      <td>Yu Seafood</td>\n",
       "      <td>0.0</td>\n",
       "      <td>1.923164</td>\n",
       "    </tr>\n",
       "    <tr>\n",
       "      <td>3949</td>\n",
       "      <td>Wonton King</td>\n",
       "      <td>0.0</td>\n",
       "      <td>0.958079</td>\n",
       "    </tr>\n",
       "    <tr>\n",
       "      <td>2640</td>\n",
       "      <td>Blue Hound</td>\n",
       "      <td>0.0</td>\n",
       "      <td>0.240701</td>\n",
       "    </tr>\n",
       "    <tr>\n",
       "      <td>1288</td>\n",
       "      <td>The Cheesecake Factory</td>\n",
       "      <td>0.0</td>\n",
       "      <td>0.204482</td>\n",
       "    </tr>\n",
       "    <tr>\n",
       "      <td>489</td>\n",
       "      <td>Joe's Farm Grill</td>\n",
       "      <td>0.0</td>\n",
       "      <td>0.150649</td>\n",
       "    </tr>\n",
       "    <tr>\n",
       "      <td>3557</td>\n",
       "      <td>Mr. Brews Taphouse-West Madison</td>\n",
       "      <td>0.0</td>\n",
       "      <td>0.147865</td>\n",
       "    </tr>\n",
       "    <tr>\n",
       "      <td>3429</td>\n",
       "      <td>Li's Asian</td>\n",
       "      <td>0.0</td>\n",
       "      <td>0.136873</td>\n",
       "    </tr>\n",
       "  </tbody>\n",
       "</table>\n",
       "</div>"
      ],
      "text/plain": [
       "                           restaurant  stars      pred\n",
       "944                    Cabo Fish Taco    0.0  3.687070\n",
       "3909            Stella Mia Ristorante    0.0  2.978179\n",
       "1316                Crescent Ballroom    0.0  2.625018\n",
       "3698                       Yu Seafood    0.0  1.923164\n",
       "3949                      Wonton King    0.0  0.958079\n",
       "2640                       Blue Hound    0.0  0.240701\n",
       "1288           The Cheesecake Factory    0.0  0.204482\n",
       "489                  Joe's Farm Grill    0.0  0.150649\n",
       "3557  Mr. Brews Taphouse-West Madison    0.0  0.147865\n",
       "3429                       Li's Asian    0.0  0.136873"
      ]
     },
     "execution_count": 37,
     "metadata": {},
     "output_type": "execute_result"
    }
   ],
   "source": [
    "user_recomendations('--Qh8yKWAvIP4V4K8ZPfHA')"
   ]
  },
  {
   "cell_type": "code",
   "execution_count": 38,
   "metadata": {},
   "outputs": [
    {
     "data": {
      "text/html": [
       "<div>\n",
       "<style scoped>\n",
       "    .dataframe tbody tr th:only-of-type {\n",
       "        vertical-align: middle;\n",
       "    }\n",
       "\n",
       "    .dataframe tbody tr th {\n",
       "        vertical-align: top;\n",
       "    }\n",
       "\n",
       "    .dataframe thead th {\n",
       "        text-align: right;\n",
       "    }\n",
       "</style>\n",
       "<table border=\"1\" class=\"dataframe\">\n",
       "  <thead>\n",
       "    <tr style=\"text-align: right;\">\n",
       "      <th></th>\n",
       "      <th>restaurant</th>\n",
       "      <th>stars</th>\n",
       "      <th>pred</th>\n",
       "    </tr>\n",
       "  </thead>\n",
       "  <tbody>\n",
       "    <tr>\n",
       "      <td>1720</td>\n",
       "      <td>Cafe Sanuki</td>\n",
       "      <td>0.0</td>\n",
       "      <td>3.992510</td>\n",
       "    </tr>\n",
       "    <tr>\n",
       "      <td>1042</td>\n",
       "      <td>Fajitas A Sizzlin Celebration</td>\n",
       "      <td>0.0</td>\n",
       "      <td>3.980332</td>\n",
       "    </tr>\n",
       "    <tr>\n",
       "      <td>3051</td>\n",
       "      <td>The Clever Koi</td>\n",
       "      <td>0.0</td>\n",
       "      <td>3.974655</td>\n",
       "    </tr>\n",
       "    <tr>\n",
       "      <td>1701</td>\n",
       "      <td>Letty's</td>\n",
       "      <td>0.0</td>\n",
       "      <td>3.970542</td>\n",
       "    </tr>\n",
       "    <tr>\n",
       "      <td>3368</td>\n",
       "      <td>Pescado Borracho</td>\n",
       "      <td>0.0</td>\n",
       "      <td>2.928411</td>\n",
       "    </tr>\n",
       "    <tr>\n",
       "      <td>3997</td>\n",
       "      <td>Otro Cafe</td>\n",
       "      <td>0.0</td>\n",
       "      <td>0.108822</td>\n",
       "    </tr>\n",
       "    <tr>\n",
       "      <td>2105</td>\n",
       "      <td>Jacks Place</td>\n",
       "      <td>0.0</td>\n",
       "      <td>0.103031</td>\n",
       "    </tr>\n",
       "    <tr>\n",
       "      <td>1957</td>\n",
       "      <td>Fudao noodle house</td>\n",
       "      <td>0.0</td>\n",
       "      <td>0.050229</td>\n",
       "    </tr>\n",
       "    <tr>\n",
       "      <td>2416</td>\n",
       "      <td>Sakana</td>\n",
       "      <td>0.0</td>\n",
       "      <td>0.049155</td>\n",
       "    </tr>\n",
       "    <tr>\n",
       "      <td>53</td>\n",
       "      <td>Beckett's Table</td>\n",
       "      <td>0.0</td>\n",
       "      <td>0.049009</td>\n",
       "    </tr>\n",
       "  </tbody>\n",
       "</table>\n",
       "</div>"
      ],
      "text/plain": [
       "                         restaurant  stars      pred\n",
       "1720                    Cafe Sanuki    0.0  3.992510\n",
       "1042  Fajitas A Sizzlin Celebration    0.0  3.980332\n",
       "3051                 The Clever Koi    0.0  3.974655\n",
       "1701                        Letty's    0.0  3.970542\n",
       "3368               Pescado Borracho    0.0  2.928411\n",
       "3997                      Otro Cafe    0.0  0.108822\n",
       "2105                    Jacks Place    0.0  0.103031\n",
       "1957             Fudao noodle house    0.0  0.050229\n",
       "2416                         Sakana    0.0  0.049155\n",
       "53                  Beckett's Table    0.0  0.049009"
      ]
     },
     "execution_count": 38,
     "metadata": {},
     "output_type": "execute_result"
    }
   ],
   "source": [
    "user_recomendations('-0b84SUGVN0YkG5j2MCmBw')"
   ]
  },
  {
   "cell_type": "code",
   "execution_count": 39,
   "metadata": {},
   "outputs": [
    {
     "data": {
      "text/plain": [
       "name\n",
       " China                                 0.0\n",
       "&Company Resto Bar                     0.0\n",
       "1 Pot                                  0.0\n",
       "100th Bomb Group                       0.0\n",
       "107 State                              0.0\n",
       "                                      ... \n",
       "Ã‰rabliÃ¨re Ã  la Feuille d'Ã‰rable    0.0\n",
       "Ã‰tat-Major                            0.0\n",
       "Ã‰toile Rouge                          0.0\n",
       "Ã‰tudiant Savoureux Biryani            0.0\n",
       "Å’ufs & Cie                            0.0\n",
       "Name: zFCuveEe6M-ijY1iy23IJg, Length: 14149, dtype: float64"
      ]
     },
     "execution_count": 39,
     "metadata": {},
     "output_type": "execute_result"
    }
   ],
   "source": [
    "utility_matrix.loc['zFCuveEe6M-ijY1iy23IJg']"
   ]
  },
  {
   "cell_type": "code",
   "execution_count": null,
   "metadata": {},
   "outputs": [],
   "source": [
    "utility_matrix.index.get_loc('zFCuveEe6M-ijY1iy23IJg')"
   ]
  },
  {
   "cell_type": "code",
   "execution_count": null,
   "metadata": {},
   "outputs": [],
   "source": [
    "new_X[3309, :]"
   ]
  },
  {
   "cell_type": "code",
   "execution_count": null,
   "metadata": {},
   "outputs": [],
   "source": [
    "utility_matrix.head()"
   ]
  },
  {
   "cell_type": "code",
   "execution_count": null,
   "metadata": {},
   "outputs": [],
   "source": [
    "cosine_sim"
   ]
  },
  {
   "cell_type": "code",
   "execution_count": null,
   "metadata": {},
   "outputs": [],
   "source": [
    "# Reminder: Apply the algorith (SVD) to the utility matrix, not de cosine_sim distance!!!!"
   ]
  },
  {
   "cell_type": "code",
   "execution_count": 42,
   "metadata": {},
   "outputs": [],
   "source": [
    "# Evaluation metrics\n",
    "\n",
    "#from funcsigs import signature\n",
    "import recmetrics\n",
    "from surprise import Reader, SVD, Dataset\n",
    "from surprise.model_selection import train_test_split"
   ]
  },
  {
   "cell_type": "code",
   "execution_count": 43,
   "metadata": {},
   "outputs": [],
   "source": [
    "reader = Reader(rating_scale=(1,5))\n",
    "data = Dataset.load_from_df(reviews_filtered, reader)\n",
    "trainset, testset = train_test_split(data, test_size=0.25, random_state=42)"
   ]
  },
  {
   "cell_type": "code",
   "execution_count": 44,
   "metadata": {},
   "outputs": [
    {
     "data": {
      "text/plain": [
       "<surprise.prediction_algorithms.matrix_factorization.SVD at 0x14b826e9908>"
      ]
     },
     "execution_count": 44,
     "metadata": {},
     "output_type": "execute_result"
    }
   ],
   "source": [
    "# train SVD recommender\n",
    "algo = SVD(n_factors=3000, n_epochs=10)\n",
    "algo.fit(trainset)"
   ]
  },
  {
   "cell_type": "code",
   "execution_count": 45,
   "metadata": {},
   "outputs": [
    {
     "data": {
      "text/html": [
       "<div>\n",
       "<style scoped>\n",
       "    .dataframe tbody tr th:only-of-type {\n",
       "        vertical-align: middle;\n",
       "    }\n",
       "\n",
       "    .dataframe tbody tr th {\n",
       "        vertical-align: top;\n",
       "    }\n",
       "\n",
       "    .dataframe thead th {\n",
       "        text-align: right;\n",
       "    }\n",
       "</style>\n",
       "<table border=\"1\" class=\"dataframe\">\n",
       "  <thead>\n",
       "    <tr style=\"text-align: right;\">\n",
       "      <th></th>\n",
       "      <th>userid</th>\n",
       "      <th>restaurant</th>\n",
       "      <th>actual</th>\n",
       "      <th>cf_predictions</th>\n",
       "    </tr>\n",
       "  </thead>\n",
       "  <tbody>\n",
       "    <tr>\n",
       "      <td>0</td>\n",
       "      <td>4ZkQwaOoLT2eJWux9fE1Jw</td>\n",
       "      <td>KINTON RAMEN</td>\n",
       "      <td>3.0</td>\n",
       "      <td>3.156506</td>\n",
       "    </tr>\n",
       "    <tr>\n",
       "      <td>1</td>\n",
       "      <td>36uY0YLHy70zR7YoXLUKSA</td>\n",
       "      <td>Majerle's Sports Grill</td>\n",
       "      <td>4.0</td>\n",
       "      <td>3.654077</td>\n",
       "    </tr>\n",
       "    <tr>\n",
       "      <td>2</td>\n",
       "      <td>kbfpED-6FURIsNlsAXqc2g</td>\n",
       "      <td>Red Lobster</td>\n",
       "      <td>5.0</td>\n",
       "      <td>3.318354</td>\n",
       "    </tr>\n",
       "    <tr>\n",
       "      <td>3</td>\n",
       "      <td>O3pSxv1SyHpY4qi4Q16KzA</td>\n",
       "      <td>School Restaurant</td>\n",
       "      <td>3.0</td>\n",
       "      <td>3.618388</td>\n",
       "    </tr>\n",
       "    <tr>\n",
       "      <td>4</td>\n",
       "      <td>Oz1Tz4LUlLw_UAgEkUiCvw</td>\n",
       "      <td>Luciano's Ristorante Italiano</td>\n",
       "      <td>5.0</td>\n",
       "      <td>3.633401</td>\n",
       "    </tr>\n",
       "  </tbody>\n",
       "</table>\n",
       "</div>"
      ],
      "text/plain": [
       "                   userid                     restaurant  actual  \\\n",
       "0  4ZkQwaOoLT2eJWux9fE1Jw                   KINTON RAMEN     3.0   \n",
       "1  36uY0YLHy70zR7YoXLUKSA         Majerle's Sports Grill     4.0   \n",
       "2  kbfpED-6FURIsNlsAXqc2g                    Red Lobster     5.0   \n",
       "3  O3pSxv1SyHpY4qi4Q16KzA              School Restaurant     3.0   \n",
       "4  Oz1Tz4LUlLw_UAgEkUiCvw  Luciano's Ristorante Italiano     5.0   \n",
       "\n",
       "   cf_predictions  \n",
       "0        3.156506  \n",
       "1        3.654077  \n",
       "2        3.318354  \n",
       "3        3.618388  \n",
       "4        3.633401  "
      ]
     },
     "execution_count": 45,
     "metadata": {},
     "output_type": "execute_result"
    }
   ],
   "source": [
    "# make predictions on test set\n",
    "\n",
    "test = algo.test(testset)\n",
    "test = pd.DataFrame(test)\n",
    "test.drop(\"details\", inplace=True, axis=1)\n",
    "test.columns = ['userid', 'restaurant', 'actual', 'cf_predictions']\n",
    "test.head()"
   ]
  },
  {
   "cell_type": "code",
   "execution_count": 46,
   "metadata": {},
   "outputs": [
    {
     "name": "stdout",
     "output_type": "stream",
     "text": [
      "MSE: 1.060427550101276\n",
      "RMSE: 1.0297706298498108\n"
     ]
    }
   ],
   "source": [
    "# evaluate model with MSE and RMSE\n",
    "\n",
    "print(f'MSE: {recmetrics.mse(test.actual, test.cf_predictions)}')\n",
    "print(f'RMSE: {recmetrics.rmse(test.actual, test.cf_predictions)}')"
   ]
  },
  {
   "cell_type": "code",
   "execution_count": 56,
   "metadata": {},
   "outputs": [],
   "source": [
    "test_svd = test.copy()"
   ]
  },
  {
   "cell_type": "code",
   "execution_count": 66,
   "metadata": {},
   "outputs": [],
   "source": [
    "def get_users_predictions(userid, n, model):\n",
    "    recommended_items = model[['restaurant', 'actual', 'cf_predictions']][model.userid == userid]\n",
    "    recommended_items = recommended_items.sort_values('cf_predictions', ascending=False)    \n",
    "    recommended_items = recommended_items.head(n)\n",
    "    return recommended_items"
   ]
  },
  {
   "cell_type": "code",
   "execution_count": 67,
   "metadata": {},
   "outputs": [
    {
     "data": {
      "text/html": [
       "<div>\n",
       "<style scoped>\n",
       "    .dataframe tbody tr th:only-of-type {\n",
       "        vertical-align: middle;\n",
       "    }\n",
       "\n",
       "    .dataframe tbody tr th {\n",
       "        vertical-align: top;\n",
       "    }\n",
       "\n",
       "    .dataframe thead th {\n",
       "        text-align: right;\n",
       "    }\n",
       "</style>\n",
       "<table border=\"1\" class=\"dataframe\">\n",
       "  <thead>\n",
       "    <tr style=\"text-align: right;\">\n",
       "      <th></th>\n",
       "      <th>restaurant</th>\n",
       "      <th>actual</th>\n",
       "      <th>cf_predictions</th>\n",
       "    </tr>\n",
       "  </thead>\n",
       "  <tbody>\n",
       "    <tr>\n",
       "      <td>80943</td>\n",
       "      <td>Rito's Mexican Food- Phoenix</td>\n",
       "      <td>5.0</td>\n",
       "      <td>4.960147</td>\n",
       "    </tr>\n",
       "    <tr>\n",
       "      <td>20507</td>\n",
       "      <td>King's Noodle Restaurant</td>\n",
       "      <td>4.0</td>\n",
       "      <td>4.054475</td>\n",
       "    </tr>\n",
       "    <tr>\n",
       "      <td>42313</td>\n",
       "      <td>China Chili</td>\n",
       "      <td>4.0</td>\n",
       "      <td>3.995283</td>\n",
       "    </tr>\n",
       "    <tr>\n",
       "      <td>4987</td>\n",
       "      <td>Mu Shu Asian Grill</td>\n",
       "      <td>4.0</td>\n",
       "      <td>3.987240</td>\n",
       "    </tr>\n",
       "    <tr>\n",
       "      <td>85144</td>\n",
       "      <td>The Fry Bread House</td>\n",
       "      <td>4.0</td>\n",
       "      <td>3.983806</td>\n",
       "    </tr>\n",
       "    <tr>\n",
       "      <td>39569</td>\n",
       "      <td>Friday's Front Row Sports Grill</td>\n",
       "      <td>4.0</td>\n",
       "      <td>3.978372</td>\n",
       "    </tr>\n",
       "    <tr>\n",
       "      <td>71169</td>\n",
       "      <td>Snoh Ice Shavery</td>\n",
       "      <td>4.0</td>\n",
       "      <td>3.974140</td>\n",
       "    </tr>\n",
       "    <tr>\n",
       "      <td>46161</td>\n",
       "      <td>The Yard</td>\n",
       "      <td>4.0</td>\n",
       "      <td>3.966975</td>\n",
       "    </tr>\n",
       "    <tr>\n",
       "      <td>5460</td>\n",
       "      <td>The Yard</td>\n",
       "      <td>4.0</td>\n",
       "      <td>3.966975</td>\n",
       "    </tr>\n",
       "    <tr>\n",
       "      <td>77624</td>\n",
       "      <td>Cherryblossom Noodle Cafe</td>\n",
       "      <td>2.0</td>\n",
       "      <td>3.935642</td>\n",
       "    </tr>\n",
       "  </tbody>\n",
       "</table>\n",
       "</div>"
      ],
      "text/plain": [
       "                            restaurant  actual  cf_predictions\n",
       "80943     Rito's Mexican Food- Phoenix     5.0        4.960147\n",
       "20507         King's Noodle Restaurant     4.0        4.054475\n",
       "42313                      China Chili     4.0        3.995283\n",
       "4987                Mu Shu Asian Grill     4.0        3.987240\n",
       "85144              The Fry Bread House     4.0        3.983806\n",
       "39569  Friday's Front Row Sports Grill     4.0        3.978372\n",
       "71169                 Snoh Ice Shavery     4.0        3.974140\n",
       "46161                         The Yard     4.0        3.966975\n",
       "5460                          The Yard     4.0        3.966975\n",
       "77624        Cherryblossom Noodle Cafe     2.0        3.935642"
      ]
     },
     "execution_count": 67,
     "metadata": {},
     "output_type": "execute_result"
    }
   ],
   "source": [
    "get_users_predictions('4ZkQwaOoLT2eJWux9fE1Jw', 10, test_svd)"
   ]
  },
  {
   "cell_type": "code",
   "execution_count": null,
   "metadata": {},
   "outputs": [],
   "source": [
    "# create matrix of predicted values\n",
    "\n",
    "cf_model = test.pivot(index='userid', columns='restaurant', values='cf_predictions').fillna(0)"
   ]
  },
  {
   "cell_type": "code",
   "execution_count": null,
   "metadata": {},
   "outputs": [],
   "source": [
    "test"
   ]
  },
  {
   "cell_type": "code",
   "execution_count": null,
   "metadata": {},
   "outputs": [],
   "source": [
    "test[test.duplicated()]"
   ]
  },
  {
   "cell_type": "markdown",
   "metadata": {},
   "source": [
    "## Recommender system using NLP"
   ]
  },
  {
   "cell_type": "code",
   "execution_count": null,
   "metadata": {},
   "outputs": [],
   "source": []
  }
 ],
 "metadata": {
  "kernelspec": {
   "display_name": "Python 3",
   "language": "python",
   "name": "python3"
  },
  "language_info": {
   "codemirror_mode": {
    "name": "ipython",
    "version": 3
   },
   "file_extension": ".py",
   "mimetype": "text/x-python",
   "name": "python",
   "nbconvert_exporter": "python",
   "pygments_lexer": "ipython3",
   "version": "3.7.4"
  }
 },
 "nbformat": 4,
 "nbformat_minor": 4
}
