{
 "cells": [
  {
   "cell_type": "code",
   "execution_count": null,
   "metadata": {},
   "outputs": [],
   "source": [
    "## Beta recommender system"
   ]
  },
  {
   "cell_type": "code",
   "execution_count": 1,
   "metadata": {},
   "outputs": [],
   "source": [
    "import pandas as pd\n",
    "import numpy as np"
   ]
  },
  {
   "cell_type": "code",
   "execution_count": 3,
   "metadata": {},
   "outputs": [
    {
     "name": "stdout",
     "output_type": "stream",
     "text": [
      "Wall time: 50.3 s\n"
     ]
    },
    {
     "data": {
      "text/html": [
       "<div>\n",
       "<style scoped>\n",
       "    .dataframe tbody tr th:only-of-type {\n",
       "        vertical-align: middle;\n",
       "    }\n",
       "\n",
       "    .dataframe tbody tr th {\n",
       "        vertical-align: top;\n",
       "    }\n",
       "\n",
       "    .dataframe thead th {\n",
       "        text-align: right;\n",
       "    }\n",
       "</style>\n",
       "<table border=\"1\" class=\"dataframe\">\n",
       "  <thead>\n",
       "    <tr style=\"text-align: right;\">\n",
       "      <th></th>\n",
       "      <th>user_id</th>\n",
       "      <th>business_id</th>\n",
       "      <th>review_stars</th>\n",
       "      <th>useful</th>\n",
       "      <th>funny</th>\n",
       "      <th>cool</th>\n",
       "      <th>text</th>\n",
       "      <th>date</th>\n",
       "      <th>name</th>\n",
       "      <th>address</th>\n",
       "      <th>city</th>\n",
       "      <th>state</th>\n",
       "      <th>postal_code</th>\n",
       "      <th>latitude</th>\n",
       "      <th>longitude</th>\n",
       "      <th>stars</th>\n",
       "      <th>review_count</th>\n",
       "      <th>attributes</th>\n",
       "      <th>categories</th>\n",
       "    </tr>\n",
       "  </thead>\n",
       "  <tbody>\n",
       "    <tr>\n",
       "      <th>0</th>\n",
       "      <td>V34qejxNsCbcgD8C0HVk-Q</td>\n",
       "      <td>HQl28KMwrEKHqhFrrDqVNQ</td>\n",
       "      <td>5</td>\n",
       "      <td>1</td>\n",
       "      <td>0</td>\n",
       "      <td>0</td>\n",
       "      <td>I love Deagan's. I do. I really do. The atmosp...</td>\n",
       "      <td>2015-12-05 03:18:11</td>\n",
       "      <td>Liberty Village Market &amp; Cafe</td>\n",
       "      <td>65 Jefferson Avenue</td>\n",
       "      <td>Toronto</td>\n",
       "      <td>ON</td>\n",
       "      <td>M6K 1Y3</td>\n",
       "      <td>43.637885</td>\n",
       "      <td>-79.421223</td>\n",
       "      <td>3.5</td>\n",
       "      <td>20</td>\n",
       "      <td>{'RestaurantsAttire': \"u'casual'\", 'GoodForKid...</td>\n",
       "      <td>American</td>\n",
       "    </tr>\n",
       "    <tr>\n",
       "      <th>1</th>\n",
       "      <td>zFCuveEe6M-ijY1iy23IJg</td>\n",
       "      <td>HQl28KMwrEKHqhFrrDqVNQ</td>\n",
       "      <td>5</td>\n",
       "      <td>6</td>\n",
       "      <td>2</td>\n",
       "      <td>5</td>\n",
       "      <td>We walked into Melt. \"Did you want to put your...</td>\n",
       "      <td>2011-08-25 04:24:23</td>\n",
       "      <td>Liberty Village Market &amp; Cafe</td>\n",
       "      <td>65 Jefferson Avenue</td>\n",
       "      <td>Toronto</td>\n",
       "      <td>ON</td>\n",
       "      <td>M6K 1Y3</td>\n",
       "      <td>43.637885</td>\n",
       "      <td>-79.421223</td>\n",
       "      <td>3.5</td>\n",
       "      <td>20</td>\n",
       "      <td>{'RestaurantsAttire': \"u'casual'\", 'GoodForKid...</td>\n",
       "      <td>American</td>\n",
       "    </tr>\n",
       "    <tr>\n",
       "      <th>2</th>\n",
       "      <td>4V985R3RG-rv0B7WCPQzeQ</td>\n",
       "      <td>HQl28KMwrEKHqhFrrDqVNQ</td>\n",
       "      <td>1</td>\n",
       "      <td>1</td>\n",
       "      <td>0</td>\n",
       "      <td>0</td>\n",
       "      <td>I commented on how slow the service was last A...</td>\n",
       "      <td>2015-03-04 20:37:43</td>\n",
       "      <td>Liberty Village Market &amp; Cafe</td>\n",
       "      <td>65 Jefferson Avenue</td>\n",
       "      <td>Toronto</td>\n",
       "      <td>ON</td>\n",
       "      <td>M6K 1Y3</td>\n",
       "      <td>43.637885</td>\n",
       "      <td>-79.421223</td>\n",
       "      <td>3.5</td>\n",
       "      <td>20</td>\n",
       "      <td>{'RestaurantsAttire': \"u'casual'\", 'GoodForKid...</td>\n",
       "      <td>American</td>\n",
       "    </tr>\n",
       "    <tr>\n",
       "      <th>3</th>\n",
       "      <td>nFGcoL6wuPQzxsNJVSfGrA</td>\n",
       "      <td>HQl28KMwrEKHqhFrrDqVNQ</td>\n",
       "      <td>4</td>\n",
       "      <td>2</td>\n",
       "      <td>0</td>\n",
       "      <td>0</td>\n",
       "      <td>We walked in off the streets on a September ni...</td>\n",
       "      <td>2014-09-10 01:38:55</td>\n",
       "      <td>Liberty Village Market &amp; Cafe</td>\n",
       "      <td>65 Jefferson Avenue</td>\n",
       "      <td>Toronto</td>\n",
       "      <td>ON</td>\n",
       "      <td>M6K 1Y3</td>\n",
       "      <td>43.637885</td>\n",
       "      <td>-79.421223</td>\n",
       "      <td>3.5</td>\n",
       "      <td>20</td>\n",
       "      <td>{'RestaurantsAttire': \"u'casual'\", 'GoodForKid...</td>\n",
       "      <td>American</td>\n",
       "    </tr>\n",
       "    <tr>\n",
       "      <th>4</th>\n",
       "      <td>CJqgUQeWhdgbDyLAFy7xvQ</td>\n",
       "      <td>HQl28KMwrEKHqhFrrDqVNQ</td>\n",
       "      <td>4</td>\n",
       "      <td>0</td>\n",
       "      <td>0</td>\n",
       "      <td>0</td>\n",
       "      <td>Brunch on Saturday was excellent. The Bloody M...</td>\n",
       "      <td>2018-01-21 18:50:29</td>\n",
       "      <td>Liberty Village Market &amp; Cafe</td>\n",
       "      <td>65 Jefferson Avenue</td>\n",
       "      <td>Toronto</td>\n",
       "      <td>ON</td>\n",
       "      <td>M6K 1Y3</td>\n",
       "      <td>43.637885</td>\n",
       "      <td>-79.421223</td>\n",
       "      <td>3.5</td>\n",
       "      <td>20</td>\n",
       "      <td>{'RestaurantsAttire': \"u'casual'\", 'GoodForKid...</td>\n",
       "      <td>American</td>\n",
       "    </tr>\n",
       "  </tbody>\n",
       "</table>\n",
       "</div>"
      ],
      "text/plain": [
       "                  user_id             business_id  review_stars  useful  \\\n",
       "0  V34qejxNsCbcgD8C0HVk-Q  HQl28KMwrEKHqhFrrDqVNQ             5       1   \n",
       "1  zFCuveEe6M-ijY1iy23IJg  HQl28KMwrEKHqhFrrDqVNQ             5       6   \n",
       "2  4V985R3RG-rv0B7WCPQzeQ  HQl28KMwrEKHqhFrrDqVNQ             1       1   \n",
       "3  nFGcoL6wuPQzxsNJVSfGrA  HQl28KMwrEKHqhFrrDqVNQ             4       2   \n",
       "4  CJqgUQeWhdgbDyLAFy7xvQ  HQl28KMwrEKHqhFrrDqVNQ             4       0   \n",
       "\n",
       "   funny  cool                                               text  \\\n",
       "0      0     0  I love Deagan's. I do. I really do. The atmosp...   \n",
       "1      2     5  We walked into Melt. \"Did you want to put your...   \n",
       "2      0     0  I commented on how slow the service was last A...   \n",
       "3      0     0  We walked in off the streets on a September ni...   \n",
       "4      0     0  Brunch on Saturday was excellent. The Bloody M...   \n",
       "\n",
       "                  date                           name              address  \\\n",
       "0  2015-12-05 03:18:11  Liberty Village Market & Cafe  65 Jefferson Avenue   \n",
       "1  2011-08-25 04:24:23  Liberty Village Market & Cafe  65 Jefferson Avenue   \n",
       "2  2015-03-04 20:37:43  Liberty Village Market & Cafe  65 Jefferson Avenue   \n",
       "3  2014-09-10 01:38:55  Liberty Village Market & Cafe  65 Jefferson Avenue   \n",
       "4  2018-01-21 18:50:29  Liberty Village Market & Cafe  65 Jefferson Avenue   \n",
       "\n",
       "      city state postal_code   latitude  longitude  stars  review_count  \\\n",
       "0  Toronto    ON     M6K 1Y3  43.637885 -79.421223    3.5            20   \n",
       "1  Toronto    ON     M6K 1Y3  43.637885 -79.421223    3.5            20   \n",
       "2  Toronto    ON     M6K 1Y3  43.637885 -79.421223    3.5            20   \n",
       "3  Toronto    ON     M6K 1Y3  43.637885 -79.421223    3.5            20   \n",
       "4  Toronto    ON     M6K 1Y3  43.637885 -79.421223    3.5            20   \n",
       "\n",
       "                                          attributes categories  \n",
       "0  {'RestaurantsAttire': \"u'casual'\", 'GoodForKid...   American  \n",
       "1  {'RestaurantsAttire': \"u'casual'\", 'GoodForKid...   American  \n",
       "2  {'RestaurantsAttire': \"u'casual'\", 'GoodForKid...   American  \n",
       "3  {'RestaurantsAttire': \"u'casual'\", 'GoodForKid...   American  \n",
       "4  {'RestaurantsAttire': \"u'casual'\", 'GoodForKid...   American  "
      ]
     },
     "execution_count": 3,
     "metadata": {},
     "output_type": "execute_result"
    }
   ],
   "source": [
    "%%time\n",
    "# Load reviews\n",
    "reviews = pd.read_csv('../data/yelp_reviews_restaurant.csv')\n",
    "reviews.head()"
   ]
  },
  {
   "cell_type": "code",
   "execution_count": null,
   "metadata": {},
   "outputs": [],
   "source": [
    "# As seen is the EDA, there are a lot of users which does very few reviews. \n",
    "# That makes really difficult to classify and with the big amount of data, it is also needed to remove some values. \n",
    "# Therefore in order to be in the model, a threshold of 50 reviews/user has been selected. "
   ]
  },
  {
   "cell_type": "code",
   "execution_count": 7,
   "metadata": {},
   "outputs": [
    {
     "data": {
      "text/html": [
       "<div>\n",
       "<style scoped>\n",
       "    .dataframe tbody tr th:only-of-type {\n",
       "        vertical-align: middle;\n",
       "    }\n",
       "\n",
       "    .dataframe tbody tr th {\n",
       "        vertical-align: top;\n",
       "    }\n",
       "\n",
       "    .dataframe thead th {\n",
       "        text-align: right;\n",
       "    }\n",
       "</style>\n",
       "<table border=\"1\" class=\"dataframe\">\n",
       "  <thead>\n",
       "    <tr style=\"text-align: right;\">\n",
       "      <th></th>\n",
       "      <th>user_id</th>\n",
       "      <th>text</th>\n",
       "    </tr>\n",
       "  </thead>\n",
       "  <tbody>\n",
       "    <tr>\n",
       "      <th>0</th>\n",
       "      <td>---1lKK3aKOuomHnwAkAow</td>\n",
       "      <td>23</td>\n",
       "    </tr>\n",
       "    <tr>\n",
       "      <th>1</th>\n",
       "      <td>---94vtJ_5o_nikEs6hUjg</td>\n",
       "      <td>1</td>\n",
       "    </tr>\n",
       "    <tr>\n",
       "      <th>2</th>\n",
       "      <td>---RfKzBwQ8t3wu-LXvx3w</td>\n",
       "      <td>1</td>\n",
       "    </tr>\n",
       "    <tr>\n",
       "      <th>3</th>\n",
       "      <td>---tGbMnMitD_7srW6Nfzg</td>\n",
       "      <td>1</td>\n",
       "    </tr>\n",
       "    <tr>\n",
       "      <th>4</th>\n",
       "      <td>---udAKDsn0yQXmzbWQNSw</td>\n",
       "      <td>1</td>\n",
       "    </tr>\n",
       "  </tbody>\n",
       "</table>\n",
       "</div>"
      ],
      "text/plain": [
       "                  user_id  text\n",
       "0  ---1lKK3aKOuomHnwAkAow    23\n",
       "1  ---94vtJ_5o_nikEs6hUjg     1\n",
       "2  ---RfKzBwQ8t3wu-LXvx3w     1\n",
       "3  ---tGbMnMitD_7srW6Nfzg     1\n",
       "4  ---udAKDsn0yQXmzbWQNSw     1"
      ]
     },
     "execution_count": 7,
     "metadata": {},
     "output_type": "execute_result"
    }
   ],
   "source": [
    "# Remove users that have less than 50 reviews.\n",
    "grouped_users = reviews.groupby('user_id')['text'].count().reset_index()\n",
    "grouped_users.head()"
   ]
  },
  {
   "cell_type": "code",
   "execution_count": 17,
   "metadata": {},
   "outputs": [
    {
     "data": {
      "text/plain": [
       "2551372"
      ]
     },
     "execution_count": 17,
     "metadata": {},
     "output_type": "execute_result"
    }
   ],
   "source": [
    "result = grouped_users.query('text <= 50')\n",
    "result['text'].sum()"
   ]
  },
  {
   "cell_type": "code",
   "execution_count": 12,
   "metadata": {},
   "outputs": [
    {
     "data": {
      "text/plain": [
       "2841386"
      ]
     },
     "execution_count": 12,
     "metadata": {},
     "output_type": "execute_result"
    }
   ],
   "source": [
    "reviews.shape[0]"
   ]
  },
  {
   "cell_type": "code",
   "execution_count": 18,
   "metadata": {},
   "outputs": [
    {
     "name": "stdout",
     "output_type": "stream",
     "text": [
      "Difference: 290014\n"
     ]
    }
   ],
   "source": [
    "print(f'Difference: {reviews.shape[0] - result[\"text\"].sum()}')"
   ]
  },
  {
   "cell_type": "code",
   "execution_count": 21,
   "metadata": {},
   "outputs": [
    {
     "data": {
      "text/plain": [
       "(290013, 3)"
      ]
     },
     "execution_count": 21,
     "metadata": {},
     "output_type": "execute_result"
    }
   ],
   "source": [
    "reviews_filtered = reviews[['user_id', 'name', 'review_stars']][~reviews['user_id'].isin(result['user_id'])]\n",
    "reviews_filtered.shape"
   ]
  },
  {
   "cell_type": "code",
   "execution_count": 51,
   "metadata": {},
   "outputs": [],
   "source": [
    "## Utility matrix for users (for restaurants take utility_matrix.T)\n",
    "from scipy.sparse import csr_matrix\n",
    "\n",
    "utility_matrix = reviews_filtered.pivot_table(index='user_id', values='review_stars', columns='name').fillna(0)\n",
    "um = csr_matrix(utility_matrix) "
   ]
  },
  {
   "cell_type": "code",
   "execution_count": 54,
   "metadata": {},
   "outputs": [],
   "source": [
    "restaurant_ids = (utility_matrix.columns)\n",
    "users_ids = (utility_matrix.index)"
   ]
  },
  {
   "cell_type": "code",
   "execution_count": 25,
   "metadata": {},
   "outputs": [],
   "source": [
    "# Normalizing the data\n",
    "\n",
    "sum_ratings_per_restaurant = um.sum(axis=0)\n",
    "n_ratings_per_restaurant = um.getnnz(axis=0)\n",
    "mean_rating_per_restaurant = sum_ratings_per_restaurant / n_ratings_per_restaurant"
   ]
  },
  {
   "cell_type": "code",
   "execution_count": 28,
   "metadata": {},
   "outputs": [
    {
     "data": {
      "text/plain": [
       "(3346, 13284)"
      ]
     },
     "execution_count": 28,
     "metadata": {},
     "output_type": "execute_result"
    }
   ],
   "source": [
    "um_mean_restaurant = np.tile(mean_rating_per_restaurant, (um.shape[0],1))\n",
    "um_mean_restaurant.shape"
   ]
  },
  {
   "cell_type": "code",
   "execution_count": 30,
   "metadata": {},
   "outputs": [],
   "source": [
    "um_norm = um - csr_matrix(um_mean_restaurant)"
   ]
  },
  {
   "cell_type": "code",
   "execution_count": 32,
   "metadata": {},
   "outputs": [
    {
     "data": {
      "text/plain": [
       "matrix([[0., 0., 0., ..., 0., 0., 0.],\n",
       "        [0., 0., 0., ..., 0., 0., 0.],\n",
       "        [0., 0., 0., ..., 0., 0., 0.],\n",
       "        ...,\n",
       "        [0., 4., 0., ..., 0., 0., 0.],\n",
       "        [0., 0., 0., ..., 0., 0., 0.],\n",
       "        [0., 0., 0., ..., 0., 0., 0.]])"
      ]
     },
     "execution_count": 32,
     "metadata": {},
     "output_type": "execute_result"
    }
   ],
   "source": [
    "# Comparing after and before normalizing\n",
    "\n",
    "um.todense()"
   ]
  },
  {
   "cell_type": "code",
   "execution_count": 33,
   "metadata": {},
   "outputs": [
    {
     "data": {
      "text/plain": [
       "matrix([[-2.625     , -4.15126812, -3.        , ..., -4.        ,\n",
       "         -5.        , -4.5       ],\n",
       "        [-2.625     , -4.15126812, -3.        , ..., -4.        ,\n",
       "         -5.        , -4.5       ],\n",
       "        [-2.625     , -4.15126812, -3.        , ..., -4.        ,\n",
       "         -5.        , -4.5       ],\n",
       "        ...,\n",
       "        [-2.625     , -0.15126812, -3.        , ..., -4.        ,\n",
       "         -5.        , -4.5       ],\n",
       "        [-2.625     , -4.15126812, -3.        , ..., -4.        ,\n",
       "         -5.        , -4.5       ],\n",
       "        [-2.625     , -4.15126812, -3.        , ..., -4.        ,\n",
       "         -5.        , -4.5       ]])"
      ]
     },
     "execution_count": 33,
     "metadata": {},
     "output_type": "execute_result"
    }
   ],
   "source": [
    "um_norm.todense()"
   ]
  },
  {
   "cell_type": "code",
   "execution_count": 38,
   "metadata": {},
   "outputs": [],
   "source": [
    "# create the cosine_matrix\n",
    "from sklearn.metrics.pairwise import cosine_similarity\n",
    "\n",
    "cosine_sim = cosine_similarity(um_norm, um_norm)"
   ]
  },
  {
   "cell_type": "code",
   "execution_count": null,
   "metadata": {},
   "outputs": [],
   "source": [
    "## Restaurant recomendation (item-item) with k-NN"
   ]
  },
  {
   "cell_type": "code",
   "execution_count": 36,
   "metadata": {},
   "outputs": [],
   "source": [
    "from sklearn.neighbors import NearestNeighbors"
   ]
  },
  {
   "cell_type": "code",
   "execution_count": 49,
   "metadata": {},
   "outputs": [
    {
     "name": "stdout",
     "output_type": "stream",
     "text": [
      "0               1\n",
      "1               4\n",
      "2              27\n",
      "3              29\n",
      "4              34\n",
      "           ...   \n",
      "290008    2841352\n",
      "290009    2841364\n",
      "290010    2841366\n",
      "290011    2841372\n",
      "290012    2841374\n",
      "Length: 290013, dtype: int64\n"
     ]
    }
   ],
   "source": [
    "indices = pd.Series(reviews_filtered.index, index=reviews['name'])\n",
    "print(indices)\n",
    "def recommendations(restaurant, k=10):\n",
    "    \n",
    "    # Initialize the empty list of recommended restaurants\n",
    "    recommended_restaurants = []\n",
    "    \n",
    "    #Get the index of the restaurant that matches with the name\n",
    "    #idx = indices[indices == restaurant].index\n",
    "    idx = \n",
    "    print(idx)\n",
    "    \n",
    "    # creating a series with the similarity scores\n",
    "    scores_series = pd.Series(cosine_sim[idx]).sort_values(ascending=False)\n",
    "    \n",
    "    #getting the indices of the most similar restaurants\n",
    "    top_restaurants = list(score_series.iloc[:k].index)\n",
    "    \n",
    "    # creating the dataframe with the most similar restaurants\n",
    "    for i in top_restaurants:\n",
    "        recommended_restaurants.append(list(reviews_filtered.index)[i])\n",
    "        \n",
    "    return recommended_restaurants"
   ]
  },
  {
   "cell_type": "code",
   "execution_count": 81,
   "metadata": {},
   "outputs": [],
   "source": [
    "names = reviews_filtered['name']\n",
    "restaurant_ids = reviews_filtered.index\n",
    "\n",
    "def recommendations(restaurant, distance, k=10):\n",
    "    correct_name = reviews_filtered[reviews_filtered.name.str.startswith(restaurant)]['name'].values[0]\n",
    "    idx = restaurant_ids.get_loc(reviews_filtered[reviews_filtered.name.str.startswith(restaurant)]['name'].index[0])\n",
    "    \n",
    "    sim_scores = list(enumerate(distance[idx]))\n",
    "    sim_scores = sorted(sim_scores, key=lambda x: x[1], reverse = True)\n",
    "    sim_scores = sim_scores[1:k]\n",
    "    \n",
    "    similar_restaurants = [i[0] for i in sim_scores]\n",
    "    \n",
    "    print(f'Recommendations for {correct_name}')\n",
    "    return reviews_filtered['name'].iloc[similar_restaurants]"
   ]
  },
  {
   "cell_type": "code",
   "execution_count": 80,
   "metadata": {},
   "outputs": [
    {
     "name": "stdout",
     "output_type": "stream",
     "text": [
      "Recommendations for Liberty Village Market & Cafe\n"
     ]
    },
    {
     "data": {
      "text/plain": [
       "32268             Picanha Steak Truck\n",
       "19286       The Smashed Pig Gastropub\n",
       "161                         Pink Taco\n",
       "13043                     Sunset Room\n",
       "7210              Village Pub & Poker\n",
       "1975           Brevard Court Sundries\n",
       "18142           Riva by Wolfgang Puck\n",
       "6417                    Tam's Kitchen\n",
       "3256                Cafe des Artisans\n",
       "32293           Mi Casa Grill Cantina\n",
       "6888                   Salty Senorita\n",
       "10181             Putter's Charleston\n",
       "31385                   El Pollo Loco\n",
       "11199            Rimrock Bar & Grille\n",
       "27584    Brooklyn V's Pizza- Chandler\n",
       "12025                 Jasmine Express\n",
       "20566       Dairy Queen Grill & Chill\n",
       "35223                   Bombay Palace\n",
       "1099       Sabor Miami Cafe & Gallery\n",
       "34343                 Taqueria Mexico\n",
       "Name: name, dtype: object"
      ]
     },
     "execution_count": 80,
     "metadata": {},
     "output_type": "execute_result"
    }
   ],
   "source": [
    "recommendations('Liberty', cosine_sim)"
   ]
  },
  {
   "cell_type": "code",
   "execution_count": 74,
   "metadata": {},
   "outputs": [
    {
     "data": {
      "text/plain": [
       "1"
      ]
     },
     "execution_count": 74,
     "metadata": {},
     "output_type": "execute_result"
    }
   ],
   "source": [
    "reviews_filtered[reviews_filtered.name.str.startswith('Liberty')]['name'].index[0]"
   ]
  },
  {
   "cell_type": "code",
   "execution_count": 73,
   "metadata": {},
   "outputs": [
    {
     "data": {
      "text/plain": [
       "Int64Index([      1,       4,      27,      29,      34,      35,      43,\n",
       "                 90,     161,     167,\n",
       "            ...\n",
       "            2841305, 2841311, 2841321, 2841330, 2841345, 2841352, 2841364,\n",
       "            2841366, 2841372, 2841374],\n",
       "           dtype='int64', length=290013)"
      ]
     },
     "execution_count": 73,
     "metadata": {},
     "output_type": "execute_result"
    }
   ],
   "source": [
    "restaurant_ids"
   ]
  },
  {
   "cell_type": "code",
   "execution_count": null,
   "metadata": {},
   "outputs": [],
   "source": []
  }
 ],
 "metadata": {
  "kernelspec": {
   "display_name": "Python 3",
   "language": "python",
   "name": "python3"
  },
  "language_info": {
   "codemirror_mode": {
    "name": "ipython",
    "version": 3
   },
   "file_extension": ".py",
   "mimetype": "text/x-python",
   "name": "python",
   "nbconvert_exporter": "python",
   "pygments_lexer": "ipython3",
   "version": "3.7.6"
  }
 },
 "nbformat": 4,
 "nbformat_minor": 4
}
