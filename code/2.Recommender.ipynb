{
 "cells": [
  {
   "cell_type": "code",
   "execution_count": 1,
   "metadata": {},
   "outputs": [],
   "source": [
    "## Beta recommender system"
   ]
  },
  {
   "cell_type": "code",
   "execution_count": 2,
   "metadata": {},
   "outputs": [],
   "source": [
    "import pandas as pd\n",
    "import numpy as np"
   ]
  },
  {
   "cell_type": "code",
   "execution_count": 3,
   "metadata": {},
   "outputs": [
    {
     "name": "stdout",
     "output_type": "stream",
     "text": [
      "Wall time: 1min 6s\n"
     ]
    },
    {
     "data": {
      "text/html": [
       "<div>\n",
       "<style scoped>\n",
       "    .dataframe tbody tr th:only-of-type {\n",
       "        vertical-align: middle;\n",
       "    }\n",
       "\n",
       "    .dataframe tbody tr th {\n",
       "        vertical-align: top;\n",
       "    }\n",
       "\n",
       "    .dataframe thead th {\n",
       "        text-align: right;\n",
       "    }\n",
       "</style>\n",
       "<table border=\"1\" class=\"dataframe\">\n",
       "  <thead>\n",
       "    <tr style=\"text-align: right;\">\n",
       "      <th></th>\n",
       "      <th>user_id</th>\n",
       "      <th>business_id</th>\n",
       "      <th>review_stars</th>\n",
       "      <th>useful</th>\n",
       "      <th>funny</th>\n",
       "      <th>cool</th>\n",
       "      <th>text</th>\n",
       "      <th>date</th>\n",
       "      <th>name</th>\n",
       "      <th>address</th>\n",
       "      <th>city</th>\n",
       "      <th>state</th>\n",
       "      <th>postal_code</th>\n",
       "      <th>latitude</th>\n",
       "      <th>longitude</th>\n",
       "      <th>stars</th>\n",
       "      <th>review_count</th>\n",
       "      <th>attributes</th>\n",
       "      <th>categories</th>\n",
       "    </tr>\n",
       "  </thead>\n",
       "  <tbody>\n",
       "    <tr>\n",
       "      <th>0</th>\n",
       "      <td>V34qejxNsCbcgD8C0HVk-Q</td>\n",
       "      <td>HQl28KMwrEKHqhFrrDqVNQ</td>\n",
       "      <td>5</td>\n",
       "      <td>1</td>\n",
       "      <td>0</td>\n",
       "      <td>0</td>\n",
       "      <td>I love Deagan's. I do. I really do. The atmosp...</td>\n",
       "      <td>2015-12-05 03:18:11</td>\n",
       "      <td>Liberty Village Market &amp; Cafe</td>\n",
       "      <td>65 Jefferson Avenue</td>\n",
       "      <td>Toronto</td>\n",
       "      <td>ON</td>\n",
       "      <td>M6K 1Y3</td>\n",
       "      <td>43.637885</td>\n",
       "      <td>-79.421223</td>\n",
       "      <td>3.5</td>\n",
       "      <td>20</td>\n",
       "      <td>{'RestaurantsAttire': \"u'casual'\", 'GoodForKid...</td>\n",
       "      <td>American</td>\n",
       "    </tr>\n",
       "    <tr>\n",
       "      <th>1</th>\n",
       "      <td>zFCuveEe6M-ijY1iy23IJg</td>\n",
       "      <td>HQl28KMwrEKHqhFrrDqVNQ</td>\n",
       "      <td>5</td>\n",
       "      <td>6</td>\n",
       "      <td>2</td>\n",
       "      <td>5</td>\n",
       "      <td>We walked into Melt. \"Did you want to put your...</td>\n",
       "      <td>2011-08-25 04:24:23</td>\n",
       "      <td>Liberty Village Market &amp; Cafe</td>\n",
       "      <td>65 Jefferson Avenue</td>\n",
       "      <td>Toronto</td>\n",
       "      <td>ON</td>\n",
       "      <td>M6K 1Y3</td>\n",
       "      <td>43.637885</td>\n",
       "      <td>-79.421223</td>\n",
       "      <td>3.5</td>\n",
       "      <td>20</td>\n",
       "      <td>{'RestaurantsAttire': \"u'casual'\", 'GoodForKid...</td>\n",
       "      <td>American</td>\n",
       "    </tr>\n",
       "    <tr>\n",
       "      <th>2</th>\n",
       "      <td>4V985R3RG-rv0B7WCPQzeQ</td>\n",
       "      <td>HQl28KMwrEKHqhFrrDqVNQ</td>\n",
       "      <td>1</td>\n",
       "      <td>1</td>\n",
       "      <td>0</td>\n",
       "      <td>0</td>\n",
       "      <td>I commented on how slow the service was last A...</td>\n",
       "      <td>2015-03-04 20:37:43</td>\n",
       "      <td>Liberty Village Market &amp; Cafe</td>\n",
       "      <td>65 Jefferson Avenue</td>\n",
       "      <td>Toronto</td>\n",
       "      <td>ON</td>\n",
       "      <td>M6K 1Y3</td>\n",
       "      <td>43.637885</td>\n",
       "      <td>-79.421223</td>\n",
       "      <td>3.5</td>\n",
       "      <td>20</td>\n",
       "      <td>{'RestaurantsAttire': \"u'casual'\", 'GoodForKid...</td>\n",
       "      <td>American</td>\n",
       "    </tr>\n",
       "    <tr>\n",
       "      <th>3</th>\n",
       "      <td>nFGcoL6wuPQzxsNJVSfGrA</td>\n",
       "      <td>HQl28KMwrEKHqhFrrDqVNQ</td>\n",
       "      <td>4</td>\n",
       "      <td>2</td>\n",
       "      <td>0</td>\n",
       "      <td>0</td>\n",
       "      <td>We walked in off the streets on a September ni...</td>\n",
       "      <td>2014-09-10 01:38:55</td>\n",
       "      <td>Liberty Village Market &amp; Cafe</td>\n",
       "      <td>65 Jefferson Avenue</td>\n",
       "      <td>Toronto</td>\n",
       "      <td>ON</td>\n",
       "      <td>M6K 1Y3</td>\n",
       "      <td>43.637885</td>\n",
       "      <td>-79.421223</td>\n",
       "      <td>3.5</td>\n",
       "      <td>20</td>\n",
       "      <td>{'RestaurantsAttire': \"u'casual'\", 'GoodForKid...</td>\n",
       "      <td>American</td>\n",
       "    </tr>\n",
       "    <tr>\n",
       "      <th>4</th>\n",
       "      <td>CJqgUQeWhdgbDyLAFy7xvQ</td>\n",
       "      <td>HQl28KMwrEKHqhFrrDqVNQ</td>\n",
       "      <td>4</td>\n",
       "      <td>0</td>\n",
       "      <td>0</td>\n",
       "      <td>0</td>\n",
       "      <td>Brunch on Saturday was excellent. The Bloody M...</td>\n",
       "      <td>2018-01-21 18:50:29</td>\n",
       "      <td>Liberty Village Market &amp; Cafe</td>\n",
       "      <td>65 Jefferson Avenue</td>\n",
       "      <td>Toronto</td>\n",
       "      <td>ON</td>\n",
       "      <td>M6K 1Y3</td>\n",
       "      <td>43.637885</td>\n",
       "      <td>-79.421223</td>\n",
       "      <td>3.5</td>\n",
       "      <td>20</td>\n",
       "      <td>{'RestaurantsAttire': \"u'casual'\", 'GoodForKid...</td>\n",
       "      <td>American</td>\n",
       "    </tr>\n",
       "  </tbody>\n",
       "</table>\n",
       "</div>"
      ],
      "text/plain": [
       "                  user_id             business_id  review_stars  useful  \\\n",
       "0  V34qejxNsCbcgD8C0HVk-Q  HQl28KMwrEKHqhFrrDqVNQ             5       1   \n",
       "1  zFCuveEe6M-ijY1iy23IJg  HQl28KMwrEKHqhFrrDqVNQ             5       6   \n",
       "2  4V985R3RG-rv0B7WCPQzeQ  HQl28KMwrEKHqhFrrDqVNQ             1       1   \n",
       "3  nFGcoL6wuPQzxsNJVSfGrA  HQl28KMwrEKHqhFrrDqVNQ             4       2   \n",
       "4  CJqgUQeWhdgbDyLAFy7xvQ  HQl28KMwrEKHqhFrrDqVNQ             4       0   \n",
       "\n",
       "   funny  cool                                               text  \\\n",
       "0      0     0  I love Deagan's. I do. I really do. The atmosp...   \n",
       "1      2     5  We walked into Melt. \"Did you want to put your...   \n",
       "2      0     0  I commented on how slow the service was last A...   \n",
       "3      0     0  We walked in off the streets on a September ni...   \n",
       "4      0     0  Brunch on Saturday was excellent. The Bloody M...   \n",
       "\n",
       "                  date                           name              address  \\\n",
       "0  2015-12-05 03:18:11  Liberty Village Market & Cafe  65 Jefferson Avenue   \n",
       "1  2011-08-25 04:24:23  Liberty Village Market & Cafe  65 Jefferson Avenue   \n",
       "2  2015-03-04 20:37:43  Liberty Village Market & Cafe  65 Jefferson Avenue   \n",
       "3  2014-09-10 01:38:55  Liberty Village Market & Cafe  65 Jefferson Avenue   \n",
       "4  2018-01-21 18:50:29  Liberty Village Market & Cafe  65 Jefferson Avenue   \n",
       "\n",
       "      city state postal_code   latitude  longitude  stars  review_count  \\\n",
       "0  Toronto    ON     M6K 1Y3  43.637885 -79.421223    3.5            20   \n",
       "1  Toronto    ON     M6K 1Y3  43.637885 -79.421223    3.5            20   \n",
       "2  Toronto    ON     M6K 1Y3  43.637885 -79.421223    3.5            20   \n",
       "3  Toronto    ON     M6K 1Y3  43.637885 -79.421223    3.5            20   \n",
       "4  Toronto    ON     M6K 1Y3  43.637885 -79.421223    3.5            20   \n",
       "\n",
       "                                          attributes categories  \n",
       "0  {'RestaurantsAttire': \"u'casual'\", 'GoodForKid...   American  \n",
       "1  {'RestaurantsAttire': \"u'casual'\", 'GoodForKid...   American  \n",
       "2  {'RestaurantsAttire': \"u'casual'\", 'GoodForKid...   American  \n",
       "3  {'RestaurantsAttire': \"u'casual'\", 'GoodForKid...   American  \n",
       "4  {'RestaurantsAttire': \"u'casual'\", 'GoodForKid...   American  "
      ]
     },
     "execution_count": 3,
     "metadata": {},
     "output_type": "execute_result"
    }
   ],
   "source": [
    "%%time\n",
    "# Load reviews\n",
    "reviews = pd.read_csv('../data/yelp_reviews_restaurant.csv')\n",
    "reviews.head()"
   ]
  },
  {
   "cell_type": "code",
   "execution_count": 4,
   "metadata": {},
   "outputs": [],
   "source": [
    "# As seen is the EDA, there are a lot of users which does very few reviews. \n",
    "# That makes really difficult to classify and with the big amount of data, it is also needed to remove some values. \n",
    "# Therefore in order to be in the model, a threshold of 50 reviews/user has been selected. "
   ]
  },
  {
   "cell_type": "code",
   "execution_count": 5,
   "metadata": {},
   "outputs": [
    {
     "data": {
      "text/html": [
       "<div>\n",
       "<style scoped>\n",
       "    .dataframe tbody tr th:only-of-type {\n",
       "        vertical-align: middle;\n",
       "    }\n",
       "\n",
       "    .dataframe tbody tr th {\n",
       "        vertical-align: top;\n",
       "    }\n",
       "\n",
       "    .dataframe thead th {\n",
       "        text-align: right;\n",
       "    }\n",
       "</style>\n",
       "<table border=\"1\" class=\"dataframe\">\n",
       "  <thead>\n",
       "    <tr style=\"text-align: right;\">\n",
       "      <th></th>\n",
       "      <th>user_id</th>\n",
       "      <th>text</th>\n",
       "    </tr>\n",
       "  </thead>\n",
       "  <tbody>\n",
       "    <tr>\n",
       "      <th>0</th>\n",
       "      <td>---1lKK3aKOuomHnwAkAow</td>\n",
       "      <td>23</td>\n",
       "    </tr>\n",
       "    <tr>\n",
       "      <th>1</th>\n",
       "      <td>---94vtJ_5o_nikEs6hUjg</td>\n",
       "      <td>1</td>\n",
       "    </tr>\n",
       "    <tr>\n",
       "      <th>2</th>\n",
       "      <td>---RfKzBwQ8t3wu-LXvx3w</td>\n",
       "      <td>1</td>\n",
       "    </tr>\n",
       "    <tr>\n",
       "      <th>3</th>\n",
       "      <td>---tGbMnMitD_7srW6Nfzg</td>\n",
       "      <td>1</td>\n",
       "    </tr>\n",
       "    <tr>\n",
       "      <th>4</th>\n",
       "      <td>---udAKDsn0yQXmzbWQNSw</td>\n",
       "      <td>1</td>\n",
       "    </tr>\n",
       "  </tbody>\n",
       "</table>\n",
       "</div>"
      ],
      "text/plain": [
       "                  user_id  text\n",
       "0  ---1lKK3aKOuomHnwAkAow    23\n",
       "1  ---94vtJ_5o_nikEs6hUjg     1\n",
       "2  ---RfKzBwQ8t3wu-LXvx3w     1\n",
       "3  ---tGbMnMitD_7srW6Nfzg     1\n",
       "4  ---udAKDsn0yQXmzbWQNSw     1"
      ]
     },
     "execution_count": 5,
     "metadata": {},
     "output_type": "execute_result"
    }
   ],
   "source": [
    "# Remove users that have less than 50 reviews.\n",
    "grouped_users = reviews.groupby('user_id')['text'].count().reset_index()\n",
    "grouped_users.head()"
   ]
  },
  {
   "cell_type": "code",
   "execution_count": 6,
   "metadata": {},
   "outputs": [
    {
     "data": {
      "text/plain": [
       "2551372"
      ]
     },
     "execution_count": 6,
     "metadata": {},
     "output_type": "execute_result"
    }
   ],
   "source": [
    "result = grouped_users.query('text <= 50')\n",
    "result['text'].sum()"
   ]
  },
  {
   "cell_type": "code",
   "execution_count": 7,
   "metadata": {},
   "outputs": [
    {
     "data": {
      "text/plain": [
       "2841386"
      ]
     },
     "execution_count": 7,
     "metadata": {},
     "output_type": "execute_result"
    }
   ],
   "source": [
    "reviews.shape[0]"
   ]
  },
  {
   "cell_type": "code",
   "execution_count": 8,
   "metadata": {},
   "outputs": [
    {
     "name": "stdout",
     "output_type": "stream",
     "text": [
      "Difference: 290014\n"
     ]
    }
   ],
   "source": [
    "print(f'Difference: {reviews.shape[0] - result[\"text\"].sum()}')"
   ]
  },
  {
   "cell_type": "code",
   "execution_count": 9,
   "metadata": {},
   "outputs": [
    {
     "data": {
      "text/plain": [
       "(290013, 3)"
      ]
     },
     "execution_count": 9,
     "metadata": {},
     "output_type": "execute_result"
    }
   ],
   "source": [
    "reviews_filtered = reviews[['user_id', 'name', 'review_stars']][~reviews['user_id'].isin(result['user_id'])]\n",
    "reviews_filtered.shape"
   ]
  },
  {
   "cell_type": "markdown",
   "metadata": {},
   "source": [
    "## Recommender system using reviews as values"
   ]
  },
  {
   "cell_type": "code",
   "execution_count": 10,
   "metadata": {},
   "outputs": [],
   "source": [
    "## Utility matrix for users (for restaurants take utility_matrix.T)\n",
    "from scipy.sparse import csr_matrix\n",
    "\n",
    "utility_matrix = reviews_filtered.pivot_table(index='user_id', values='review_stars', columns='name').fillna(0)\n",
    "um = csr_matrix(utility_matrix) "
   ]
  },
  {
   "cell_type": "code",
   "execution_count": 11,
   "metadata": {},
   "outputs": [],
   "source": [
    "restaurant_ids = (utility_matrix.columns)\n",
    "users_ids = (utility_matrix.index)"
   ]
  },
  {
   "cell_type": "code",
   "execution_count": 12,
   "metadata": {},
   "outputs": [],
   "source": [
    "# Normalizing the data\n",
    "\n",
    "sum_ratings_per_restaurant = um.sum(axis=0)\n",
    "n_ratings_per_restaurant = um.getnnz(axis=0)\n",
    "mean_rating_per_restaurant = sum_ratings_per_restaurant / n_ratings_per_restaurant"
   ]
  },
  {
   "cell_type": "code",
   "execution_count": 13,
   "metadata": {},
   "outputs": [
    {
     "data": {
      "text/plain": [
       "(3346, 13284)"
      ]
     },
     "execution_count": 13,
     "metadata": {},
     "output_type": "execute_result"
    }
   ],
   "source": [
    "um_mean_restaurant = np.tile(mean_rating_per_restaurant, (um.shape[0],1))\n",
    "um_mean_restaurant.shape"
   ]
  },
  {
   "cell_type": "code",
   "execution_count": 14,
   "metadata": {},
   "outputs": [],
   "source": [
    "um_norm = um - csr_matrix(um_mean_restaurant)"
   ]
  },
  {
   "cell_type": "code",
   "execution_count": 15,
   "metadata": {},
   "outputs": [
    {
     "data": {
      "text/plain": [
       "matrix([[0., 0., 0., ..., 0., 0., 0.],\n",
       "        [0., 0., 0., ..., 0., 0., 0.],\n",
       "        [0., 0., 0., ..., 0., 0., 0.],\n",
       "        ...,\n",
       "        [0., 4., 0., ..., 0., 0., 0.],\n",
       "        [0., 0., 0., ..., 0., 0., 0.],\n",
       "        [0., 0., 0., ..., 0., 0., 0.]])"
      ]
     },
     "execution_count": 15,
     "metadata": {},
     "output_type": "execute_result"
    }
   ],
   "source": [
    "# Comparing after and before normalizing\n",
    "\n",
    "um.todense()"
   ]
  },
  {
   "cell_type": "code",
   "execution_count": 16,
   "metadata": {},
   "outputs": [
    {
     "data": {
      "text/plain": [
       "matrix([[-2.625     , -4.15126812, -3.        , ..., -4.        ,\n",
       "         -5.        , -4.5       ],\n",
       "        [-2.625     , -4.15126812, -3.        , ..., -4.        ,\n",
       "         -5.        , -4.5       ],\n",
       "        [-2.625     , -4.15126812, -3.        , ..., -4.        ,\n",
       "         -5.        , -4.5       ],\n",
       "        ...,\n",
       "        [-2.625     , -0.15126812, -3.        , ..., -4.        ,\n",
       "         -5.        , -4.5       ],\n",
       "        [-2.625     , -4.15126812, -3.        , ..., -4.        ,\n",
       "         -5.        , -4.5       ],\n",
       "        [-2.625     , -4.15126812, -3.        , ..., -4.        ,\n",
       "         -5.        , -4.5       ]])"
      ]
     },
     "execution_count": 16,
     "metadata": {},
     "output_type": "execute_result"
    }
   ],
   "source": [
    "um_norm.todense()"
   ]
  },
  {
   "cell_type": "code",
   "execution_count": 17,
   "metadata": {},
   "outputs": [],
   "source": [
    "# create the cosine_matrix\n",
    "from sklearn.metrics.pairwise import cosine_similarity\n",
    "\n",
    "cosine_sim = cosine_similarity(um_norm, um_norm)"
   ]
  },
  {
   "cell_type": "code",
   "execution_count": 18,
   "metadata": {},
   "outputs": [],
   "source": [
    "## Restaurant recomendation (item-item) with k-NN"
   ]
  },
  {
   "cell_type": "code",
   "execution_count": 19,
   "metadata": {},
   "outputs": [],
   "source": [
    "from sklearn.neighbors import NearestNeighbors"
   ]
  },
  {
   "cell_type": "code",
   "execution_count": 32,
   "metadata": {},
   "outputs": [],
   "source": [
    "names = reviews_filtered['name']\n",
    "restaurant_ids = reviews_filtered.index\n",
    "\n",
    "def recommendations(restaurant, distance, k=10):\n",
    "    correct_name = reviews_filtered[reviews_filtered.name.str.contains(restaurant)]['name'].values[0]\n",
    "    idx = restaurant_ids.get_loc(reviews_filtered[reviews_filtered.name.str.contains(restaurant)]['name'].index[0])\n",
    "    \n",
    "    sim_scores = list(enumerate(distance[idx]))\n",
    "    sim_scores = sorted(sim_scores, key=lambda x: x[1], reverse = True)\n",
    "    sim_scores = sim_scores[1:k]\n",
    "    \n",
    "    similar_restaurants = [i[0] for i in sim_scores]\n",
    "    \n",
    "    print(f'Recommendations for {correct_name}')\n",
    "    return reviews_filtered['name'].iloc[similar_restaurants]"
   ]
  },
  {
   "cell_type": "code",
   "execution_count": 21,
   "metadata": {},
   "outputs": [
    {
     "name": "stdout",
     "output_type": "stream",
     "text": [
      "Recommendations for Liberty Village Market & Cafe\n"
     ]
    },
    {
     "data": {
      "text/plain": [
       "32268             Picanha Steak Truck\n",
       "19286       The Smashed Pig Gastropub\n",
       "161                         Pink Taco\n",
       "13043                     Sunset Room\n",
       "7210              Village Pub & Poker\n",
       "1975           Brevard Court Sundries\n",
       "18142           Riva by Wolfgang Puck\n",
       "6417                    Tam's Kitchen\n",
       "3256                Cafe des Artisans\n",
       "32293           Mi Casa Grill Cantina\n",
       "6888                   Salty Senorita\n",
       "10181             Putter's Charleston\n",
       "31385                   El Pollo Loco\n",
       "11199            Rimrock Bar & Grille\n",
       "27584    Brooklyn V's Pizza- Chandler\n",
       "12025                 Jasmine Express\n",
       "20566       Dairy Queen Grill & Chill\n",
       "35223                   Bombay Palace\n",
       "1099       Sabor Miami Cafe & Gallery\n",
       "Name: name, dtype: object"
      ]
     },
     "execution_count": 21,
     "metadata": {},
     "output_type": "execute_result"
    }
   ],
   "source": [
    "recommendations('Liberty', cosine_sim, k=20)"
   ]
  },
  {
   "cell_type": "code",
   "execution_count": 34,
   "metadata": {},
   "outputs": [
    {
     "name": "stdout",
     "output_type": "stream",
     "text": [
      "Recommendations for El Pollo Loco\n"
     ]
    },
    {
     "data": {
      "text/plain": [
       "26554                            TGI Fridays\n",
       "19287              The Smashed Pig Gastropub\n",
       "10057                           Safari Miles\n",
       "16781                              China Wok\n",
       "28203    Restaurant - Auberge du Lac Morency\n",
       "3534              Eighty Acres Kitchen & Bar\n",
       "10181                    Putter's Charleston\n",
       "31438                    Blue Burrito Grille\n",
       "15842                     Orient Sushi Grill\n",
       "1739                             Smashburger\n",
       "835                         Red White & Brew\n",
       "12772                     Pasture and Plenty\n",
       "2443                  Little Country Kitchen\n",
       "2845                                Jia Cafe\n",
       "Name: name, dtype: object"
      ]
     },
     "execution_count": 34,
     "metadata": {},
     "output_type": "execute_result"
    }
   ],
   "source": [
    "recommendations('Pollo Loco', cosine_sim, k=15)"
   ]
  },
  {
   "cell_type": "code",
   "execution_count": 33,
   "metadata": {},
   "outputs": [
    {
     "data": {
      "text/plain": [
       "'El Pollo Loco'"
      ]
     },
     "execution_count": 33,
     "metadata": {},
     "output_type": "execute_result"
    }
   ],
   "source": [
    "reviews_filtered[reviews_filtered.name.str.contains('Pollo Loco')]['name'].values[0]"
   ]
  },
  {
   "cell_type": "markdown",
   "metadata": {},
   "source": [
    "### Dimension reduction"
   ]
  },
  {
   "cell_type": "code",
   "execution_count": 152,
   "metadata": {},
   "outputs": [],
   "source": [
    "from sklearn.decomposition import TruncatedSVD\n",
    "import matplotlib.pyplot as plt\n",
    "\n",
    "def optimal_dimensions_svd(matrix):\n",
    "    n_comp = [2,4,7,10,15,20,50,100,150,200,500,700,800,900,1000,1500,2000,2500,3000,3500,4000] # list containing different values of components\n",
    "    explained = [] # explained variance ratio for each component of Truncated SVD\n",
    "    for x in n_comp:\n",
    "        svd = TruncatedSVD(n_components=x, n_iter=10)\n",
    "        svd.fit(matrix)\n",
    "        explained.append(svd.explained_variance_ratio_.sum())\n",
    "        print(\"Number of components = %r and explained variance = %r\"%(x,svd.explained_variance_ratio_.sum()))\n",
    "    plt.plot(n_comp, explained)\n",
    "    plt.xlabel('Number of components')\n",
    "    plt.ylabel(\"Explained Variance\")\n",
    "    plt.title(\"Plot of Number of components v/s explained variance\")\n",
    "    plt.show()"
   ]
  },
  {
   "cell_type": "code",
   "execution_count": 36,
   "metadata": {},
   "outputs": [
    {
     "data": {
      "text/plain": [
       "3346"
      ]
     },
     "execution_count": 36,
     "metadata": {},
     "output_type": "execute_result"
    }
   ],
   "source": [
    "cosine_sim.shape[0]"
   ]
  },
  {
   "cell_type": "code",
   "execution_count": 41,
   "metadata": {},
   "outputs": [
    {
     "name": "stdout",
     "output_type": "stream",
     "text": [
      "Number of components = 2 and explained variance = 0.9798052494151198\n",
      "Number of components = 4 and explained variance = 0.9869873055228444\n",
      "Number of components = 7 and explained variance = 0.9895629767843342\n",
      "Number of components = 10 and explained variance = 0.9906388319178469\n",
      "Number of components = 15 and explained variance = 0.9917196930004503\n",
      "Number of components = 20 and explained variance = 0.9923910443700577\n",
      "Number of components = 50 and explained variance = 0.9943271293240076\n",
      "Number of components = 100 and explained variance = 0.9956435963519542\n",
      "Number of components = 150 and explained variance = 0.9963882366515864\n",
      "Number of components = 200 and explained variance = 0.9969228634863487\n",
      "Number of components = 500 and explained variance = 0.998536896129274\n",
      "Number of components = 700 and explained variance = 0.9990322105252956\n",
      "Number of components = 800 and explained variance = 0.9992047727643639\n",
      "Number of components = 900 and explained variance = 0.9993439281337252\n",
      "Number of components = 1000 and explained variance = 0.9994569450878646\n",
      "Number of components = 1500 and explained variance = 0.9997885540184152\n"
     ]
    },
    {
     "data": {
      "image/png": "[encoded data removed]",
      "text/plain": [
       "<Figure size 432x288 with 1 Axes>"
      ]
     },
     "metadata": {
      "needs_background": "light"
     },
     "output_type": "display_data"
    }
   ],
   "source": [
    "optimal_dimensions_svd(cosine_sim)"
   ]
  },
  {
   "cell_type": "code",
   "execution_count": null,
   "metadata": {},
   "outputs": [],
   "source": [
    "# The selected number is 10 which explains a 99% of the variance."
   ]
  },
  {
   "cell_type": "code",
   "execution_count": 116,
   "metadata": {},
   "outputs": [],
   "source": [
    "svd = TruncatedSVD(n_components=10, n_iter=10)\n",
    "Z = svd.fit_transform(cosine_sim)"
   ]
  },
  {
   "cell_type": "markdown",
   "metadata": {},
   "source": [
    "### Predicting missing ratings to generate top N recommendations"
   ]
  },
  {
   "cell_type": "code",
   "execution_count": 117,
   "metadata": {},
   "outputs": [],
   "source": [
    "new_X = svd.inverse_transform(Z).T"
   ]
  },
  {
   "cell_type": "code",
   "execution_count": 156,
   "metadata": {},
   "outputs": [],
   "source": [
    "def user_recomendations(user_id, k=10):\n",
    "    idx_loc = utility_matrix.index.get_loc(user_id)\n",
    "    rec = pd.DataFrame(list(zip(reviews_filtered['name'], \n",
    "                                utility_matrix.loc[user_id], \n",
    "                                cf_inv[idx_loc, :])), \n",
    "                       columns=['restaurant', 'stars', 'pred'])\n",
    "    return rec[rec.stars==0].sort_values('pred', ascending=False).head(k)"
   ]
  },
  {
   "cell_type": "code",
   "execution_count": 157,
   "metadata": {},
   "outputs": [
    {
     "data": {
      "text/html": [
       "<div>\n",
       "<style scoped>\n",
       "    .dataframe tbody tr th:only-of-type {\n",
       "        vertical-align: middle;\n",
       "    }\n",
       "\n",
       "    .dataframe tbody tr th {\n",
       "        vertical-align: top;\n",
       "    }\n",
       "\n",
       "    .dataframe thead th {\n",
       "        text-align: right;\n",
       "    }\n",
       "</style>\n",
       "<table border=\"1\" class=\"dataframe\">\n",
       "  <thead>\n",
       "    <tr style=\"text-align: right;\">\n",
       "      <th></th>\n",
       "      <th>restaurant</th>\n",
       "      <th>stars</th>\n",
       "      <th>pred</th>\n",
       "    </tr>\n",
       "  </thead>\n",
       "  <tbody>\n",
       "    <tr>\n",
       "      <th>3321</th>\n",
       "      <td>Tank's Tap</td>\n",
       "      <td>0.0</td>\n",
       "      <td>4.987479</td>\n",
       "    </tr>\n",
       "    <tr>\n",
       "      <th>1210</th>\n",
       "      <td>PT's Gold</td>\n",
       "      <td>0.0</td>\n",
       "      <td>4.545156</td>\n",
       "    </tr>\n",
       "    <tr>\n",
       "      <th>2964</th>\n",
       "      <td>Jo Jo's Grill</td>\n",
       "      <td>0.0</td>\n",
       "      <td>4.499795</td>\n",
       "    </tr>\n",
       "    <tr>\n",
       "      <th>2766</th>\n",
       "      <td>Chart House</td>\n",
       "      <td>0.0</td>\n",
       "      <td>4.003564</td>\n",
       "    </tr>\n",
       "    <tr>\n",
       "      <th>3138</th>\n",
       "      <td>Otro Cafe</td>\n",
       "      <td>0.0</td>\n",
       "      <td>3.940380</td>\n",
       "    </tr>\n",
       "    <tr>\n",
       "      <th>1963</th>\n",
       "      <td>PT's Gold</td>\n",
       "      <td>0.0</td>\n",
       "      <td>3.915811</td>\n",
       "    </tr>\n",
       "    <tr>\n",
       "      <th>1878</th>\n",
       "      <td>Taco Bell</td>\n",
       "      <td>0.0</td>\n",
       "      <td>3.879169</td>\n",
       "    </tr>\n",
       "    <tr>\n",
       "      <th>1714</th>\n",
       "      <td>Filiberto's Mexican Food</td>\n",
       "      <td>0.0</td>\n",
       "      <td>3.751223</td>\n",
       "    </tr>\n",
       "    <tr>\n",
       "      <th>2222</th>\n",
       "      <td>Egg N' Joe</td>\n",
       "      <td>0.0</td>\n",
       "      <td>3.750555</td>\n",
       "    </tr>\n",
       "    <tr>\n",
       "      <th>421</th>\n",
       "      <td>Brooklyn V's Pizza- Chandler</td>\n",
       "      <td>0.0</td>\n",
       "      <td>3.004977</td>\n",
       "    </tr>\n",
       "  </tbody>\n",
       "</table>\n",
       "</div>"
      ],
      "text/plain": [
       "                        restaurant  stars      pred\n",
       "3321                    Tank's Tap    0.0  4.987479\n",
       "1210                     PT's Gold    0.0  4.545156\n",
       "2964                 Jo Jo's Grill    0.0  4.499795\n",
       "2766                   Chart House    0.0  4.003564\n",
       "3138                     Otro Cafe    0.0  3.940380\n",
       "1963                     PT's Gold    0.0  3.915811\n",
       "1878                     Taco Bell    0.0  3.879169\n",
       "1714      Filiberto's Mexican Food    0.0  3.751223\n",
       "2222                    Egg N' Joe    0.0  3.750555\n",
       "421   Brooklyn V's Pizza- Chandler    0.0  3.004977"
      ]
     },
     "execution_count": 157,
     "metadata": {},
     "output_type": "execute_result"
    }
   ],
   "source": [
    "user_recomendations('zFCuveEe6M-ijY1iy23IJg')"
   ]
  },
  {
   "cell_type": "code",
   "execution_count": 158,
   "metadata": {},
   "outputs": [
    {
     "data": {
      "text/html": [
       "<div>\n",
       "<style scoped>\n",
       "    .dataframe tbody tr th:only-of-type {\n",
       "        vertical-align: middle;\n",
       "    }\n",
       "\n",
       "    .dataframe tbody tr th {\n",
       "        vertical-align: top;\n",
       "    }\n",
       "\n",
       "    .dataframe thead th {\n",
       "        text-align: right;\n",
       "    }\n",
       "</style>\n",
       "<table border=\"1\" class=\"dataframe\">\n",
       "  <thead>\n",
       "    <tr style=\"text-align: right;\">\n",
       "      <th></th>\n",
       "      <th>restaurant</th>\n",
       "      <th>stars</th>\n",
       "      <th>pred</th>\n",
       "    </tr>\n",
       "  </thead>\n",
       "  <tbody>\n",
       "    <tr>\n",
       "      <th>3105</th>\n",
       "      <td>Fatburger</td>\n",
       "      <td>0.0</td>\n",
       "      <td>5.099558</td>\n",
       "    </tr>\n",
       "    <tr>\n",
       "      <th>2496</th>\n",
       "      <td>Evan's Old Town Grille</td>\n",
       "      <td>0.0</td>\n",
       "      <td>5.085459</td>\n",
       "    </tr>\n",
       "    <tr>\n",
       "      <th>386</th>\n",
       "      <td>Sandwich Max</td>\n",
       "      <td>0.0</td>\n",
       "      <td>5.059301</td>\n",
       "    </tr>\n",
       "    <tr>\n",
       "      <th>842</th>\n",
       "      <td>Otro Cafe</td>\n",
       "      <td>0.0</td>\n",
       "      <td>5.056131</td>\n",
       "    </tr>\n",
       "    <tr>\n",
       "      <th>283</th>\n",
       "      <td>Zam Zam Tikka &amp; Kabab</td>\n",
       "      <td>0.0</td>\n",
       "      <td>5.050993</td>\n",
       "    </tr>\n",
       "    <tr>\n",
       "      <th>2261</th>\n",
       "      <td>Raxx-</td>\n",
       "      <td>0.0</td>\n",
       "      <td>5.047137</td>\n",
       "    </tr>\n",
       "    <tr>\n",
       "      <th>3318</th>\n",
       "      <td>Tank's Tap</td>\n",
       "      <td>0.0</td>\n",
       "      <td>5.045739</td>\n",
       "    </tr>\n",
       "    <tr>\n",
       "      <th>1629</th>\n",
       "      <td>Involtini Ristorante</td>\n",
       "      <td>0.0</td>\n",
       "      <td>5.044460</td>\n",
       "    </tr>\n",
       "    <tr>\n",
       "      <th>948</th>\n",
       "      <td>Farmer Boys</td>\n",
       "      <td>0.0</td>\n",
       "      <td>5.041420</td>\n",
       "    </tr>\n",
       "    <tr>\n",
       "      <th>488</th>\n",
       "      <td>D'Agnese's Bistro Seven Hills</td>\n",
       "      <td>0.0</td>\n",
       "      <td>5.035256</td>\n",
       "    </tr>\n",
       "  </tbody>\n",
       "</table>\n",
       "</div>"
      ],
      "text/plain": [
       "                         restaurant  stars      pred\n",
       "3105                      Fatburger    0.0  5.099558\n",
       "2496         Evan's Old Town Grille    0.0  5.085459\n",
       "386                    Sandwich Max    0.0  5.059301\n",
       "842                       Otro Cafe    0.0  5.056131\n",
       "283           Zam Zam Tikka & Kabab    0.0  5.050993\n",
       "2261                          Raxx-    0.0  5.047137\n",
       "3318                     Tank's Tap    0.0  5.045739\n",
       "1629           Involtini Ristorante    0.0  5.044460\n",
       "948                     Farmer Boys    0.0  5.041420\n",
       "488   D'Agnese's Bistro Seven Hills    0.0  5.035256"
      ]
     },
     "execution_count": 158,
     "metadata": {},
     "output_type": "execute_result"
    }
   ],
   "source": [
    "user_recomendations('--Qh8yKWAvIP4V4K8ZPfHA')"
   ]
  },
  {
   "cell_type": "code",
   "execution_count": 159,
   "metadata": {},
   "outputs": [
    {
     "data": {
      "text/html": [
       "<div>\n",
       "<style scoped>\n",
       "    .dataframe tbody tr th:only-of-type {\n",
       "        vertical-align: middle;\n",
       "    }\n",
       "\n",
       "    .dataframe tbody tr th {\n",
       "        vertical-align: top;\n",
       "    }\n",
       "\n",
       "    .dataframe thead th {\n",
       "        text-align: right;\n",
       "    }\n",
       "</style>\n",
       "<table border=\"1\" class=\"dataframe\">\n",
       "  <thead>\n",
       "    <tr style=\"text-align: right;\">\n",
       "      <th></th>\n",
       "      <th>restaurant</th>\n",
       "      <th>stars</th>\n",
       "      <th>pred</th>\n",
       "    </tr>\n",
       "  </thead>\n",
       "  <tbody>\n",
       "    <tr>\n",
       "      <th>2721</th>\n",
       "      <td>Sunset Room</td>\n",
       "      <td>0.0</td>\n",
       "      <td>2.992291</td>\n",
       "    </tr>\n",
       "    <tr>\n",
       "      <th>194</th>\n",
       "      <td>Little Country Kitchen</td>\n",
       "      <td>0.0</td>\n",
       "      <td>0.014652</td>\n",
       "    </tr>\n",
       "    <tr>\n",
       "      <th>840</th>\n",
       "      <td>Otro Cafe</td>\n",
       "      <td>0.0</td>\n",
       "      <td>0.012284</td>\n",
       "    </tr>\n",
       "    <tr>\n",
       "      <th>212</th>\n",
       "      <td>The Jailhouse Taverne</td>\n",
       "      <td>0.0</td>\n",
       "      <td>0.011870</td>\n",
       "    </tr>\n",
       "    <tr>\n",
       "      <th>976</th>\n",
       "      <td>Chand Palace</td>\n",
       "      <td>0.0</td>\n",
       "      <td>0.010853</td>\n",
       "    </tr>\n",
       "    <tr>\n",
       "      <th>1233</th>\n",
       "      <td>Mariner's Inn</td>\n",
       "      <td>0.0</td>\n",
       "      <td>0.010823</td>\n",
       "    </tr>\n",
       "    <tr>\n",
       "      <th>352</th>\n",
       "      <td>Pizza Taglio</td>\n",
       "      <td>0.0</td>\n",
       "      <td>0.010706</td>\n",
       "    </tr>\n",
       "    <tr>\n",
       "      <th>1749</th>\n",
       "      <td>Riva by Wolfgang Puck</td>\n",
       "      <td>0.0</td>\n",
       "      <td>0.010028</td>\n",
       "    </tr>\n",
       "    <tr>\n",
       "      <th>655</th>\n",
       "      <td>Mad Jack's Grill &amp; Pub</td>\n",
       "      <td>0.0</td>\n",
       "      <td>0.009456</td>\n",
       "    </tr>\n",
       "    <tr>\n",
       "      <th>741</th>\n",
       "      <td>New China Buffet</td>\n",
       "      <td>0.0</td>\n",
       "      <td>0.008988</td>\n",
       "    </tr>\n",
       "  </tbody>\n",
       "</table>\n",
       "</div>"
      ],
      "text/plain": [
       "                  restaurant  stars      pred\n",
       "2721             Sunset Room    0.0  2.992291\n",
       "194   Little Country Kitchen    0.0  0.014652\n",
       "840                Otro Cafe    0.0  0.012284\n",
       "212    The Jailhouse Taverne    0.0  0.011870\n",
       "976             Chand Palace    0.0  0.010853\n",
       "1233           Mariner's Inn    0.0  0.010823\n",
       "352             Pizza Taglio    0.0  0.010706\n",
       "1749   Riva by Wolfgang Puck    0.0  0.010028\n",
       "655   Mad Jack's Grill & Pub    0.0  0.009456\n",
       "741         New China Buffet    0.0  0.008988"
      ]
     },
     "execution_count": 159,
     "metadata": {},
     "output_type": "execute_result"
    }
   ],
   "source": [
    "user_recomendations('-0b84SUGVN0YkG5j2MCmBw')"
   ]
  },
  {
   "cell_type": "code",
   "execution_count": 86,
   "metadata": {},
   "outputs": [
    {
     "data": {
      "text/plain": [
       "name\n",
       " China                                 0.0\n",
       "&Company Resto Bar                     0.0\n",
       "1 Pot                                  0.0\n",
       "100th Bomb Group                       0.0\n",
       "107 State                              0.0\n",
       "                                      ... \n",
       "Ã”Breton                               0.0\n",
       "Ã‰rabliÃ¨re Ã  la Feuille d'Ã‰rable    0.0\n",
       "Ã‰tat-Major                            0.0\n",
       "Ã‰tudiant Savoureux Biryani            0.0\n",
       "Å’ufs & Cie                            0.0\n",
       "Name: zFCuveEe6M-ijY1iy23IJg, Length: 13284, dtype: float64"
      ]
     },
     "execution_count": 86,
     "metadata": {},
     "output_type": "execute_result"
    }
   ],
   "source": [
    "utility_matrix.loc['zFCuveEe6M-ijY1iy23IJg']"
   ]
  },
  {
   "cell_type": "code",
   "execution_count": 89,
   "metadata": {},
   "outputs": [
    {
     "data": {
      "text/plain": [
       "3309"
      ]
     },
     "execution_count": 89,
     "metadata": {},
     "output_type": "execute_result"
    }
   ],
   "source": [
    "utility_matrix.index.get_loc('zFCuveEe6M-ijY1iy23IJg')"
   ]
  },
  {
   "cell_type": "code",
   "execution_count": 138,
   "metadata": {},
   "outputs": [
    {
     "data": {
      "text/plain": [
       "array([ 0.02220042,  0.01534646, -0.00489837, ...,  0.01249355,\n",
       "        0.0173638 ,  0.01453143])"
      ]
     },
     "execution_count": 138,
     "metadata": {},
     "output_type": "execute_result"
    }
   ],
   "source": [
    "new_X[3309, :]"
   ]
  },
  {
   "cell_type": "code",
   "execution_count": 114,
   "metadata": {},
   "outputs": [
    {
     "data": {
      "text/html": [
       "<div>\n",
       "<style scoped>\n",
       "    .dataframe tbody tr th:only-of-type {\n",
       "        vertical-align: middle;\n",
       "    }\n",
       "\n",
       "    .dataframe tbody tr th {\n",
       "        vertical-align: top;\n",
       "    }\n",
       "\n",
       "    .dataframe thead th {\n",
       "        text-align: right;\n",
       "    }\n",
       "</style>\n",
       "<table border=\"1\" class=\"dataframe\">\n",
       "  <thead>\n",
       "    <tr style=\"text-align: right;\">\n",
       "      <th>name</th>\n",
       "      <th>China</th>\n",
       "      <th>&amp;Company Resto Bar</th>\n",
       "      <th>1 Pot</th>\n",
       "      <th>100th Bomb Group</th>\n",
       "      <th>107 State</th>\n",
       "      <th>111 Bistro</th>\n",
       "      <th>1118 Bistro Bar and Grill</th>\n",
       "      <th>1130 The Restaurant</th>\n",
       "      <th>12 Tables</th>\n",
       "      <th>123 Bulgogi</th>\n",
       "      <th>...</th>\n",
       "      <th>tÃ¤kÅ�</th>\n",
       "      <th>yuan yuan Chinese Restaurant</th>\n",
       "      <th>z-teca Gourmet Burritos</th>\n",
       "      <th>zuma</th>\n",
       "      <th>ÃŽle Flottante</th>\n",
       "      <th>Ã”Breton</th>\n",
       "      <th>Ã‰rabliÃ¨re Ã  la Feuille d'Ã‰rable</th>\n",
       "      <th>Ã‰tat-Major</th>\n",
       "      <th>Ã‰tudiant Savoureux Biryani</th>\n",
       "      <th>Å’ufs &amp; Cie</th>\n",
       "    </tr>\n",
       "    <tr>\n",
       "      <th>user_id</th>\n",
       "      <th></th>\n",
       "      <th></th>\n",
       "      <th></th>\n",
       "      <th></th>\n",
       "      <th></th>\n",
       "      <th></th>\n",
       "      <th></th>\n",
       "      <th></th>\n",
       "      <th></th>\n",
       "      <th></th>\n",
       "      <th></th>\n",
       "      <th></th>\n",
       "      <th></th>\n",
       "      <th></th>\n",
       "      <th></th>\n",
       "      <th></th>\n",
       "      <th></th>\n",
       "      <th></th>\n",
       "      <th></th>\n",
       "      <th></th>\n",
       "      <th></th>\n",
       "    </tr>\n",
       "  </thead>\n",
       "  <tbody>\n",
       "    <tr>\n",
       "      <th>--2HUmLkcNHZp0xw6AMBPg</th>\n",
       "      <td>0.0</td>\n",
       "      <td>0.0</td>\n",
       "      <td>0.0</td>\n",
       "      <td>0.0</td>\n",
       "      <td>0.0</td>\n",
       "      <td>0.0</td>\n",
       "      <td>0.0</td>\n",
       "      <td>0.0</td>\n",
       "      <td>0.0</td>\n",
       "      <td>0.0</td>\n",
       "      <td>...</td>\n",
       "      <td>0.0</td>\n",
       "      <td>0.0</td>\n",
       "      <td>0.0</td>\n",
       "      <td>0.0</td>\n",
       "      <td>0.0</td>\n",
       "      <td>5.0</td>\n",
       "      <td>0.0</td>\n",
       "      <td>0.0</td>\n",
       "      <td>0.0</td>\n",
       "      <td>0.0</td>\n",
       "    </tr>\n",
       "    <tr>\n",
       "      <th>--Qh8yKWAvIP4V4K8ZPfHA</th>\n",
       "      <td>0.0</td>\n",
       "      <td>0.0</td>\n",
       "      <td>0.0</td>\n",
       "      <td>0.0</td>\n",
       "      <td>0.0</td>\n",
       "      <td>0.0</td>\n",
       "      <td>0.0</td>\n",
       "      <td>0.0</td>\n",
       "      <td>0.0</td>\n",
       "      <td>0.0</td>\n",
       "      <td>...</td>\n",
       "      <td>0.0</td>\n",
       "      <td>0.0</td>\n",
       "      <td>3.0</td>\n",
       "      <td>0.0</td>\n",
       "      <td>0.0</td>\n",
       "      <td>0.0</td>\n",
       "      <td>0.0</td>\n",
       "      <td>0.0</td>\n",
       "      <td>0.0</td>\n",
       "      <td>0.0</td>\n",
       "    </tr>\n",
       "    <tr>\n",
       "      <th>-0b84SUGVN0YkG5j2MCmBw</th>\n",
       "      <td>0.0</td>\n",
       "      <td>0.0</td>\n",
       "      <td>0.0</td>\n",
       "      <td>0.0</td>\n",
       "      <td>0.0</td>\n",
       "      <td>0.0</td>\n",
       "      <td>0.0</td>\n",
       "      <td>0.0</td>\n",
       "      <td>0.0</td>\n",
       "      <td>0.0</td>\n",
       "      <td>...</td>\n",
       "      <td>0.0</td>\n",
       "      <td>0.0</td>\n",
       "      <td>0.0</td>\n",
       "      <td>0.0</td>\n",
       "      <td>0.0</td>\n",
       "      <td>0.0</td>\n",
       "      <td>0.0</td>\n",
       "      <td>0.0</td>\n",
       "      <td>0.0</td>\n",
       "      <td>0.0</td>\n",
       "    </tr>\n",
       "    <tr>\n",
       "      <th>-0udWcFQEt2M8kM3xcIofw</th>\n",
       "      <td>0.0</td>\n",
       "      <td>0.0</td>\n",
       "      <td>0.0</td>\n",
       "      <td>0.0</td>\n",
       "      <td>0.0</td>\n",
       "      <td>0.0</td>\n",
       "      <td>0.0</td>\n",
       "      <td>0.0</td>\n",
       "      <td>0.0</td>\n",
       "      <td>0.0</td>\n",
       "      <td>...</td>\n",
       "      <td>0.0</td>\n",
       "      <td>0.0</td>\n",
       "      <td>0.0</td>\n",
       "      <td>0.0</td>\n",
       "      <td>0.0</td>\n",
       "      <td>0.0</td>\n",
       "      <td>0.0</td>\n",
       "      <td>0.0</td>\n",
       "      <td>0.0</td>\n",
       "      <td>0.0</td>\n",
       "    </tr>\n",
       "    <tr>\n",
       "      <th>-267Yx8RmdP6io2-qI4UcQ</th>\n",
       "      <td>0.0</td>\n",
       "      <td>0.0</td>\n",
       "      <td>0.0</td>\n",
       "      <td>0.0</td>\n",
       "      <td>0.0</td>\n",
       "      <td>0.0</td>\n",
       "      <td>0.0</td>\n",
       "      <td>0.0</td>\n",
       "      <td>0.0</td>\n",
       "      <td>0.0</td>\n",
       "      <td>...</td>\n",
       "      <td>0.0</td>\n",
       "      <td>0.0</td>\n",
       "      <td>0.0</td>\n",
       "      <td>0.0</td>\n",
       "      <td>0.0</td>\n",
       "      <td>0.0</td>\n",
       "      <td>0.0</td>\n",
       "      <td>0.0</td>\n",
       "      <td>0.0</td>\n",
       "      <td>0.0</td>\n",
       "    </tr>\n",
       "  </tbody>\n",
       "</table>\n",
       "<p>5 rows × 13284 columns</p>\n",
       "</div>"
      ],
      "text/plain": [
       "name                     China  &Company Resto Bar  1 Pot  100th Bomb Group  \\\n",
       "user_id                                                                       \n",
       "--2HUmLkcNHZp0xw6AMBPg     0.0                 0.0    0.0               0.0   \n",
       "--Qh8yKWAvIP4V4K8ZPfHA     0.0                 0.0    0.0               0.0   \n",
       "-0b84SUGVN0YkG5j2MCmBw     0.0                 0.0    0.0               0.0   \n",
       "-0udWcFQEt2M8kM3xcIofw     0.0                 0.0    0.0               0.0   \n",
       "-267Yx8RmdP6io2-qI4UcQ     0.0                 0.0    0.0               0.0   \n",
       "\n",
       "name                    107 State  111 Bistro  1118 Bistro Bar and Grill  \\\n",
       "user_id                                                                    \n",
       "--2HUmLkcNHZp0xw6AMBPg        0.0         0.0                        0.0   \n",
       "--Qh8yKWAvIP4V4K8ZPfHA        0.0         0.0                        0.0   \n",
       "-0b84SUGVN0YkG5j2MCmBw        0.0         0.0                        0.0   \n",
       "-0udWcFQEt2M8kM3xcIofw        0.0         0.0                        0.0   \n",
       "-267Yx8RmdP6io2-qI4UcQ        0.0         0.0                        0.0   \n",
       "\n",
       "name                    1130 The Restaurant  12 Tables  123 Bulgogi  ...  \\\n",
       "user_id                                                              ...   \n",
       "--2HUmLkcNHZp0xw6AMBPg                  0.0        0.0          0.0  ...   \n",
       "--Qh8yKWAvIP4V4K8ZPfHA                  0.0        0.0          0.0  ...   \n",
       "-0b84SUGVN0YkG5j2MCmBw                  0.0        0.0          0.0  ...   \n",
       "-0udWcFQEt2M8kM3xcIofw                  0.0        0.0          0.0  ...   \n",
       "-267Yx8RmdP6io2-qI4UcQ                  0.0        0.0          0.0  ...   \n",
       "\n",
       "name                    tÃ¤kÅ�  yuan yuan Chinese Restaurant  \\\n",
       "user_id                                                        \n",
       "--2HUmLkcNHZp0xw6AMBPg     0.0                           0.0   \n",
       "--Qh8yKWAvIP4V4K8ZPfHA     0.0                           0.0   \n",
       "-0b84SUGVN0YkG5j2MCmBw     0.0                           0.0   \n",
       "-0udWcFQEt2M8kM3xcIofw     0.0                           0.0   \n",
       "-267Yx8RmdP6io2-qI4UcQ     0.0                           0.0   \n",
       "\n",
       "name                    z-teca Gourmet Burritos  zuma  ÃŽle Flottante  \\\n",
       "user_id                                                                 \n",
       "--2HUmLkcNHZp0xw6AMBPg                      0.0   0.0             0.0   \n",
       "--Qh8yKWAvIP4V4K8ZPfHA                      3.0   0.0             0.0   \n",
       "-0b84SUGVN0YkG5j2MCmBw                      0.0   0.0             0.0   \n",
       "-0udWcFQEt2M8kM3xcIofw                      0.0   0.0             0.0   \n",
       "-267Yx8RmdP6io2-qI4UcQ                      0.0   0.0             0.0   \n",
       "\n",
       "name                    Ã”Breton  Ã‰rabliÃ¨re Ã  la Feuille d'Ã‰rable  \\\n",
       "user_id                                                                 \n",
       "--2HUmLkcNHZp0xw6AMBPg       5.0                                  0.0   \n",
       "--Qh8yKWAvIP4V4K8ZPfHA       0.0                                  0.0   \n",
       "-0b84SUGVN0YkG5j2MCmBw       0.0                                  0.0   \n",
       "-0udWcFQEt2M8kM3xcIofw       0.0                                  0.0   \n",
       "-267Yx8RmdP6io2-qI4UcQ       0.0                                  0.0   \n",
       "\n",
       "name                    Ã‰tat-Major  Ã‰tudiant Savoureux Biryani  Å’ufs & Cie  \n",
       "user_id                                                                        \n",
       "--2HUmLkcNHZp0xw6AMBPg          0.0                          0.0          0.0  \n",
       "--Qh8yKWAvIP4V4K8ZPfHA          0.0                          0.0          0.0  \n",
       "-0b84SUGVN0YkG5j2MCmBw          0.0                          0.0          0.0  \n",
       "-0udWcFQEt2M8kM3xcIofw          0.0                          0.0          0.0  \n",
       "-267Yx8RmdP6io2-qI4UcQ          0.0                          0.0          0.0  \n",
       "\n",
       "[5 rows x 13284 columns]"
      ]
     },
     "execution_count": 114,
     "metadata": {},
     "output_type": "execute_result"
    }
   ],
   "source": [
    "utility_matrix.head()"
   ]
  },
  {
   "cell_type": "code",
   "execution_count": 125,
   "metadata": {},
   "outputs": [
    {
     "data": {
      "text/plain": [
       "array([[1.        , 0.99497362, 0.9949246 , ..., 0.99489564, 0.99416601,\n",
       "        0.99572388],\n",
       "       [0.99497362, 1.        , 0.99535623, ..., 0.9949953 , 0.99430984,\n",
       "        0.99608304],\n",
       "       [0.9949246 , 0.99535623, 1.        , ..., 0.9950705 , 0.99430149,\n",
       "        0.99602038],\n",
       "       ...,\n",
       "       [0.99489564, 0.9949953 , 0.9950705 , ..., 1.        , 0.99514317,\n",
       "        0.995786  ],\n",
       "       [0.99416601, 0.99430984, 0.99430149, ..., 0.99514317, 1.        ,\n",
       "        0.99494936],\n",
       "       [0.99572388, 0.99608304, 0.99602038, ..., 0.995786  , 0.99494936,\n",
       "        1.        ]])"
      ]
     },
     "execution_count": 125,
     "metadata": {},
     "output_type": "execute_result"
    }
   ],
   "source": [
    "cosine_sim"
   ]
  },
  {
   "cell_type": "code",
   "execution_count": null,
   "metadata": {},
   "outputs": [],
   "source": [
    "# Reminder: Apply the algorith (SVD) to the utility matrix, not de cosine_sim distance!!!!"
   ]
  },
  {
   "cell_type": "code",
   "execution_count": 153,
   "metadata": {},
   "outputs": [
    {
     "name": "stdout",
     "output_type": "stream",
     "text": [
      "Number of components = 2 and explained variance = 0.035505301342141894\n",
      "Number of components = 4 and explained variance = 0.0626509933925302\n",
      "Number of components = 7 and explained variance = 0.08518204117363623\n",
      "Number of components = 10 and explained variance = 0.09961069555750254\n",
      "Number of components = 15 and explained variance = 0.1185596907186402\n",
      "Number of components = 20 and explained variance = 0.1339563102838302\n",
      "Number of components = 50 and explained variance = 0.19864619752847112\n",
      "Number of components = 100 and explained variance = 0.2678198606872778\n",
      "Number of components = 150 and explained variance = 0.3203324550802516\n",
      "Number of components = 200 and explained variance = 0.36496172878485034\n",
      "Number of components = 500 and explained variance = 0.5534758872292634\n",
      "Number of components = 700 and explained variance = 0.6397686417424235\n",
      "Number of components = 800 and explained variance = 0.6758848209971879\n",
      "Number of components = 900 and explained variance = 0.7083455127523354\n",
      "Number of components = 1000 and explained variance = 0.7376209809027974\n",
      "Number of components = 1500 and explained variance = 0.8488659755032798\n",
      "Number of components = 2000 and explained variance = 0.9201431973246939\n",
      "Number of components = 2500 and explained variance = 0.9652268503426348\n",
      "Number of components = 3000 and explained variance = 0.9913572799223104\n",
      "Number of components = 3500 and explained variance = 1.0\n",
      "Number of components = 4000 and explained variance = 1.0000000000000002\n"
     ]
    },
    {
     "data": {
      "image/png": "[encoded data removed]",
      "text/plain": [
       "<Figure size 432x288 with 1 Axes>"
      ]
     },
     "metadata": {
      "needs_background": "light"
     },
     "output_type": "display_data"
    }
   ],
   "source": [
    "# The number of components has increased... now are 3000\n",
    "optimal_dimensions_svd(utility_matrix)"
   ]
  },
  {
   "cell_type": "code",
   "execution_count": 154,
   "metadata": {},
   "outputs": [],
   "source": [
    "svd = TruncatedSVD(n_components=3000, n_iter=10)\n",
    "cf = svd.fit_transform(utility_matrix)"
   ]
  },
  {
   "cell_type": "code",
   "execution_count": 155,
   "metadata": {},
   "outputs": [
    {
     "data": {
      "text/plain": [
       "array([[ 8.05997687e-03,  7.77090126e-03,  9.71653583e-03, ...,\n",
       "        -2.73088167e-02,  2.06929610e-02,  5.91624054e-03],\n",
       "       [-1.16357897e-02,  1.94846589e-02,  8.83590595e-04, ...,\n",
       "         4.01343802e+00, -3.39522415e-02, -9.83460035e-04],\n",
       "       [ 2.48816765e-03,  1.49653339e-03,  5.36508734e-04, ...,\n",
       "         2.67422206e-03,  2.34561117e-03,  3.71483138e-03],\n",
       "       ...,\n",
       "       [-3.56916406e-03, -5.50463623e-03,  6.48059855e-03, ...,\n",
       "         9.32666112e-03,  4.20730581e-03, -1.49114530e-03],\n",
       "       [ 1.14906832e-04, -1.11474032e-03,  2.97721711e-03, ...,\n",
       "        -4.22731515e-04, -5.58628756e-03,  9.26927868e-04],\n",
       "       [ 4.66775952e-03,  8.05112232e-03,  5.03136440e-03, ...,\n",
       "        -7.68394998e-03, -7.81623217e-03,  1.08584613e-02]])"
      ]
     },
     "execution_count": 155,
     "metadata": {},
     "output_type": "execute_result"
    }
   ],
   "source": [
    "cf_inv = svd.inverse_transform(cf).T\n",
    "cf_inv"
   ]
  },
  {
   "cell_type": "code",
   "execution_count": 166,
   "metadata": {},
   "outputs": [],
   "source": [
    "# Evaluation metrics\n",
    "\n",
    "#from funcsigs import signature\n",
    "import recmetrics\n",
    "from surprise import Reader, SVD, Dataset\n",
    "from surprise.model_selection import train_test_split"
   ]
  },
  {
   "cell_type": "code",
   "execution_count": 167,
   "metadata": {},
   "outputs": [],
   "source": [
    "reader = Reader(rating_scale=(1,5))\n",
    "data = Dataset.load_from_df(reviews_filtered, reader)\n",
    "trainset, testset = train_test_split(data, test_size=0.25, random_state=42)"
   ]
  },
  {
   "cell_type": "code",
   "execution_count": 171,
   "metadata": {},
   "outputs": [
    {
     "data": {
      "text/plain": [
       "<surprise.prediction_algorithms.matrix_factorization.SVD at 0x29f672797c8>"
      ]
     },
     "execution_count": 171,
     "metadata": {},
     "output_type": "execute_result"
    }
   ],
   "source": [
    "# train SVD recommender\n",
    "\n",
    "algo = SVD(n_factors=3000, n_epochs=10)\n",
    "algo.fit(trainset)"
   ]
  },
  {
   "cell_type": "code",
   "execution_count": 172,
   "metadata": {},
   "outputs": [
    {
     "data": {
      "text/html": [
       "<div>\n",
       "<style scoped>\n",
       "    .dataframe tbody tr th:only-of-type {\n",
       "        vertical-align: middle;\n",
       "    }\n",
       "\n",
       "    .dataframe tbody tr th {\n",
       "        vertical-align: top;\n",
       "    }\n",
       "\n",
       "    .dataframe thead th {\n",
       "        text-align: right;\n",
       "    }\n",
       "</style>\n",
       "<table border=\"1\" class=\"dataframe\">\n",
       "  <thead>\n",
       "    <tr style=\"text-align: right;\">\n",
       "      <th></th>\n",
       "      <th>userid</th>\n",
       "      <th>restaurant</th>\n",
       "      <th>actual</th>\n",
       "      <th>cf_predictions</th>\n",
       "    </tr>\n",
       "  </thead>\n",
       "  <tbody>\n",
       "    <tr>\n",
       "      <th>0</th>\n",
       "      <td>sjWvk3DZapZ-9ULAFtDmYw</td>\n",
       "      <td>Bojangles' Famous Chicken 'n Biscuits</td>\n",
       "      <td>4.0</td>\n",
       "      <td>2.705372</td>\n",
       "    </tr>\n",
       "    <tr>\n",
       "      <th>1</th>\n",
       "      <td>7dnh9OrD8LekBwvachGH5Q</td>\n",
       "      <td>The Rigby Pub And Grill</td>\n",
       "      <td>3.0</td>\n",
       "      <td>2.668738</td>\n",
       "    </tr>\n",
       "    <tr>\n",
       "      <th>2</th>\n",
       "      <td>pMefTWo6gMdx8WhYSA2u3w</td>\n",
       "      <td>Sushi-to</td>\n",
       "      <td>4.0</td>\n",
       "      <td>2.064321</td>\n",
       "    </tr>\n",
       "    <tr>\n",
       "      <th>3</th>\n",
       "      <td>2vJ2e51kdbdAmAo_HTr4KQ</td>\n",
       "      <td>Mr. ChopStix</td>\n",
       "      <td>4.0</td>\n",
       "      <td>2.908752</td>\n",
       "    </tr>\n",
       "    <tr>\n",
       "      <th>4</th>\n",
       "      <td>4hBhtCSgoxkrFgHa4YAD-w</td>\n",
       "      <td>Pomodoro Italian Kitchen</td>\n",
       "      <td>4.0</td>\n",
       "      <td>3.026066</td>\n",
       "    </tr>\n",
       "  </tbody>\n",
       "</table>\n",
       "</div>"
      ],
      "text/plain": [
       "                   userid                             restaurant  actual  \\\n",
       "0  sjWvk3DZapZ-9ULAFtDmYw  Bojangles' Famous Chicken 'n Biscuits     4.0   \n",
       "1  7dnh9OrD8LekBwvachGH5Q                The Rigby Pub And Grill     3.0   \n",
       "2  pMefTWo6gMdx8WhYSA2u3w                               Sushi-to     4.0   \n",
       "3  2vJ2e51kdbdAmAo_HTr4KQ                           Mr. ChopStix     4.0   \n",
       "4  4hBhtCSgoxkrFgHa4YAD-w               Pomodoro Italian Kitchen     4.0   \n",
       "\n",
       "   cf_predictions  \n",
       "0        2.705372  \n",
       "1        2.668738  \n",
       "2        2.064321  \n",
       "3        2.908752  \n",
       "4        3.026066  "
      ]
     },
     "execution_count": 172,
     "metadata": {},
     "output_type": "execute_result"
    }
   ],
   "source": [
    "# make predictions on test set\n",
    "\n",
    "test = algo.test(testset)\n",
    "test = pd.DataFrame(test)\n",
    "test.drop(\"details\", inplace=True, axis=1)\n",
    "test.columns = ['userid', 'restaurant', 'actual', 'cf_predictions']\n",
    "test.head()"
   ]
  },
  {
   "cell_type": "code",
   "execution_count": 177,
   "metadata": {},
   "outputs": [
    {
     "name": "stdout",
     "output_type": "stream",
     "text": [
      "MSE: 1.2401169643411953\n",
      "RMSE: 1.1136053898671627\n"
     ]
    }
   ],
   "source": [
    "# evaluate model with MSE and RMSE\n",
    "\n",
    "print(f'MSE: {recmetrics.mse(test.actual, test.cf_predictions)}')\n",
    "print(f'RMSE: {recmetrics.rmse(test.actual, test.cf_predictions)}')"
   ]
  },
  {
   "cell_type": "code",
   "execution_count": 182,
   "metadata": {},
   "outputs": [
    {
     "ename": "ValueError",
     "evalue": "Index contains duplicate entries, cannot reshape",
     "output_type": "error",
     "traceback": [
      "\u001b[1;31m---------------------------------------------------------------------------\u001b[0m",
      "\u001b[1;31mValueError\u001b[0m                                Traceback (most recent call last)",
      "\u001b[1;32m<ipython-input-182-296966dafd64>\u001b[0m in \u001b[0;36m<module>\u001b[1;34m\u001b[0m\n\u001b[0;32m      1\u001b[0m \u001b[1;31m# create matrix of predicted values\u001b[0m\u001b[1;33m\u001b[0m\u001b[1;33m\u001b[0m\u001b[1;33m\u001b[0m\u001b[0m\n\u001b[0;32m      2\u001b[0m \u001b[1;33m\u001b[0m\u001b[0m\n\u001b[1;32m----> 3\u001b[1;33m \u001b[0mcf_model\u001b[0m \u001b[1;33m=\u001b[0m \u001b[0mtest\u001b[0m\u001b[1;33m.\u001b[0m\u001b[0mdrop_duplicates\u001b[0m\u001b[1;33m(\u001b[0m\u001b[1;33m)\u001b[0m\u001b[1;33m.\u001b[0m\u001b[0mpivot\u001b[0m\u001b[1;33m(\u001b[0m\u001b[0mindex\u001b[0m\u001b[1;33m=\u001b[0m\u001b[1;34m'userid'\u001b[0m\u001b[1;33m,\u001b[0m \u001b[0mcolumns\u001b[0m\u001b[1;33m=\u001b[0m\u001b[1;34m'restaurant'\u001b[0m\u001b[1;33m,\u001b[0m \u001b[0mvalues\u001b[0m\u001b[1;33m=\u001b[0m\u001b[1;34m'cf_predictions'\u001b[0m\u001b[1;33m)\u001b[0m\u001b[1;33m.\u001b[0m\u001b[0mfillna\u001b[0m\u001b[1;33m(\u001b[0m\u001b[1;36m0\u001b[0m\u001b[1;33m)\u001b[0m\u001b[1;33m\u001b[0m\u001b[1;33m\u001b[0m\u001b[0m\n\u001b[0m",
      "\u001b[1;32m~\\anaconda3\\lib\\site-packages\\pandas\\core\\frame.py\u001b[0m in \u001b[0;36mpivot\u001b[1;34m(self, index, columns, values)\u001b[0m\n\u001b[0;32m   5921\u001b[0m         \u001b[1;32mfrom\u001b[0m \u001b[0mpandas\u001b[0m\u001b[1;33m.\u001b[0m\u001b[0mcore\u001b[0m\u001b[1;33m.\u001b[0m\u001b[0mreshape\u001b[0m\u001b[1;33m.\u001b[0m\u001b[0mpivot\u001b[0m \u001b[1;32mimport\u001b[0m \u001b[0mpivot\u001b[0m\u001b[1;33m\u001b[0m\u001b[1;33m\u001b[0m\u001b[0m\n\u001b[0;32m   5922\u001b[0m \u001b[1;33m\u001b[0m\u001b[0m\n\u001b[1;32m-> 5923\u001b[1;33m         \u001b[1;32mreturn\u001b[0m \u001b[0mpivot\u001b[0m\u001b[1;33m(\u001b[0m\u001b[0mself\u001b[0m\u001b[1;33m,\u001b[0m \u001b[0mindex\u001b[0m\u001b[1;33m=\u001b[0m\u001b[0mindex\u001b[0m\u001b[1;33m,\u001b[0m \u001b[0mcolumns\u001b[0m\u001b[1;33m=\u001b[0m\u001b[0mcolumns\u001b[0m\u001b[1;33m,\u001b[0m \u001b[0mvalues\u001b[0m\u001b[1;33m=\u001b[0m\u001b[0mvalues\u001b[0m\u001b[1;33m)\u001b[0m\u001b[1;33m\u001b[0m\u001b[1;33m\u001b[0m\u001b[0m\n\u001b[0m\u001b[0;32m   5924\u001b[0m \u001b[1;33m\u001b[0m\u001b[0m\n\u001b[0;32m   5925\u001b[0m     _shared_docs[\n",
      "\u001b[1;32m~\\anaconda3\\lib\\site-packages\\pandas\\core\\reshape\\pivot.py\u001b[0m in \u001b[0;36mpivot\u001b[1;34m(data, index, columns, values)\u001b[0m\n\u001b[0;32m    446\u001b[0m         \u001b[1;32melse\u001b[0m\u001b[1;33m:\u001b[0m\u001b[1;33m\u001b[0m\u001b[1;33m\u001b[0m\u001b[0m\n\u001b[0;32m    447\u001b[0m             \u001b[0mindexed\u001b[0m \u001b[1;33m=\u001b[0m \u001b[0mdata\u001b[0m\u001b[1;33m.\u001b[0m\u001b[0m_constructor_sliced\u001b[0m\u001b[1;33m(\u001b[0m\u001b[0mdata\u001b[0m\u001b[1;33m[\u001b[0m\u001b[0mvalues\u001b[0m\u001b[1;33m]\u001b[0m\u001b[1;33m.\u001b[0m\u001b[0mvalues\u001b[0m\u001b[1;33m,\u001b[0m \u001b[0mindex\u001b[0m\u001b[1;33m=\u001b[0m\u001b[0mindex\u001b[0m\u001b[1;33m)\u001b[0m\u001b[1;33m\u001b[0m\u001b[1;33m\u001b[0m\u001b[0m\n\u001b[1;32m--> 448\u001b[1;33m     \u001b[1;32mreturn\u001b[0m \u001b[0mindexed\u001b[0m\u001b[1;33m.\u001b[0m\u001b[0munstack\u001b[0m\u001b[1;33m(\u001b[0m\u001b[0mcolumns\u001b[0m\u001b[1;33m)\u001b[0m\u001b[1;33m\u001b[0m\u001b[1;33m\u001b[0m\u001b[0m\n\u001b[0m\u001b[0;32m    449\u001b[0m \u001b[1;33m\u001b[0m\u001b[0m\n\u001b[0;32m    450\u001b[0m \u001b[1;33m\u001b[0m\u001b[0m\n",
      "\u001b[1;32m~\\anaconda3\\lib\\site-packages\\pandas\\core\\series.py\u001b[0m in \u001b[0;36munstack\u001b[1;34m(self, level, fill_value)\u001b[0m\n\u001b[0;32m   3548\u001b[0m         \u001b[1;32mfrom\u001b[0m \u001b[0mpandas\u001b[0m\u001b[1;33m.\u001b[0m\u001b[0mcore\u001b[0m\u001b[1;33m.\u001b[0m\u001b[0mreshape\u001b[0m\u001b[1;33m.\u001b[0m\u001b[0mreshape\u001b[0m \u001b[1;32mimport\u001b[0m \u001b[0munstack\u001b[0m\u001b[1;33m\u001b[0m\u001b[1;33m\u001b[0m\u001b[0m\n\u001b[0;32m   3549\u001b[0m \u001b[1;33m\u001b[0m\u001b[0m\n\u001b[1;32m-> 3550\u001b[1;33m         \u001b[1;32mreturn\u001b[0m \u001b[0munstack\u001b[0m\u001b[1;33m(\u001b[0m\u001b[0mself\u001b[0m\u001b[1;33m,\u001b[0m \u001b[0mlevel\u001b[0m\u001b[1;33m,\u001b[0m \u001b[0mfill_value\u001b[0m\u001b[1;33m)\u001b[0m\u001b[1;33m\u001b[0m\u001b[1;33m\u001b[0m\u001b[0m\n\u001b[0m\u001b[0;32m   3551\u001b[0m \u001b[1;33m\u001b[0m\u001b[0m\n\u001b[0;32m   3552\u001b[0m     \u001b[1;31m# ----------------------------------------------------------------------\u001b[0m\u001b[1;33m\u001b[0m\u001b[1;33m\u001b[0m\u001b[1;33m\u001b[0m\u001b[0m\n",
      "\u001b[1;32m~\\anaconda3\\lib\\site-packages\\pandas\\core\\reshape\\reshape.py\u001b[0m in \u001b[0;36munstack\u001b[1;34m(obj, level, fill_value)\u001b[0m\n\u001b[0;32m    417\u001b[0m             \u001b[0mlevel\u001b[0m\u001b[1;33m=\u001b[0m\u001b[0mlevel\u001b[0m\u001b[1;33m,\u001b[0m\u001b[1;33m\u001b[0m\u001b[1;33m\u001b[0m\u001b[0m\n\u001b[0;32m    418\u001b[0m             \u001b[0mfill_value\u001b[0m\u001b[1;33m=\u001b[0m\u001b[0mfill_value\u001b[0m\u001b[1;33m,\u001b[0m\u001b[1;33m\u001b[0m\u001b[1;33m\u001b[0m\u001b[0m\n\u001b[1;32m--> 419\u001b[1;33m             \u001b[0mconstructor\u001b[0m\u001b[1;33m=\u001b[0m\u001b[0mobj\u001b[0m\u001b[1;33m.\u001b[0m\u001b[0m_constructor_expanddim\u001b[0m\u001b[1;33m,\u001b[0m\u001b[1;33m\u001b[0m\u001b[1;33m\u001b[0m\u001b[0m\n\u001b[0m\u001b[0;32m    420\u001b[0m         )\n\u001b[0;32m    421\u001b[0m         \u001b[1;32mreturn\u001b[0m \u001b[0munstacker\u001b[0m\u001b[1;33m.\u001b[0m\u001b[0mget_result\u001b[0m\u001b[1;33m(\u001b[0m\u001b[1;33m)\u001b[0m\u001b[1;33m\u001b[0m\u001b[1;33m\u001b[0m\u001b[0m\n",
      "\u001b[1;32m~\\anaconda3\\lib\\site-packages\\pandas\\core\\reshape\\reshape.py\u001b[0m in \u001b[0;36m__init__\u001b[1;34m(self, values, index, level, value_columns, fill_value, constructor)\u001b[0m\n\u001b[0;32m    139\u001b[0m \u001b[1;33m\u001b[0m\u001b[0m\n\u001b[0;32m    140\u001b[0m         \u001b[0mself\u001b[0m\u001b[1;33m.\u001b[0m\u001b[0m_make_sorted_values_labels\u001b[0m\u001b[1;33m(\u001b[0m\u001b[1;33m)\u001b[0m\u001b[1;33m\u001b[0m\u001b[1;33m\u001b[0m\u001b[0m\n\u001b[1;32m--> 141\u001b[1;33m         \u001b[0mself\u001b[0m\u001b[1;33m.\u001b[0m\u001b[0m_make_selectors\u001b[0m\u001b[1;33m(\u001b[0m\u001b[1;33m)\u001b[0m\u001b[1;33m\u001b[0m\u001b[1;33m\u001b[0m\u001b[0m\n\u001b[0m\u001b[0;32m    142\u001b[0m \u001b[1;33m\u001b[0m\u001b[0m\n\u001b[0;32m    143\u001b[0m     \u001b[1;32mdef\u001b[0m \u001b[0m_make_sorted_values_labels\u001b[0m\u001b[1;33m(\u001b[0m\u001b[0mself\u001b[0m\u001b[1;33m)\u001b[0m\u001b[1;33m:\u001b[0m\u001b[1;33m\u001b[0m\u001b[1;33m\u001b[0m\u001b[0m\n",
      "\u001b[1;32m~\\anaconda3\\lib\\site-packages\\pandas\\core\\reshape\\reshape.py\u001b[0m in \u001b[0;36m_make_selectors\u001b[1;34m(self)\u001b[0m\n\u001b[0;32m    177\u001b[0m \u001b[1;33m\u001b[0m\u001b[0m\n\u001b[0;32m    178\u001b[0m         \u001b[1;32mif\u001b[0m \u001b[0mmask\u001b[0m\u001b[1;33m.\u001b[0m\u001b[0msum\u001b[0m\u001b[1;33m(\u001b[0m\u001b[1;33m)\u001b[0m \u001b[1;33m<\u001b[0m \u001b[0mlen\u001b[0m\u001b[1;33m(\u001b[0m\u001b[0mself\u001b[0m\u001b[1;33m.\u001b[0m\u001b[0mindex\u001b[0m\u001b[1;33m)\u001b[0m\u001b[1;33m:\u001b[0m\u001b[1;33m\u001b[0m\u001b[1;33m\u001b[0m\u001b[0m\n\u001b[1;32m--> 179\u001b[1;33m             \u001b[1;32mraise\u001b[0m \u001b[0mValueError\u001b[0m\u001b[1;33m(\u001b[0m\u001b[1;34m\"Index contains duplicate entries, cannot reshape\"\u001b[0m\u001b[1;33m)\u001b[0m\u001b[1;33m\u001b[0m\u001b[1;33m\u001b[0m\u001b[0m\n\u001b[0m\u001b[0;32m    180\u001b[0m \u001b[1;33m\u001b[0m\u001b[0m\n\u001b[0;32m    181\u001b[0m         \u001b[0mself\u001b[0m\u001b[1;33m.\u001b[0m\u001b[0mgroup_index\u001b[0m \u001b[1;33m=\u001b[0m \u001b[0mcomp_index\u001b[0m\u001b[1;33m\u001b[0m\u001b[1;33m\u001b[0m\u001b[0m\n",
      "\u001b[1;31mValueError\u001b[0m: Index contains duplicate entries, cannot reshape"
     ]
    }
   ],
   "source": [
    "# create matrix of predicted values\n",
    "\n",
    "cf_model = test.pivot(index='userid', columns='restaurant', values='cf_predictions').fillna(0)"
   ]
  },
  {
   "cell_type": "code",
   "execution_count": 183,
   "metadata": {},
   "outputs": [
    {
     "data": {
      "text/html": [
       "<div>\n",
       "<style scoped>\n",
       "    .dataframe tbody tr th:only-of-type {\n",
       "        vertical-align: middle;\n",
       "    }\n",
       "\n",
       "    .dataframe tbody tr th {\n",
       "        vertical-align: top;\n",
       "    }\n",
       "\n",
       "    .dataframe thead th {\n",
       "        text-align: right;\n",
       "    }\n",
       "</style>\n",
       "<table border=\"1\" class=\"dataframe\">\n",
       "  <thead>\n",
       "    <tr style=\"text-align: right;\">\n",
       "      <th></th>\n",
       "      <th>userid</th>\n",
       "      <th>restaurant</th>\n",
       "      <th>actual</th>\n",
       "      <th>cf_predictions</th>\n",
       "    </tr>\n",
       "  </thead>\n",
       "  <tbody>\n",
       "    <tr>\n",
       "      <th>0</th>\n",
       "      <td>sjWvk3DZapZ-9ULAFtDmYw</td>\n",
       "      <td>Bojangles' Famous Chicken 'n Biscuits</td>\n",
       "      <td>4.0</td>\n",
       "      <td>2.705372</td>\n",
       "    </tr>\n",
       "    <tr>\n",
       "      <th>1</th>\n",
       "      <td>7dnh9OrD8LekBwvachGH5Q</td>\n",
       "      <td>The Rigby Pub And Grill</td>\n",
       "      <td>3.0</td>\n",
       "      <td>2.668738</td>\n",
       "    </tr>\n",
       "    <tr>\n",
       "      <th>2</th>\n",
       "      <td>pMefTWo6gMdx8WhYSA2u3w</td>\n",
       "      <td>Sushi-to</td>\n",
       "      <td>4.0</td>\n",
       "      <td>2.064321</td>\n",
       "    </tr>\n",
       "    <tr>\n",
       "      <th>3</th>\n",
       "      <td>2vJ2e51kdbdAmAo_HTr4KQ</td>\n",
       "      <td>Mr. ChopStix</td>\n",
       "      <td>4.0</td>\n",
       "      <td>2.908752</td>\n",
       "    </tr>\n",
       "    <tr>\n",
       "      <th>4</th>\n",
       "      <td>4hBhtCSgoxkrFgHa4YAD-w</td>\n",
       "      <td>Pomodoro Italian Kitchen</td>\n",
       "      <td>4.0</td>\n",
       "      <td>3.026066</td>\n",
       "    </tr>\n",
       "    <tr>\n",
       "      <th>...</th>\n",
       "      <td>...</td>\n",
       "      <td>...</td>\n",
       "      <td>...</td>\n",
       "      <td>...</td>\n",
       "    </tr>\n",
       "    <tr>\n",
       "      <th>72499</th>\n",
       "      <td>TJNkg75ODHabE5GBfV5wRQ</td>\n",
       "      <td>Biscuits</td>\n",
       "      <td>5.0</td>\n",
       "      <td>3.504009</td>\n",
       "    </tr>\n",
       "    <tr>\n",
       "      <th>72500</th>\n",
       "      <td>D2ljL5ejuqpa4f8fnZ1qjw</td>\n",
       "      <td>East Side Mario's</td>\n",
       "      <td>5.0</td>\n",
       "      <td>3.976322</td>\n",
       "    </tr>\n",
       "    <tr>\n",
       "      <th>72501</th>\n",
       "      <td>YBT3EKUNN4IP8m4x7sGu1g</td>\n",
       "      <td>Panda Express</td>\n",
       "      <td>5.0</td>\n",
       "      <td>4.107673</td>\n",
       "    </tr>\n",
       "    <tr>\n",
       "      <th>72502</th>\n",
       "      <td>hPtsSzp5ymjJU9h-6QAoXA</td>\n",
       "      <td>Oja Noodles House</td>\n",
       "      <td>4.0</td>\n",
       "      <td>4.235665</td>\n",
       "    </tr>\n",
       "    <tr>\n",
       "      <th>72503</th>\n",
       "      <td>SfY0jEFqBkrqq9bVi6P31Q</td>\n",
       "      <td>Calgary Shawarma</td>\n",
       "      <td>4.0</td>\n",
       "      <td>3.496225</td>\n",
       "    </tr>\n",
       "  </tbody>\n",
       "</table>\n",
       "<p>72504 rows × 4 columns</p>\n",
       "</div>"
      ],
      "text/plain": [
       "                       userid                             restaurant  actual  \\\n",
       "0      sjWvk3DZapZ-9ULAFtDmYw  Bojangles' Famous Chicken 'n Biscuits     4.0   \n",
       "1      7dnh9OrD8LekBwvachGH5Q                The Rigby Pub And Grill     3.0   \n",
       "2      pMefTWo6gMdx8WhYSA2u3w                               Sushi-to     4.0   \n",
       "3      2vJ2e51kdbdAmAo_HTr4KQ                           Mr. ChopStix     4.0   \n",
       "4      4hBhtCSgoxkrFgHa4YAD-w               Pomodoro Italian Kitchen     4.0   \n",
       "...                       ...                                    ...     ...   \n",
       "72499  TJNkg75ODHabE5GBfV5wRQ                               Biscuits     5.0   \n",
       "72500  D2ljL5ejuqpa4f8fnZ1qjw                      East Side Mario's     5.0   \n",
       "72501  YBT3EKUNN4IP8m4x7sGu1g                          Panda Express     5.0   \n",
       "72502  hPtsSzp5ymjJU9h-6QAoXA                      Oja Noodles House     4.0   \n",
       "72503  SfY0jEFqBkrqq9bVi6P31Q                       Calgary Shawarma     4.0   \n",
       "\n",
       "       cf_predictions  \n",
       "0            2.705372  \n",
       "1            2.668738  \n",
       "2            2.064321  \n",
       "3            2.908752  \n",
       "4            3.026066  \n",
       "...               ...  \n",
       "72499        3.504009  \n",
       "72500        3.976322  \n",
       "72501        4.107673  \n",
       "72502        4.235665  \n",
       "72503        3.496225  \n",
       "\n",
       "[72504 rows x 4 columns]"
      ]
     },
     "execution_count": 183,
     "metadata": {},
     "output_type": "execute_result"
    }
   ],
   "source": [
    "test"
   ]
  },
  {
   "cell_type": "code",
   "execution_count": 181,
   "metadata": {},
   "outputs": [
    {
     "data": {
      "text/html": [
       "<div>\n",
       "<style scoped>\n",
       "    .dataframe tbody tr th:only-of-type {\n",
       "        vertical-align: middle;\n",
       "    }\n",
       "\n",
       "    .dataframe tbody tr th {\n",
       "        vertical-align: top;\n",
       "    }\n",
       "\n",
       "    .dataframe thead th {\n",
       "        text-align: right;\n",
       "    }\n",
       "</style>\n",
       "<table border=\"1\" class=\"dataframe\">\n",
       "  <thead>\n",
       "    <tr style=\"text-align: right;\">\n",
       "      <th></th>\n",
       "      <th>userid</th>\n",
       "      <th>restaurant</th>\n",
       "      <th>actual</th>\n",
       "      <th>cf_predictions</th>\n",
       "    </tr>\n",
       "  </thead>\n",
       "  <tbody>\n",
       "    <tr>\n",
       "      <th>3730</th>\n",
       "      <td>4IZxXA8XxeUXEjNf6yZamw</td>\n",
       "      <td>Chipotle Mexican Grill</td>\n",
       "      <td>3.0</td>\n",
       "      <td>2.451027</td>\n",
       "    </tr>\n",
       "    <tr>\n",
       "      <th>3738</th>\n",
       "      <td>tBANVdxh_if10BXv6YsLmg</td>\n",
       "      <td>The Main Ingredient Ale House And CafÃ©</td>\n",
       "      <td>5.0</td>\n",
       "      <td>3.301571</td>\n",
       "    </tr>\n",
       "    <tr>\n",
       "      <th>4477</th>\n",
       "      <td>z_tqPytGQF_tDw_buHKJcw</td>\n",
       "      <td>Alquisiras Paleteria</td>\n",
       "      <td>4.0</td>\n",
       "      <td>4.755405</td>\n",
       "    </tr>\n",
       "    <tr>\n",
       "      <th>4494</th>\n",
       "      <td>U4INQZOPSUaj8hMjLlZ3KA</td>\n",
       "      <td>Crisp</td>\n",
       "      <td>5.0</td>\n",
       "      <td>4.971641</td>\n",
       "    </tr>\n",
       "    <tr>\n",
       "      <th>4768</th>\n",
       "      <td>cyuDrrG5eEK-TZI867MUPA</td>\n",
       "      <td>Wokin Express</td>\n",
       "      <td>3.0</td>\n",
       "      <td>3.131891</td>\n",
       "    </tr>\n",
       "    <tr>\n",
       "      <th>...</th>\n",
       "      <td>...</td>\n",
       "      <td>...</td>\n",
       "      <td>...</td>\n",
       "      <td>...</td>\n",
       "    </tr>\n",
       "    <tr>\n",
       "      <th>72442</th>\n",
       "      <td>-aV7azrzW2rlAm6G4DA-cw</td>\n",
       "      <td>Enigma Coffee and Food</td>\n",
       "      <td>5.0</td>\n",
       "      <td>4.950662</td>\n",
       "    </tr>\n",
       "    <tr>\n",
       "      <th>72455</th>\n",
       "      <td>JjrpeIkmuhk9Ab_5HEsqyw</td>\n",
       "      <td>Villa Italian Kitchen</td>\n",
       "      <td>4.0</td>\n",
       "      <td>3.183144</td>\n",
       "    </tr>\n",
       "    <tr>\n",
       "      <th>72466</th>\n",
       "      <td>qKJEQrFtW33HWqKzvn3U4A</td>\n",
       "      <td>Choolaah Indian BBQ</td>\n",
       "      <td>3.0</td>\n",
       "      <td>3.319245</td>\n",
       "    </tr>\n",
       "    <tr>\n",
       "      <th>72477</th>\n",
       "      <td>WfZFj0OH9tuOdxEfSaM1vA</td>\n",
       "      <td>Mesquite Grille</td>\n",
       "      <td>5.0</td>\n",
       "      <td>4.186807</td>\n",
       "    </tr>\n",
       "    <tr>\n",
       "      <th>72501</th>\n",
       "      <td>YBT3EKUNN4IP8m4x7sGu1g</td>\n",
       "      <td>Panda Express</td>\n",
       "      <td>5.0</td>\n",
       "      <td>4.107673</td>\n",
       "    </tr>\n",
       "  </tbody>\n",
       "</table>\n",
       "<p>1226 rows × 4 columns</p>\n",
       "</div>"
      ],
      "text/plain": [
       "                       userid                               restaurant  \\\n",
       "3730   4IZxXA8XxeUXEjNf6yZamw                   Chipotle Mexican Grill   \n",
       "3738   tBANVdxh_if10BXv6YsLmg  The Main Ingredient Ale House And CafÃ©   \n",
       "4477   z_tqPytGQF_tDw_buHKJcw                     Alquisiras Paleteria   \n",
       "4494   U4INQZOPSUaj8hMjLlZ3KA                                    Crisp   \n",
       "4768   cyuDrrG5eEK-TZI867MUPA                            Wokin Express   \n",
       "...                       ...                                      ...   \n",
       "72442  -aV7azrzW2rlAm6G4DA-cw                   Enigma Coffee and Food   \n",
       "72455  JjrpeIkmuhk9Ab_5HEsqyw                    Villa Italian Kitchen   \n",
       "72466  qKJEQrFtW33HWqKzvn3U4A                      Choolaah Indian BBQ   \n",
       "72477  WfZFj0OH9tuOdxEfSaM1vA                          Mesquite Grille   \n",
       "72501  YBT3EKUNN4IP8m4x7sGu1g                            Panda Express   \n",
       "\n",
       "       actual  cf_predictions  \n",
       "3730      3.0        2.451027  \n",
       "3738      5.0        3.301571  \n",
       "4477      4.0        4.755405  \n",
       "4494      5.0        4.971641  \n",
       "4768      3.0        3.131891  \n",
       "...       ...             ...  \n",
       "72442     5.0        4.950662  \n",
       "72455     4.0        3.183144  \n",
       "72466     3.0        3.319245  \n",
       "72477     5.0        4.186807  \n",
       "72501     5.0        4.107673  \n",
       "\n",
       "[1226 rows x 4 columns]"
      ]
     },
     "execution_count": 181,
     "metadata": {},
     "output_type": "execute_result"
    }
   ],
   "source": [
    "test[test.duplicated()]"
   ]
  },
  {
   "cell_type": "markdown",
   "metadata": {},
   "source": [
    "## Recommender system using NLP"
   ]
  },
  {
   "cell_type": "code",
   "execution_count": null,
   "metadata": {},
   "outputs": [],
   "source": []
  }
 ],
 "metadata": {
  "kernelspec": {
   "display_name": "Python 3",
   "language": "python",
   "name": "python3"
  },
  "language_info": {
   "codemirror_mode": {
    "name": "ipython",
    "version": 3
   },
   "file_extension": ".py",
   "mimetype": "text/x-python",
   "name": "python",
   "nbconvert_exporter": "python",
   "pygments_lexer": "ipython3",
   "version": "3.7.6"
  }
 },
 "nbformat": 4,
 "nbformat_minor": 4
}
